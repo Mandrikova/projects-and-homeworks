{
 "cells": [
  {
   "cell_type": "code",
   "execution_count": 1,
   "metadata": {
    "tags": []
   },
   "outputs": [],
   "source": [
    "from sklearn import tree\n",
    "import pandas as pd\n",
    "import matplotlib.pyplot as plt\n",
    "import seaborn as sns\n",
    "%matplotlib inline\n",
    "import numpy as np"
   ]
  },
  {
   "cell_type": "code",
   "execution_count": 2,
   "metadata": {},
   "outputs": [],
   "source": [
    "from sklearn.ensemble import RandomForestClassifier\n",
    "from sklearn.model_selection import GridSearchCV"
   ]
  },
  {
   "cell_type": "code",
   "execution_count": 3,
   "metadata": {},
   "outputs": [],
   "source": [
    "data = pd.read_csv('training_mush.csv')"
   ]
  },
  {
   "cell_type": "code",
   "execution_count": 4,
   "metadata": {},
   "outputs": [
    {
     "data": {
      "text/html": [
       "<div>\n",
       "<style scoped>\n",
       "    .dataframe tbody tr th:only-of-type {\n",
       "        vertical-align: middle;\n",
       "    }\n",
       "\n",
       "    .dataframe tbody tr th {\n",
       "        vertical-align: top;\n",
       "    }\n",
       "\n",
       "    .dataframe thead th {\n",
       "        text-align: right;\n",
       "    }\n",
       "</style>\n",
       "<table border=\"1\" class=\"dataframe\">\n",
       "  <thead>\n",
       "    <tr style=\"text-align: right;\">\n",
       "      <th></th>\n",
       "      <th>cap-shape</th>\n",
       "      <th>cap-surface</th>\n",
       "      <th>cap-color</th>\n",
       "      <th>bruises</th>\n",
       "      <th>odor</th>\n",
       "      <th>gill-attachment</th>\n",
       "      <th>gill-spacing</th>\n",
       "      <th>gill-size</th>\n",
       "      <th>gill-color</th>\n",
       "      <th>stalk-shape</th>\n",
       "      <th>...</th>\n",
       "      <th>stalk-color-above-ring</th>\n",
       "      <th>stalk-color-below-ring</th>\n",
       "      <th>veil-type</th>\n",
       "      <th>veil-color</th>\n",
       "      <th>ring-number</th>\n",
       "      <th>ring-type</th>\n",
       "      <th>spore-print-color</th>\n",
       "      <th>population</th>\n",
       "      <th>habitat</th>\n",
       "      <th>class</th>\n",
       "    </tr>\n",
       "  </thead>\n",
       "  <tbody>\n",
       "    <tr>\n",
       "      <th>0</th>\n",
       "      <td>2</td>\n",
       "      <td>0</td>\n",
       "      <td>3</td>\n",
       "      <td>1</td>\n",
       "      <td>5</td>\n",
       "      <td>1</td>\n",
       "      <td>0</td>\n",
       "      <td>0</td>\n",
       "      <td>9</td>\n",
       "      <td>1</td>\n",
       "      <td>...</td>\n",
       "      <td>3</td>\n",
       "      <td>7</td>\n",
       "      <td>0</td>\n",
       "      <td>2</td>\n",
       "      <td>1</td>\n",
       "      <td>4</td>\n",
       "      <td>3</td>\n",
       "      <td>5</td>\n",
       "      <td>0</td>\n",
       "      <td>0</td>\n",
       "    </tr>\n",
       "    <tr>\n",
       "      <th>1</th>\n",
       "      <td>2</td>\n",
       "      <td>0</td>\n",
       "      <td>4</td>\n",
       "      <td>0</td>\n",
       "      <td>5</td>\n",
       "      <td>1</td>\n",
       "      <td>0</td>\n",
       "      <td>1</td>\n",
       "      <td>10</td>\n",
       "      <td>0</td>\n",
       "      <td>...</td>\n",
       "      <td>7</td>\n",
       "      <td>4</td>\n",
       "      <td>0</td>\n",
       "      <td>2</td>\n",
       "      <td>1</td>\n",
       "      <td>0</td>\n",
       "      <td>7</td>\n",
       "      <td>4</td>\n",
       "      <td>0</td>\n",
       "      <td>1</td>\n",
       "    </tr>\n",
       "    <tr>\n",
       "      <th>2</th>\n",
       "      <td>2</td>\n",
       "      <td>0</td>\n",
       "      <td>3</td>\n",
       "      <td>0</td>\n",
       "      <td>2</td>\n",
       "      <td>1</td>\n",
       "      <td>0</td>\n",
       "      <td>0</td>\n",
       "      <td>7</td>\n",
       "      <td>0</td>\n",
       "      <td>...</td>\n",
       "      <td>0</td>\n",
       "      <td>4</td>\n",
       "      <td>0</td>\n",
       "      <td>2</td>\n",
       "      <td>1</td>\n",
       "      <td>2</td>\n",
       "      <td>1</td>\n",
       "      <td>5</td>\n",
       "      <td>1</td>\n",
       "      <td>1</td>\n",
       "    </tr>\n",
       "    <tr>\n",
       "      <th>3</th>\n",
       "      <td>0</td>\n",
       "      <td>0</td>\n",
       "      <td>3</td>\n",
       "      <td>0</td>\n",
       "      <td>5</td>\n",
       "      <td>1</td>\n",
       "      <td>1</td>\n",
       "      <td>0</td>\n",
       "      <td>2</td>\n",
       "      <td>0</td>\n",
       "      <td>...</td>\n",
       "      <td>7</td>\n",
       "      <td>7</td>\n",
       "      <td>0</td>\n",
       "      <td>2</td>\n",
       "      <td>2</td>\n",
       "      <td>4</td>\n",
       "      <td>7</td>\n",
       "      <td>3</td>\n",
       "      <td>1</td>\n",
       "      <td>0</td>\n",
       "    </tr>\n",
       "    <tr>\n",
       "      <th>4</th>\n",
       "      <td>2</td>\n",
       "      <td>3</td>\n",
       "      <td>3</td>\n",
       "      <td>1</td>\n",
       "      <td>5</td>\n",
       "      <td>1</td>\n",
       "      <td>0</td>\n",
       "      <td>0</td>\n",
       "      <td>10</td>\n",
       "      <td>1</td>\n",
       "      <td>...</td>\n",
       "      <td>3</td>\n",
       "      <td>6</td>\n",
       "      <td>0</td>\n",
       "      <td>2</td>\n",
       "      <td>1</td>\n",
       "      <td>4</td>\n",
       "      <td>2</td>\n",
       "      <td>5</td>\n",
       "      <td>0</td>\n",
       "      <td>0</td>\n",
       "    </tr>\n",
       "  </tbody>\n",
       "</table>\n",
       "<p>5 rows × 23 columns</p>\n",
       "</div>"
      ],
      "text/plain": [
       "   cap-shape  cap-surface  cap-color  bruises  odor  gill-attachment  \\\n",
       "0          2            0          3        1     5                1   \n",
       "1          2            0          4        0     5                1   \n",
       "2          2            0          3        0     2                1   \n",
       "3          0            0          3        0     5                1   \n",
       "4          2            3          3        1     5                1   \n",
       "\n",
       "   gill-spacing  gill-size  gill-color  stalk-shape  ...  \\\n",
       "0             0          0           9            1  ...   \n",
       "1             0          1          10            0  ...   \n",
       "2             0          0           7            0  ...   \n",
       "3             1          0           2            0  ...   \n",
       "4             0          0          10            1  ...   \n",
       "\n",
       "   stalk-color-above-ring  stalk-color-below-ring  veil-type  veil-color  \\\n",
       "0                       3                       7          0           2   \n",
       "1                       7                       4          0           2   \n",
       "2                       0                       4          0           2   \n",
       "3                       7                       7          0           2   \n",
       "4                       3                       6          0           2   \n",
       "\n",
       "   ring-number  ring-type  spore-print-color  population  habitat  class  \n",
       "0            1          4                  3           5        0      0  \n",
       "1            1          0                  7           4        0      1  \n",
       "2            1          2                  1           5        1      1  \n",
       "3            2          4                  7           3        1      0  \n",
       "4            1          4                  2           5        0      0  \n",
       "\n",
       "[5 rows x 23 columns]"
      ]
     },
     "execution_count": 4,
     "metadata": {},
     "output_type": "execute_result"
    }
   ],
   "source": [
    "data.head()"
   ]
  },
  {
   "cell_type": "code",
   "execution_count": 5,
   "metadata": {},
   "outputs": [],
   "source": [
    "X_train = data.drop('class', axis=1)"
   ]
  },
  {
   "cell_type": "code",
   "execution_count": 6,
   "metadata": {},
   "outputs": [],
   "source": [
    "y_train = data['class']"
   ]
  },
  {
   "cell_type": "code",
   "execution_count": 7,
   "metadata": {},
   "outputs": [],
   "source": [
    "parametrs = {'n_estimators':range(10, 50, 10), 'max_depth':range(1, 12, 2), 'min_samples_leaf':range(1, 7),\\\n",
    "             'min_samples_split':range(2, 9, 2)}\n",
    "rf = RandomForestClassifier(random_state=0)"
   ]
  },
  {
   "cell_type": "code",
   "execution_count": 8,
   "metadata": {},
   "outputs": [],
   "source": [
    "grid_search_cv_clf = GridSearchCV(rf, parametrs, cv = 3, n_jobs=-1, verbose=1)"
   ]
  },
  {
   "cell_type": "code",
   "execution_count": 9,
   "metadata": {},
   "outputs": [
    {
     "name": "stdout",
     "output_type": "stream",
     "text": [
      "Fitting 3 folds for each of 576 candidates, totalling 1728 fits\n"
     ]
    },
    {
     "data": {
      "text/plain": [
       "GridSearchCV(cv=3, estimator=RandomForestClassifier(random_state=0), n_jobs=-1,\n",
       "             param_grid={'max_depth': range(1, 12, 2),\n",
       "                         'min_samples_leaf': range(1, 7),\n",
       "                         'min_samples_split': range(2, 9, 2),\n",
       "                         'n_estimators': range(10, 50, 10)},\n",
       "             verbose=1)"
      ]
     },
     "execution_count": 9,
     "metadata": {},
     "output_type": "execute_result"
    }
   ],
   "source": [
    "grid_search_cv_clf.fit(X_train, y_train)"
   ]
  },
  {
   "cell_type": "code",
   "execution_count": 10,
   "metadata": {},
   "outputs": [
    {
     "data": {
      "text/plain": [
       "{'max_depth': 9,\n",
       " 'min_samples_leaf': 1,\n",
       " 'min_samples_split': 2,\n",
       " 'n_estimators': 10}"
      ]
     },
     "execution_count": 10,
     "metadata": {},
     "output_type": "execute_result"
    }
   ],
   "source": [
    "grid_search_cv_clf.best_params_"
   ]
  },
  {
   "cell_type": "code",
   "execution_count": 11,
   "metadata": {},
   "outputs": [],
   "source": [
    "best_clf = grid_search_cv_clf.best_estimator_"
   ]
  },
  {
   "cell_type": "code",
   "execution_count": 12,
   "metadata": {},
   "outputs": [],
   "source": [
    "feature_importances = best_clf.feature_importances_"
   ]
  },
  {
   "cell_type": "code",
   "execution_count": 13,
   "metadata": {},
   "outputs": [],
   "source": [
    "feature_importances_df = pd.DataFrame({'features':list(X_train), 'feature_importances':feature_importances})"
   ]
  },
  {
   "cell_type": "code",
   "execution_count": 14,
   "metadata": {},
   "outputs": [],
   "source": [
    "feature_importances_df = feature_importances_df.sort_values('feature_importances', ascending=False)"
   ]
  },
  {
   "cell_type": "code",
   "execution_count": 15,
   "metadata": {},
   "outputs": [
    {
     "data": {
      "text/html": [
       "<div>\n",
       "<style scoped>\n",
       "    .dataframe tbody tr th:only-of-type {\n",
       "        vertical-align: middle;\n",
       "    }\n",
       "\n",
       "    .dataframe tbody tr th {\n",
       "        vertical-align: top;\n",
       "    }\n",
       "\n",
       "    .dataframe thead th {\n",
       "        text-align: right;\n",
       "    }\n",
       "</style>\n",
       "<table border=\"1\" class=\"dataframe\">\n",
       "  <thead>\n",
       "    <tr style=\"text-align: right;\">\n",
       "      <th></th>\n",
       "      <th>features</th>\n",
       "      <th>feature_importances</th>\n",
       "    </tr>\n",
       "  </thead>\n",
       "  <tbody>\n",
       "    <tr>\n",
       "      <th>4</th>\n",
       "      <td>odor</td>\n",
       "      <td>0.188376</td>\n",
       "    </tr>\n",
       "    <tr>\n",
       "      <th>8</th>\n",
       "      <td>gill-color</td>\n",
       "      <td>0.103861</td>\n",
       "    </tr>\n",
       "    <tr>\n",
       "      <th>10</th>\n",
       "      <td>stalk-root</td>\n",
       "      <td>0.103793</td>\n",
       "    </tr>\n",
       "    <tr>\n",
       "      <th>19</th>\n",
       "      <td>spore-print-color</td>\n",
       "      <td>0.083564</td>\n",
       "    </tr>\n",
       "    <tr>\n",
       "      <th>6</th>\n",
       "      <td>gill-spacing</td>\n",
       "      <td>0.080840</td>\n",
       "    </tr>\n",
       "  </tbody>\n",
       "</table>\n",
       "</div>"
      ],
      "text/plain": [
       "             features  feature_importances\n",
       "4                odor             0.188376\n",
       "8          gill-color             0.103861\n",
       "10         stalk-root             0.103793\n",
       "19  spore-print-color             0.083564\n",
       "6        gill-spacing             0.080840"
      ]
     },
     "execution_count": 15,
     "metadata": {},
     "output_type": "execute_result"
    }
   ],
   "source": [
    "feature_importances_df.head()"
   ]
  },
  {
   "cell_type": "code",
   "execution_count": 16,
   "metadata": {},
   "outputs": [
    {
     "data": {
      "image/png": "[encoded data removed]",
      "text/plain": [
       "<Figure size 432x432 with 1 Axes>"
      ]
     },
     "metadata": {
      "needs_background": "light"
     },
     "output_type": "display_data"
    }
   ],
   "source": [
    "f, ax = plt.subplots(figsize=(6, 6))\n",
    "sns.barplot(y=feature_importances_df.features, x=feature_importances_df.feature_importances)\n",
    "\n",
    "plt.xlabel('Важность атрибутов')\n",
    "plt.ylabel('Атрибуты')\n",
    "plt.title(\"Наиболее важные атрибуты\")\n",
    "plt.show()"
   ]
  },
  {
   "cell_type": "code",
   "execution_count": 17,
   "metadata": {},
   "outputs": [],
   "source": [
    "test = pd.read_csv('testing_mush.csv')"
   ]
  },
  {
   "cell_type": "code",
   "execution_count": 18,
   "metadata": {},
   "outputs": [
    {
     "data": {
      "text/html": [
       "<div>\n",
       "<style scoped>\n",
       "    .dataframe tbody tr th:only-of-type {\n",
       "        vertical-align: middle;\n",
       "    }\n",
       "\n",
       "    .dataframe tbody tr th {\n",
       "        vertical-align: top;\n",
       "    }\n",
       "\n",
       "    .dataframe thead th {\n",
       "        text-align: right;\n",
       "    }\n",
       "</style>\n",
       "<table border=\"1\" class=\"dataframe\">\n",
       "  <thead>\n",
       "    <tr style=\"text-align: right;\">\n",
       "      <th></th>\n",
       "      <th>cap-shape</th>\n",
       "      <th>cap-surface</th>\n",
       "      <th>cap-color</th>\n",
       "      <th>bruises</th>\n",
       "      <th>odor</th>\n",
       "      <th>gill-attachment</th>\n",
       "      <th>gill-spacing</th>\n",
       "      <th>gill-size</th>\n",
       "      <th>gill-color</th>\n",
       "      <th>stalk-shape</th>\n",
       "      <th>...</th>\n",
       "      <th>stalk-surface-below-ring</th>\n",
       "      <th>stalk-color-above-ring</th>\n",
       "      <th>stalk-color-below-ring</th>\n",
       "      <th>veil-type</th>\n",
       "      <th>veil-color</th>\n",
       "      <th>ring-number</th>\n",
       "      <th>ring-type</th>\n",
       "      <th>spore-print-color</th>\n",
       "      <th>population</th>\n",
       "      <th>habitat</th>\n",
       "    </tr>\n",
       "  </thead>\n",
       "  <tbody>\n",
       "    <tr>\n",
       "      <th>0</th>\n",
       "      <td>0</td>\n",
       "      <td>3</td>\n",
       "      <td>8</td>\n",
       "      <td>1</td>\n",
       "      <td>3</td>\n",
       "      <td>1</td>\n",
       "      <td>0</td>\n",
       "      <td>0</td>\n",
       "      <td>4</td>\n",
       "      <td>0</td>\n",
       "      <td>...</td>\n",
       "      <td>2</td>\n",
       "      <td>7</td>\n",
       "      <td>7</td>\n",
       "      <td>0</td>\n",
       "      <td>2</td>\n",
       "      <td>1</td>\n",
       "      <td>4</td>\n",
       "      <td>2</td>\n",
       "      <td>3</td>\n",
       "      <td>3</td>\n",
       "    </tr>\n",
       "    <tr>\n",
       "      <th>1</th>\n",
       "      <td>5</td>\n",
       "      <td>3</td>\n",
       "      <td>4</td>\n",
       "      <td>1</td>\n",
       "      <td>5</td>\n",
       "      <td>1</td>\n",
       "      <td>0</td>\n",
       "      <td>0</td>\n",
       "      <td>10</td>\n",
       "      <td>1</td>\n",
       "      <td>...</td>\n",
       "      <td>2</td>\n",
       "      <td>6</td>\n",
       "      <td>6</td>\n",
       "      <td>0</td>\n",
       "      <td>2</td>\n",
       "      <td>1</td>\n",
       "      <td>4</td>\n",
       "      <td>3</td>\n",
       "      <td>5</td>\n",
       "      <td>0</td>\n",
       "    </tr>\n",
       "    <tr>\n",
       "      <th>2</th>\n",
       "      <td>3</td>\n",
       "      <td>3</td>\n",
       "      <td>4</td>\n",
       "      <td>0</td>\n",
       "      <td>8</td>\n",
       "      <td>1</td>\n",
       "      <td>0</td>\n",
       "      <td>1</td>\n",
       "      <td>0</td>\n",
       "      <td>1</td>\n",
       "      <td>...</td>\n",
       "      <td>2</td>\n",
       "      <td>7</td>\n",
       "      <td>6</td>\n",
       "      <td>0</td>\n",
       "      <td>2</td>\n",
       "      <td>1</td>\n",
       "      <td>0</td>\n",
       "      <td>7</td>\n",
       "      <td>4</td>\n",
       "      <td>4</td>\n",
       "    </tr>\n",
       "    <tr>\n",
       "      <th>3</th>\n",
       "      <td>3</td>\n",
       "      <td>2</td>\n",
       "      <td>2</td>\n",
       "      <td>0</td>\n",
       "      <td>7</td>\n",
       "      <td>1</td>\n",
       "      <td>0</td>\n",
       "      <td>1</td>\n",
       "      <td>0</td>\n",
       "      <td>1</td>\n",
       "      <td>...</td>\n",
       "      <td>1</td>\n",
       "      <td>6</td>\n",
       "      <td>7</td>\n",
       "      <td>0</td>\n",
       "      <td>2</td>\n",
       "      <td>1</td>\n",
       "      <td>0</td>\n",
       "      <td>7</td>\n",
       "      <td>4</td>\n",
       "      <td>0</td>\n",
       "    </tr>\n",
       "    <tr>\n",
       "      <th>4</th>\n",
       "      <td>3</td>\n",
       "      <td>2</td>\n",
       "      <td>2</td>\n",
       "      <td>0</td>\n",
       "      <td>8</td>\n",
       "      <td>1</td>\n",
       "      <td>0</td>\n",
       "      <td>1</td>\n",
       "      <td>0</td>\n",
       "      <td>1</td>\n",
       "      <td>...</td>\n",
       "      <td>1</td>\n",
       "      <td>6</td>\n",
       "      <td>6</td>\n",
       "      <td>0</td>\n",
       "      <td>2</td>\n",
       "      <td>1</td>\n",
       "      <td>0</td>\n",
       "      <td>7</td>\n",
       "      <td>4</td>\n",
       "      <td>4</td>\n",
       "    </tr>\n",
       "  </tbody>\n",
       "</table>\n",
       "<p>5 rows × 22 columns</p>\n",
       "</div>"
      ],
      "text/plain": [
       "   cap-shape  cap-surface  cap-color  bruises  odor  gill-attachment  \\\n",
       "0          0            3          8        1     3                1   \n",
       "1          5            3          4        1     5                1   \n",
       "2          3            3          4        0     8                1   \n",
       "3          3            2          2        0     7                1   \n",
       "4          3            2          2        0     8                1   \n",
       "\n",
       "   gill-spacing  gill-size  gill-color  stalk-shape  ...  \\\n",
       "0             0          0           4            0  ...   \n",
       "1             0          0          10            1  ...   \n",
       "2             0          1           0            1  ...   \n",
       "3             0          1           0            1  ...   \n",
       "4             0          1           0            1  ...   \n",
       "\n",
       "   stalk-surface-below-ring  stalk-color-above-ring  stalk-color-below-ring  \\\n",
       "0                         2                       7                       7   \n",
       "1                         2                       6                       6   \n",
       "2                         2                       7                       6   \n",
       "3                         1                       6                       7   \n",
       "4                         1                       6                       6   \n",
       "\n",
       "   veil-type  veil-color  ring-number  ring-type  spore-print-color  \\\n",
       "0          0           2            1          4                  2   \n",
       "1          0           2            1          4                  3   \n",
       "2          0           2            1          0                  7   \n",
       "3          0           2            1          0                  7   \n",
       "4          0           2            1          0                  7   \n",
       "\n",
       "   population  habitat  \n",
       "0           3        3  \n",
       "1           5        0  \n",
       "2           4        4  \n",
       "3           4        0  \n",
       "4           4        4  \n",
       "\n",
       "[5 rows x 22 columns]"
      ]
     },
     "execution_count": 18,
     "metadata": {},
     "output_type": "execute_result"
    }
   ],
   "source": [
    "test.head()"
   ]
  },
  {
   "cell_type": "code",
   "execution_count": 19,
   "metadata": {},
   "outputs": [],
   "source": [
    "y_pred = best_clf.predict(test)"
   ]
  },
  {
   "cell_type": "code",
   "execution_count": 20,
   "metadata": {},
   "outputs": [
    {
     "data": {
      "text/plain": [
       "976"
      ]
     },
     "execution_count": 20,
     "metadata": {},
     "output_type": "execute_result"
    }
   ],
   "source": [
    "y_pred.sum()"
   ]
  },
  {
   "cell_type": "code",
   "execution_count": 21,
   "metadata": {},
   "outputs": [
    {
     "data": {
      "text/plain": [
       "0    1055\n",
       "1     976\n",
       "dtype: int64"
      ]
     },
     "execution_count": 21,
     "metadata": {},
     "output_type": "execute_result"
    }
   ],
   "source": [
    "pd.Series(y_pred).value_counts()"
   ]
  },
  {
   "cell_type": "code",
   "execution_count": 22,
   "metadata": {},
   "outputs": [],
   "source": [
    "y = pd.read_csv('testing_y_mush.csv')"
   ]
  },
  {
   "cell_type": "code",
   "execution_count": 23,
   "metadata": {},
   "outputs": [],
   "source": [
    "from sklearn.metrics import confusion_matrix\n",
    "\n",
    "df = confusion_matrix(y, y_pred)"
   ]
  },
  {
   "cell_type": "code",
   "execution_count": 24,
   "metadata": {},
   "outputs": [
    {
     "data": {
      "text/plain": [
       "<AxesSubplot:>"
      ]
     },
     "execution_count": 24,
     "metadata": {},
     "output_type": "execute_result"
    },
    {
     "data": {
      "image/png": "[encoded data removed]",
      "text/plain": [
       "<Figure size 432x288 with 2 Axes>"
      ]
     },
     "metadata": {
      "needs_background": "light"
     },
     "output_type": "display_data"
    }
   ],
   "source": [
    "sns.heatmap(df, annot=True, cmap=\"Blues\")"
   ]
  },
  {
   "cell_type": "code",
   "execution_count": 25,
   "metadata": {},
   "outputs": [],
   "source": [
    "data_n = pd.read_csv('invasion.csv')"
   ]
  },
  {
   "cell_type": "code",
   "execution_count": 26,
   "metadata": {},
   "outputs": [
    {
     "data": {
      "text/html": [
       "<div>\n",
       "<style scoped>\n",
       "    .dataframe tbody tr th:only-of-type {\n",
       "        vertical-align: middle;\n",
       "    }\n",
       "\n",
       "    .dataframe tbody tr th {\n",
       "        vertical-align: top;\n",
       "    }\n",
       "\n",
       "    .dataframe thead th {\n",
       "        text-align: right;\n",
       "    }\n",
       "</style>\n",
       "<table border=\"1\" class=\"dataframe\">\n",
       "  <thead>\n",
       "    <tr style=\"text-align: right;\">\n",
       "      <th></th>\n",
       "      <th>class</th>\n",
       "      <th>g_reflection</th>\n",
       "      <th>i_reflection</th>\n",
       "      <th>speed</th>\n",
       "      <th>brightness</th>\n",
       "      <th>time_of_observance</th>\n",
       "      <th>volume</th>\n",
       "    </tr>\n",
       "  </thead>\n",
       "  <tbody>\n",
       "    <tr>\n",
       "      <th>0</th>\n",
       "      <td>transport</td>\n",
       "      <td>2.190672</td>\n",
       "      <td>6.716633</td>\n",
       "      <td>62.168208</td>\n",
       "      <td>0.347465</td>\n",
       "      <td>158221</td>\n",
       "      <td>44.932446</td>\n",
       "    </tr>\n",
       "    <tr>\n",
       "      <th>1</th>\n",
       "      <td>transport</td>\n",
       "      <td>3.453276</td>\n",
       "      <td>8.995909</td>\n",
       "      <td>62.994707</td>\n",
       "      <td>0.590094</td>\n",
       "      <td>385972</td>\n",
       "      <td>41.568300</td>\n",
       "    </tr>\n",
       "    <tr>\n",
       "      <th>2</th>\n",
       "      <td>transport</td>\n",
       "      <td>2.432994</td>\n",
       "      <td>6.938691</td>\n",
       "      <td>62.245807</td>\n",
       "      <td>0.329288</td>\n",
       "      <td>446482</td>\n",
       "      <td>40.123467</td>\n",
       "    </tr>\n",
       "    <tr>\n",
       "      <th>3</th>\n",
       "      <td>fighter</td>\n",
       "      <td>6.083763</td>\n",
       "      <td>3.019459</td>\n",
       "      <td>18.474555</td>\n",
       "      <td>0.174738</td>\n",
       "      <td>210125</td>\n",
       "      <td>11.384865</td>\n",
       "    </tr>\n",
       "    <tr>\n",
       "      <th>4</th>\n",
       "      <td>fighter</td>\n",
       "      <td>12.876769</td>\n",
       "      <td>2.452950</td>\n",
       "      <td>195.805771</td>\n",
       "      <td>0.150446</td>\n",
       "      <td>23109</td>\n",
       "      <td>11.328806</td>\n",
       "    </tr>\n",
       "  </tbody>\n",
       "</table>\n",
       "</div>"
      ],
      "text/plain": [
       "       class  g_reflection  i_reflection       speed  brightness  \\\n",
       "0  transport      2.190672      6.716633   62.168208    0.347465   \n",
       "1  transport      3.453276      8.995909   62.994707    0.590094   \n",
       "2  transport      2.432994      6.938691   62.245807    0.329288   \n",
       "3    fighter      6.083763      3.019459   18.474555    0.174738   \n",
       "4    fighter     12.876769      2.452950  195.805771    0.150446   \n",
       "\n",
       "   time_of_observance     volume  \n",
       "0              158221  44.932446  \n",
       "1              385972  41.568300  \n",
       "2              446482  40.123467  \n",
       "3              210125  11.384865  \n",
       "4               23109  11.328806  "
      ]
     },
     "execution_count": 26,
     "metadata": {},
     "output_type": "execute_result"
    }
   ],
   "source": [
    "data_n.head()"
   ]
  },
  {
   "cell_type": "code",
   "execution_count": 27,
   "metadata": {},
   "outputs": [],
   "source": [
    "X_train = data_n.drop('class', axis=1)"
   ]
  },
  {
   "cell_type": "code",
   "execution_count": 28,
   "metadata": {},
   "outputs": [],
   "source": [
    "y_train = data_n['class']"
   ]
  },
  {
   "cell_type": "code",
   "execution_count": 29,
   "metadata": {},
   "outputs": [],
   "source": [
    "X_test = pd.read_csv('operative_information.csv')"
   ]
  },
  {
   "cell_type": "code",
   "execution_count": 30,
   "metadata": {},
   "outputs": [],
   "source": [
    "parametrs = {'n_estimators':range(1, 20), 'max_depth':range(1, 13, 2), 'min_samples_leaf':range(1, 8)}\n",
    "rf = RandomForestClassifier(criterion='gini')"
   ]
  },
  {
   "cell_type": "code",
   "execution_count": 31,
   "metadata": {},
   "outputs": [
    {
     "name": "stdout",
     "output_type": "stream",
     "text": [
      "Fitting 3 folds for each of 798 candidates, totalling 2394 fits\n"
     ]
    },
    {
     "data": {
      "text/plain": [
       "GridSearchCV(cv=3, estimator=RandomForestClassifier(), n_jobs=-1,\n",
       "             param_grid={'max_depth': range(1, 13, 2),\n",
       "                         'min_samples_leaf': range(1, 8),\n",
       "                         'n_estimators': range(1, 20)},\n",
       "             verbose=1)"
      ]
     },
     "execution_count": 31,
     "metadata": {},
     "output_type": "execute_result"
    }
   ],
   "source": [
    "grid_search_cv_clf = GridSearchCV(rf, parametrs, cv = 3, n_jobs=-1, verbose=1)\n",
    "grid_search_cv_clf.fit(X_train, y_train)"
   ]
  },
  {
   "cell_type": "code",
   "execution_count": 32,
   "metadata": {},
   "outputs": [
    {
     "data": {
      "text/plain": [
       "fighter      675\n",
       "transport    594\n",
       "cruiser      231\n",
       "dtype: int64"
      ]
     },
     "execution_count": 32,
     "metadata": {},
     "output_type": "execute_result"
    }
   ],
   "source": [
    "best_clf = grid_search_cv_clf.best_estimator_\n",
    "y_pred = best_clf.predict(X_test)\n",
    "pd.Series(y_pred).value_counts()"
   ]
  },
  {
   "cell_type": "code",
   "execution_count": 33,
   "metadata": {},
   "outputs": [],
   "source": [
    "feature_importances = best_clf.feature_importances_\n",
    "feature_importances_df = pd.DataFrame({'features':list(X_train), 'feature_importances':feature_importances})\n",
    "feature_importances_df = feature_importances_df.sort_values('feature_importances', ascending=False)"
   ]
  },
  {
   "cell_type": "code",
   "execution_count": 34,
   "metadata": {},
   "outputs": [
    {
     "data": {
      "image/png": "[encoded data removed]",
      "text/plain": [
       "<Figure size 432x432 with 1 Axes>"
      ]
     },
     "metadata": {
      "needs_background": "light"
     },
     "output_type": "display_data"
    }
   ],
   "source": [
    "f, ax = plt.subplots(figsize=(6, 6))\n",
    "sns.barplot(y=feature_importances_df.features, x=feature_importances_df.feature_importances)\n",
    "\n",
    "plt.xlabel('Важность атрибутов')\n",
    "plt.ylabel('Атрибуты')\n",
    "plt.title(\"Наиболее важные атрибуты\")\n",
    "plt.show()"
   ]
  },
  {
   "cell_type": "code",
   "execution_count": 35,
   "metadata": {},
   "outputs": [
    {
     "data": {
      "text/html": [
       "<div>\n",
       "<style scoped>\n",
       "    .dataframe tbody tr th:only-of-type {\n",
       "        vertical-align: middle;\n",
       "    }\n",
       "\n",
       "    .dataframe tbody tr th {\n",
       "        vertical-align: top;\n",
       "    }\n",
       "\n",
       "    .dataframe thead th {\n",
       "        text-align: right;\n",
       "    }\n",
       "</style>\n",
       "<table border=\"1\" class=\"dataframe\">\n",
       "  <thead>\n",
       "    <tr style=\"text-align: right;\">\n",
       "      <th></th>\n",
       "      <th>features</th>\n",
       "      <th>feature_importances</th>\n",
       "    </tr>\n",
       "  </thead>\n",
       "  <tbody>\n",
       "    <tr>\n",
       "      <th>3</th>\n",
       "      <td>brightness</td>\n",
       "      <td>0.367631</td>\n",
       "    </tr>\n",
       "    <tr>\n",
       "      <th>2</th>\n",
       "      <td>speed</td>\n",
       "      <td>0.282511</td>\n",
       "    </tr>\n",
       "    <tr>\n",
       "      <th>0</th>\n",
       "      <td>g_reflection</td>\n",
       "      <td>0.173329</td>\n",
       "    </tr>\n",
       "    <tr>\n",
       "      <th>1</th>\n",
       "      <td>i_reflection</td>\n",
       "      <td>0.172672</td>\n",
       "    </tr>\n",
       "    <tr>\n",
       "      <th>4</th>\n",
       "      <td>time_of_observance</td>\n",
       "      <td>0.003857</td>\n",
       "    </tr>\n",
       "  </tbody>\n",
       "</table>\n",
       "</div>"
      ],
      "text/plain": [
       "             features  feature_importances\n",
       "3          brightness             0.367631\n",
       "2               speed             0.282511\n",
       "0        g_reflection             0.173329\n",
       "1        i_reflection             0.172672\n",
       "4  time_of_observance             0.003857"
      ]
     },
     "execution_count": 35,
     "metadata": {},
     "output_type": "execute_result"
    }
   ],
   "source": [
    "feature_importances_df.head()"
   ]
  },
  {
   "cell_type": "code",
   "execution_count": 36,
   "metadata": {},
   "outputs": [],
   "source": [
    "data = pd.read_csv('space_can_be_a_dangerous_place.csv')"
   ]
  },
  {
   "cell_type": "code",
   "execution_count": 37,
   "metadata": {},
   "outputs": [
    {
     "data": {
      "text/html": [
       "<div>\n",
       "<style scoped>\n",
       "    .dataframe tbody tr th:only-of-type {\n",
       "        vertical-align: middle;\n",
       "    }\n",
       "\n",
       "    .dataframe tbody tr th {\n",
       "        vertical-align: top;\n",
       "    }\n",
       "\n",
       "    .dataframe thead th {\n",
       "        text-align: right;\n",
       "    }\n",
       "</style>\n",
       "<table border=\"1\" class=\"dataframe\">\n",
       "  <thead>\n",
       "    <tr style=\"text-align: right;\">\n",
       "      <th></th>\n",
       "      <th>r</th>\n",
       "      <th>phi</th>\n",
       "      <th>peradventure_index</th>\n",
       "      <th>dustiness</th>\n",
       "      <th>black_hole_is_near</th>\n",
       "      <th>buggers_were_noticed</th>\n",
       "      <th>nearby_system_has_planemo</th>\n",
       "      <th>dangerous</th>\n",
       "    </tr>\n",
       "  </thead>\n",
       "  <tbody>\n",
       "    <tr>\n",
       "      <th>0</th>\n",
       "      <td>169.1</td>\n",
       "      <td>138.0</td>\n",
       "      <td>22.3212</td>\n",
       "      <td>0.706285</td>\n",
       "      <td>0</td>\n",
       "      <td>1</td>\n",
       "      <td>1</td>\n",
       "      <td>1</td>\n",
       "    </tr>\n",
       "    <tr>\n",
       "      <th>1</th>\n",
       "      <td>11.1</td>\n",
       "      <td>148.0</td>\n",
       "      <td>1.4652</td>\n",
       "      <td>-0.410512</td>\n",
       "      <td>1</td>\n",
       "      <td>1</td>\n",
       "      <td>1</td>\n",
       "      <td>1</td>\n",
       "    </tr>\n",
       "    <tr>\n",
       "      <th>2</th>\n",
       "      <td>274.6</td>\n",
       "      <td>201.0</td>\n",
       "      <td>36.2472</td>\n",
       "      <td>0.756457</td>\n",
       "      <td>1</td>\n",
       "      <td>1</td>\n",
       "      <td>1</td>\n",
       "      <td>1</td>\n",
       "    </tr>\n",
       "    <tr>\n",
       "      <th>3</th>\n",
       "      <td>172.8</td>\n",
       "      <td>173.0</td>\n",
       "      <td>22.8096</td>\n",
       "      <td>0.035221</td>\n",
       "      <td>1</td>\n",
       "      <td>1</td>\n",
       "      <td>1</td>\n",
       "      <td>1</td>\n",
       "    </tr>\n",
       "    <tr>\n",
       "      <th>4</th>\n",
       "      <td>223.3</td>\n",
       "      <td>222.0</td>\n",
       "      <td>29.4756</td>\n",
       "      <td>0.197271</td>\n",
       "      <td>0</td>\n",
       "      <td>1</td>\n",
       "      <td>1</td>\n",
       "      <td>1</td>\n",
       "    </tr>\n",
       "  </tbody>\n",
       "</table>\n",
       "</div>"
      ],
      "text/plain": [
       "       r    phi  peradventure_index  dustiness  black_hole_is_near  \\\n",
       "0  169.1  138.0             22.3212   0.706285                   0   \n",
       "1   11.1  148.0              1.4652  -0.410512                   1   \n",
       "2  274.6  201.0             36.2472   0.756457                   1   \n",
       "3  172.8  173.0             22.8096   0.035221                   1   \n",
       "4  223.3  222.0             29.4756   0.197271                   0   \n",
       "\n",
       "   buggers_were_noticed  nearby_system_has_planemo  dangerous  \n",
       "0                     1                          1          1  \n",
       "1                     1                          1          1  \n",
       "2                     1                          1          1  \n",
       "3                     1                          1          1  \n",
       "4                     1                          1          1  "
      ]
     },
     "execution_count": 37,
     "metadata": {},
     "output_type": "execute_result"
    }
   ],
   "source": [
    "data.head()"
   ]
  },
  {
   "cell_type": "code",
   "execution_count": 38,
   "metadata": {},
   "outputs": [
    {
     "data": {
      "text/html": [
       "<div>\n",
       "<style scoped>\n",
       "    .dataframe tbody tr th:only-of-type {\n",
       "        vertical-align: middle;\n",
       "    }\n",
       "\n",
       "    .dataframe tbody tr th {\n",
       "        vertical-align: top;\n",
       "    }\n",
       "\n",
       "    .dataframe thead th {\n",
       "        text-align: right;\n",
       "    }\n",
       "</style>\n",
       "<table border=\"1\" class=\"dataframe\">\n",
       "  <thead>\n",
       "    <tr style=\"text-align: right;\">\n",
       "      <th></th>\n",
       "      <th>r</th>\n",
       "      <th>phi</th>\n",
       "      <th>peradventure_index</th>\n",
       "      <th>dustiness</th>\n",
       "      <th>black_hole_is_near</th>\n",
       "      <th>buggers_were_noticed</th>\n",
       "      <th>nearby_system_has_planemo</th>\n",
       "      <th>dangerous</th>\n",
       "    </tr>\n",
       "  </thead>\n",
       "  <tbody>\n",
       "    <tr>\n",
       "      <th>r</th>\n",
       "      <td>1.000000</td>\n",
       "      <td>0.001023</td>\n",
       "      <td>1.000000</td>\n",
       "      <td>-0.003336</td>\n",
       "      <td>0.002337</td>\n",
       "      <td>0.001797</td>\n",
       "      <td>0.000326</td>\n",
       "      <td>0.005788</td>\n",
       "    </tr>\n",
       "    <tr>\n",
       "      <th>phi</th>\n",
       "      <td>0.001023</td>\n",
       "      <td>1.000000</td>\n",
       "      <td>0.001023</td>\n",
       "      <td>0.001921</td>\n",
       "      <td>0.002875</td>\n",
       "      <td>-0.004726</td>\n",
       "      <td>-0.000803</td>\n",
       "      <td>0.003035</td>\n",
       "    </tr>\n",
       "    <tr>\n",
       "      <th>peradventure_index</th>\n",
       "      <td>1.000000</td>\n",
       "      <td>0.001023</td>\n",
       "      <td>1.000000</td>\n",
       "      <td>-0.003336</td>\n",
       "      <td>0.002337</td>\n",
       "      <td>0.001797</td>\n",
       "      <td>0.000326</td>\n",
       "      <td>0.005788</td>\n",
       "    </tr>\n",
       "    <tr>\n",
       "      <th>dustiness</th>\n",
       "      <td>-0.003336</td>\n",
       "      <td>0.001921</td>\n",
       "      <td>-0.003336</td>\n",
       "      <td>1.000000</td>\n",
       "      <td>-0.004691</td>\n",
       "      <td>-0.001290</td>\n",
       "      <td>0.003370</td>\n",
       "      <td>-0.000499</td>\n",
       "    </tr>\n",
       "    <tr>\n",
       "      <th>black_hole_is_near</th>\n",
       "      <td>0.002337</td>\n",
       "      <td>0.002875</td>\n",
       "      <td>0.002337</td>\n",
       "      <td>-0.004691</td>\n",
       "      <td>1.000000</td>\n",
       "      <td>-0.001874</td>\n",
       "      <td>0.002661</td>\n",
       "      <td>0.052968</td>\n",
       "    </tr>\n",
       "    <tr>\n",
       "      <th>buggers_were_noticed</th>\n",
       "      <td>0.001797</td>\n",
       "      <td>-0.004726</td>\n",
       "      <td>0.001797</td>\n",
       "      <td>-0.001290</td>\n",
       "      <td>-0.001874</td>\n",
       "      <td>1.000000</td>\n",
       "      <td>-0.003031</td>\n",
       "      <td>0.344469</td>\n",
       "    </tr>\n",
       "    <tr>\n",
       "      <th>nearby_system_has_planemo</th>\n",
       "      <td>0.000326</td>\n",
       "      <td>-0.000803</td>\n",
       "      <td>0.000326</td>\n",
       "      <td>0.003370</td>\n",
       "      <td>0.002661</td>\n",
       "      <td>-0.003031</td>\n",
       "      <td>1.000000</td>\n",
       "      <td>0.299508</td>\n",
       "    </tr>\n",
       "    <tr>\n",
       "      <th>dangerous</th>\n",
       "      <td>0.005788</td>\n",
       "      <td>0.003035</td>\n",
       "      <td>0.005788</td>\n",
       "      <td>-0.000499</td>\n",
       "      <td>0.052968</td>\n",
       "      <td>0.344469</td>\n",
       "      <td>0.299508</td>\n",
       "      <td>1.000000</td>\n",
       "    </tr>\n",
       "  </tbody>\n",
       "</table>\n",
       "</div>"
      ],
      "text/plain": [
       "                                  r       phi  peradventure_index  dustiness  \\\n",
       "r                          1.000000  0.001023            1.000000  -0.003336   \n",
       "phi                        0.001023  1.000000            0.001023   0.001921   \n",
       "peradventure_index         1.000000  0.001023            1.000000  -0.003336   \n",
       "dustiness                 -0.003336  0.001921           -0.003336   1.000000   \n",
       "black_hole_is_near         0.002337  0.002875            0.002337  -0.004691   \n",
       "buggers_were_noticed       0.001797 -0.004726            0.001797  -0.001290   \n",
       "nearby_system_has_planemo  0.000326 -0.000803            0.000326   0.003370   \n",
       "dangerous                  0.005788  0.003035            0.005788  -0.000499   \n",
       "\n",
       "                           black_hole_is_near  buggers_were_noticed  \\\n",
       "r                                    0.002337              0.001797   \n",
       "phi                                  0.002875             -0.004726   \n",
       "peradventure_index                   0.002337              0.001797   \n",
       "dustiness                           -0.004691             -0.001290   \n",
       "black_hole_is_near                   1.000000             -0.001874   \n",
       "buggers_were_noticed                -0.001874              1.000000   \n",
       "nearby_system_has_planemo            0.002661             -0.003031   \n",
       "dangerous                            0.052968              0.344469   \n",
       "\n",
       "                           nearby_system_has_planemo  dangerous  \n",
       "r                                           0.000326   0.005788  \n",
       "phi                                        -0.000803   0.003035  \n",
       "peradventure_index                          0.000326   0.005788  \n",
       "dustiness                                   0.003370  -0.000499  \n",
       "black_hole_is_near                          0.002661   0.052968  \n",
       "buggers_were_noticed                       -0.003031   0.344469  \n",
       "nearby_system_has_planemo                   1.000000   0.299508  \n",
       "dangerous                                   0.299508   1.000000  "
      ]
     },
     "execution_count": 38,
     "metadata": {},
     "output_type": "execute_result"
    }
   ],
   "source": [
    "data.corr()"
   ]
  },
  {
   "cell_type": "code",
   "execution_count": 39,
   "metadata": {},
   "outputs": [
    {
     "data": {
      "text/plain": [
       "<AxesSubplot:>"
      ]
     },
     "execution_count": 39,
     "metadata": {},
     "output_type": "execute_result"
    },
    {
     "data": {
      "image/png": "[encoded data removed]",
      "text/plain": [
       "<Figure size 432x288 with 2 Axes>"
      ]
     },
     "metadata": {
      "needs_background": "light"
     },
     "output_type": "display_data"
    }
   ],
   "source": [
    "sns.heatmap(data.corr(), annot=True) "
   ]
  },
  {
   "cell_type": "code",
   "execution_count": null,
   "metadata": {},
   "outputs": [],
   "source": []
  }
 ],
 "metadata": {
  "kernelspec": {
   "display_name": "Python 3",
   "language": "python",
   "name": "python3"
  },
  "language_info": {
   "codemirror_mode": {
    "name": "ipython",
    "version": 3
   },
   "file_extension": ".py",
   "mimetype": "text/x-python",
   "name": "python",
   "nbconvert_exporter": "python",
   "pygments_lexer": "ipython3",
   "version": "3.8.8"
  }
 },
 "nbformat": 4,
 "nbformat_minor": 4
}
