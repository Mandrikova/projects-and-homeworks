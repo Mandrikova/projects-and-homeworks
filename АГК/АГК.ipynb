{
 "cells": [
  {
   "cell_type": "markdown",
   "metadata": {},
   "source": [
    "# <center>Анализ главных компонент</center>\n",
    "## <center>Мандрикова Анастасия</center>\n",
    "\n",
    "Рассмотрим баллы полученные за задачи по физике и математике при поступлении в ФШТ."
   ]
  },
  {
   "cell_type": "code",
   "execution_count": 1,
   "metadata": {},
   "outputs": [
    {
     "name": "stderr",
     "output_type": "stream",
     "text": [
      "Warning message:\n",
      "\"package 'FactoMineR' was built under R version 4.0.5\"\n",
      "Warning message:\n",
      "\"package 'factoextra' was built under R version 4.0.5\"\n",
      "Loading required package: ggplot2\n",
      "\n",
      "Welcome! Want to learn more? See two factoextra-related books at https://goo.gl/ve3WBa\n",
      "\n"
     ]
    },
    {
     "data": {
      "text/html": [
       "<table class=\"dataframe\">\n",
       "<caption>A data.frame: 6 × 13</caption>\n",
       "<thead>\n",
       "\t<tr><th></th><th scope=col>N</th><th scope=col>M1</th><th scope=col>M2</th><th scope=col>M3</th><th scope=col>M4</th><th scope=col>P1</th><th scope=col>P2</th><th scope=col>P3</th><th scope=col>P4</th><th scope=col>P5</th><th scope=col>P6</th><th scope=col>P7</th><th scope=col>RES</th></tr>\n",
       "\t<tr><th></th><th scope=col>&lt;int&gt;</th><th scope=col>&lt;int&gt;</th><th scope=col>&lt;int&gt;</th><th scope=col>&lt;int&gt;</th><th scope=col>&lt;int&gt;</th><th scope=col>&lt;int&gt;</th><th scope=col>&lt;int&gt;</th><th scope=col>&lt;int&gt;</th><th scope=col>&lt;int&gt;</th><th scope=col>&lt;int&gt;</th><th scope=col>&lt;int&gt;</th><th scope=col>&lt;int&gt;</th><th scope=col>&lt;int&gt;</th></tr>\n",
       "</thead>\n",
       "<tbody>\n",
       "\t<tr><th scope=row>1</th><td>1</td><td>0</td><td>0</td><td>0</td><td>0</td><td>2</td><td>1</td><td>0</td><td>0</td><td>0</td><td>2</td><td>0</td><td>0</td></tr>\n",
       "\t<tr><th scope=row>2</th><td>2</td><td>0</td><td>0</td><td>0</td><td>0</td><td>3</td><td>1</td><td>0</td><td>0</td><td>0</td><td>0</td><td>0</td><td>0</td></tr>\n",
       "\t<tr><th scope=row>3</th><td>3</td><td>0</td><td>0</td><td>0</td><td>6</td><td>3</td><td>1</td><td>0</td><td>3</td><td>0</td><td>0</td><td>0</td><td>0</td></tr>\n",
       "\t<tr><th scope=row>4</th><td>4</td><td>0</td><td>1</td><td>2</td><td>0</td><td>3</td><td>0</td><td>1</td><td>3</td><td>6</td><td>5</td><td>0</td><td>1</td></tr>\n",
       "\t<tr><th scope=row>5</th><td>5</td><td>5</td><td>2</td><td>2</td><td>0</td><td>0</td><td>3</td><td>1</td><td>3</td><td>2</td><td>5</td><td>0</td><td>1</td></tr>\n",
       "\t<tr><th scope=row>6</th><td>6</td><td>8</td><td>0</td><td>0</td><td>0</td><td>3</td><td>2</td><td>0</td><td>3</td><td>0</td><td>5</td><td>0</td><td>1</td></tr>\n",
       "</tbody>\n",
       "</table>\n"
      ],
      "text/latex": [
       "A data.frame: 6 × 13\n",
       "\\begin{tabular}{r|lllllllllllll}\n",
       "  & N & M1 & M2 & M3 & M4 & P1 & P2 & P3 & P4 & P5 & P6 & P7 & RES\\\\\n",
       "  & <int> & <int> & <int> & <int> & <int> & <int> & <int> & <int> & <int> & <int> & <int> & <int> & <int>\\\\\n",
       "\\hline\n",
       "\t1 & 1 & 0 & 0 & 0 & 0 & 2 & 1 & 0 & 0 & 0 & 2 & 0 & 0\\\\\n",
       "\t2 & 2 & 0 & 0 & 0 & 0 & 3 & 1 & 0 & 0 & 0 & 0 & 0 & 0\\\\\n",
       "\t3 & 3 & 0 & 0 & 0 & 6 & 3 & 1 & 0 & 3 & 0 & 0 & 0 & 0\\\\\n",
       "\t4 & 4 & 0 & 1 & 2 & 0 & 3 & 0 & 1 & 3 & 6 & 5 & 0 & 1\\\\\n",
       "\t5 & 5 & 5 & 2 & 2 & 0 & 0 & 3 & 1 & 3 & 2 & 5 & 0 & 1\\\\\n",
       "\t6 & 6 & 8 & 0 & 0 & 0 & 3 & 2 & 0 & 3 & 0 & 5 & 0 & 1\\\\\n",
       "\\end{tabular}\n"
      ],
      "text/markdown": [
       "\n",
       "A data.frame: 6 × 13\n",
       "\n",
       "| <!--/--> | N &lt;int&gt; | M1 &lt;int&gt; | M2 &lt;int&gt; | M3 &lt;int&gt; | M4 &lt;int&gt; | P1 &lt;int&gt; | P2 &lt;int&gt; | P3 &lt;int&gt; | P4 &lt;int&gt; | P5 &lt;int&gt; | P6 &lt;int&gt; | P7 &lt;int&gt; | RES &lt;int&gt; |\n",
       "|---|---|---|---|---|---|---|---|---|---|---|---|---|---|\n",
       "| 1 | 1 | 0 | 0 | 0 | 0 | 2 | 1 | 0 | 0 | 0 | 2 | 0 | 0 |\n",
       "| 2 | 2 | 0 | 0 | 0 | 0 | 3 | 1 | 0 | 0 | 0 | 0 | 0 | 0 |\n",
       "| 3 | 3 | 0 | 0 | 0 | 6 | 3 | 1 | 0 | 3 | 0 | 0 | 0 | 0 |\n",
       "| 4 | 4 | 0 | 1 | 2 | 0 | 3 | 0 | 1 | 3 | 6 | 5 | 0 | 1 |\n",
       "| 5 | 5 | 5 | 2 | 2 | 0 | 0 | 3 | 1 | 3 | 2 | 5 | 0 | 1 |\n",
       "| 6 | 6 | 8 | 0 | 0 | 0 | 3 | 2 | 0 | 3 | 0 | 5 | 0 | 1 |\n",
       "\n"
      ],
      "text/plain": [
       "  N M1 M2 M3 M4 P1 P2 P3 P4 P5 P6 P7 RES\n",
       "1 1 0  0  0  0  2  1  0  0  0  2  0  0  \n",
       "2 2 0  0  0  0  3  1  0  0  0  0  0  0  \n",
       "3 3 0  0  0  6  3  1  0  3  0  0  0  0  \n",
       "4 4 0  1  2  0  3  0  1  3  6  5  0  1  \n",
       "5 5 5  2  2  0  0  3  1  3  2  5  0  1  \n",
       "6 6 8  0  0  0  3  2  0  3  0  5  0  1  "
      ]
     },
     "metadata": {},
     "output_type": "display_data"
    }
   ],
   "source": [
    "library(\"FactoMineR\")\n",
    "library(\"factoextra\")\n",
    "df <-  read.table(file = \"EXBOY.txt\", header = TRUE, sep = \" \")\n",
    "colnames(df)[1] <- \"N\"\n",
    "head(df)"
   ]
  },
  {
   "cell_type": "markdown",
   "metadata": {},
   "source": [
    "Выше представлена часть матрицы данных $X$."
   ]
  },
  {
   "cell_type": "code",
   "execution_count": 2,
   "metadata": {},
   "outputs": [
    {
     "data": {
      "text/plain": [
       "       M1               M2               M3               M4        \n",
       " Min.   :0.0000   Min.   :0.0000   Min.   :0.0000   Min.   :0.0000  \n",
       " 1st Qu.:0.0000   1st Qu.:0.0000   1st Qu.:0.0000   1st Qu.:0.0000  \n",
       " Median :0.0000   Median :0.0000   Median :0.0000   Median :0.0000  \n",
       " Mean   :0.4929   Mean   :0.4214   Mean   :0.5286   Mean   :0.3214  \n",
       " 3rd Qu.:0.0000   3rd Qu.:1.0000   3rd Qu.:0.0000   3rd Qu.:0.0000  \n",
       " Max.   :8.0000   Max.   :2.0000   Max.   :6.0000   Max.   :6.0000  \n",
       "       P1             P2              P3             P4              P5       \n",
       " Min.   :0.00   Min.   :0.000   Min.   :0.00   Min.   :0.000   Min.   :0.000  \n",
       " 1st Qu.:0.00   1st Qu.:0.000   1st Qu.:0.00   1st Qu.:0.000   1st Qu.:0.000  \n",
       " Median :3.00   Median :1.000   Median :0.00   Median :3.000   Median :0.000  \n",
       " Mean   :1.75   Mean   :1.179   Mean   :0.45   Mean   :1.821   Mean   :1.064  \n",
       " 3rd Qu.:3.00   3rd Qu.:2.000   3rd Qu.:1.00   3rd Qu.:3.000   3rd Qu.:1.000  \n",
       " Max.   :3.00   Max.   :3.000   Max.   :3.00   Max.   :3.000   Max.   :6.000  \n",
       "       P6              P7        \n",
       " Min.   :0.000   Min.   :0.0000  \n",
       " 1st Qu.:1.000   1st Qu.:0.0000  \n",
       " Median :5.000   Median :0.0000  \n",
       " Mean   :3.321   Mean   :0.1643  \n",
       " 3rd Qu.:5.000   3rd Qu.:0.0000  \n",
       " Max.   :5.000   Max.   :4.0000  "
      ]
     },
     "metadata": {},
     "output_type": "display_data"
    }
   ],
   "source": [
    "X <- df[,2:12]\n",
    "summary(X)"
   ]
  },
  {
   "cell_type": "markdown",
   "metadata": {},
   "source": [
    "Не будем нормировать признаки, так как скорее всего разные максимальные баллы за задачи отображют сложность задачи."
   ]
  },
  {
   "cell_type": "code",
   "execution_count": 3,
   "metadata": {},
   "outputs": [],
   "source": [
    "res.pca <- PCA(X, graph = FALSE, ncp = 6)"
   ]
  },
  {
   "cell_type": "markdown",
   "metadata": {},
   "source": [
    "Собственные числа и вклад компонент:"
   ]
  },
  {
   "cell_type": "code",
   "execution_count": 4,
   "metadata": {},
   "outputs": [
    {
     "data": {
      "text/html": [
       "<table class=\"dataframe\">\n",
       "<caption>A matrix: 11 × 3 of type dbl</caption>\n",
       "<thead>\n",
       "\t<tr><th></th><th scope=col>eigenvalue</th><th scope=col>variance.percent</th><th scope=col>cumulative.variance.percent</th></tr>\n",
       "</thead>\n",
       "<tbody>\n",
       "\t<tr><th scope=row>Dim.1</th><td>2.8294557</td><td>25.722324</td><td> 25.72232</td></tr>\n",
       "\t<tr><th scope=row>Dim.2</th><td>1.4700786</td><td>13.364351</td><td> 39.08668</td></tr>\n",
       "\t<tr><th scope=row>Dim.3</th><td>1.1995896</td><td>10.905360</td><td> 49.99204</td></tr>\n",
       "\t<tr><th scope=row>Dim.4</th><td>1.0797094</td><td> 9.815540</td><td> 59.80758</td></tr>\n",
       "\t<tr><th scope=row>Dim.5</th><td>0.8368148</td><td> 7.607408</td><td> 67.41498</td></tr>\n",
       "\t<tr><th scope=row>Dim.6</th><td>0.7418357</td><td> 6.743961</td><td> 74.15894</td></tr>\n",
       "\t<tr><th scope=row>Dim.7</th><td>0.6524906</td><td> 5.931733</td><td> 80.09068</td></tr>\n",
       "\t<tr><th scope=row>Dim.8</th><td>0.6399074</td><td> 5.817340</td><td> 85.90802</td></tr>\n",
       "\t<tr><th scope=row>Dim.9</th><td>0.6056098</td><td> 5.505544</td><td> 91.41356</td></tr>\n",
       "\t<tr><th scope=row>Dim.10</th><td>0.4857135</td><td> 4.415577</td><td> 95.82914</td></tr>\n",
       "\t<tr><th scope=row>Dim.11</th><td>0.4587948</td><td> 4.170862</td><td>100.00000</td></tr>\n",
       "</tbody>\n",
       "</table>\n"
      ],
      "text/latex": [
       "A matrix: 11 × 3 of type dbl\n",
       "\\begin{tabular}{r|lll}\n",
       "  & eigenvalue & variance.percent & cumulative.variance.percent\\\\\n",
       "\\hline\n",
       "\tDim.1 & 2.8294557 & 25.722324 &  25.72232\\\\\n",
       "\tDim.2 & 1.4700786 & 13.364351 &  39.08668\\\\\n",
       "\tDim.3 & 1.1995896 & 10.905360 &  49.99204\\\\\n",
       "\tDim.4 & 1.0797094 &  9.815540 &  59.80758\\\\\n",
       "\tDim.5 & 0.8368148 &  7.607408 &  67.41498\\\\\n",
       "\tDim.6 & 0.7418357 &  6.743961 &  74.15894\\\\\n",
       "\tDim.7 & 0.6524906 &  5.931733 &  80.09068\\\\\n",
       "\tDim.8 & 0.6399074 &  5.817340 &  85.90802\\\\\n",
       "\tDim.9 & 0.6056098 &  5.505544 &  91.41356\\\\\n",
       "\tDim.10 & 0.4857135 &  4.415577 &  95.82914\\\\\n",
       "\tDim.11 & 0.4587948 &  4.170862 & 100.00000\\\\\n",
       "\\end{tabular}\n"
      ],
      "text/markdown": [
       "\n",
       "A matrix: 11 × 3 of type dbl\n",
       "\n",
       "| <!--/--> | eigenvalue | variance.percent | cumulative.variance.percent |\n",
       "|---|---|---|---|\n",
       "| Dim.1 | 2.8294557 | 25.722324 |  25.72232 |\n",
       "| Dim.2 | 1.4700786 | 13.364351 |  39.08668 |\n",
       "| Dim.3 | 1.1995896 | 10.905360 |  49.99204 |\n",
       "| Dim.4 | 1.0797094 |  9.815540 |  59.80758 |\n",
       "| Dim.5 | 0.8368148 |  7.607408 |  67.41498 |\n",
       "| Dim.6 | 0.7418357 |  6.743961 |  74.15894 |\n",
       "| Dim.7 | 0.6524906 |  5.931733 |  80.09068 |\n",
       "| Dim.8 | 0.6399074 |  5.817340 |  85.90802 |\n",
       "| Dim.9 | 0.6056098 |  5.505544 |  91.41356 |\n",
       "| Dim.10 | 0.4857135 |  4.415577 |  95.82914 |\n",
       "| Dim.11 | 0.4587948 |  4.170862 | 100.00000 |\n",
       "\n"
      ],
      "text/plain": [
       "       eigenvalue variance.percent cumulative.variance.percent\n",
       "Dim.1  2.8294557  25.722324         25.72232                  \n",
       "Dim.2  1.4700786  13.364351         39.08668                  \n",
       "Dim.3  1.1995896  10.905360         49.99204                  \n",
       "Dim.4  1.0797094   9.815540         59.80758                  \n",
       "Dim.5  0.8368148   7.607408         67.41498                  \n",
       "Dim.6  0.7418357   6.743961         74.15894                  \n",
       "Dim.7  0.6524906   5.931733         80.09068                  \n",
       "Dim.8  0.6399074   5.817340         85.90802                  \n",
       "Dim.9  0.6056098   5.505544         91.41356                  \n",
       "Dim.10 0.4857135   4.415577         95.82914                  \n",
       "Dim.11 0.4587948   4.170862        100.00000                  "
      ]
     },
     "metadata": {},
     "output_type": "display_data"
    }
   ],
   "source": [
    "eig.val <- get_eigenvalue(res.pca)\n",
    "eig.val"
   ]
  },
  {
   "cell_type": "markdown",
   "metadata": {},
   "source": [
    "Выше первый столбец - $\\lambda_i$ (собственные числа $X^TX$), второй столбец - процент объясненной дисперсии $\\frac{\\lambda_i}{\\sum\\limits_i \\lambda_i}$, третий столбец - кумулятивный процент объясненной дисперсии."
   ]
  },
  {
   "cell_type": "markdown",
   "metadata": {},
   "source": [
    "На графике прямогугольники соответсвуют упорядоченным по убыванию собственным числам $\\lambda_i$."
   ]
  },
  {
   "cell_type": "code",
   "execution_count": 5,
   "metadata": {},
   "outputs": [
    {
     "data": {
      "image/png": "[encoded data removed]",
      "text/plain": [
       "plot without title"
      ]
     },
     "metadata": {
      "image/png": {
       "height": 420,
       "width": 420
      }
     },
     "output_type": "display_data"
    }
   ],
   "source": [
    "fviz_eig(res.pca, addlabels = TRUE)"
   ]
  },
  {
   "cell_type": "markdown",
   "metadata": {},
   "source": [
    "Остановимся на $6$ главных компонентах для рассмотрения, в них содержится $74\\%$ информации."
   ]
  },
  {
   "cell_type": "code",
   "execution_count": 6,
   "metadata": {},
   "outputs": [],
   "source": [
    "var <- get_pca_var(res.pca)"
   ]
  },
  {
   "cell_type": "code",
   "execution_count": 7,
   "metadata": {},
   "outputs": [
    {
     "data": {
      "image/png": "[encoded data removed]",
      "text/plain": [
       "plot without title"
      ]
     },
     "metadata": {
      "image/png": {
       "height": 420,
       "width": 420
      }
     },
     "output_type": "display_data"
    }
   ],
   "source": [
    "res.pca2 <- PCA(X, scale.unit = TRUE, graph = FALSE, ncp = 6)\n",
    "fviz_pca_var(res.pca2, col.var = \"black\")"
   ]
  },
  {
   "cell_type": "markdown",
   "metadata": {},
   "source": [
    "Положительно коррелированные переменные сгруппированы на графике вместе. При этом, так как все вектора короткие, не достаточно первых двух компонент для описания признаков.   \n",
    "Ось $x$ - $F_1$, ось $y$ - $F_2$. Координаты векторов-старых признаков соответсвующие элементы из $F_1$ и $F_2$."
   ]
  },
  {
   "cell_type": "markdown",
   "metadata": {},
   "source": [
    "Матрица факторных координат признаков $F$:"
   ]
  },
  {
   "cell_type": "code",
   "execution_count": 8,
   "metadata": {},
   "outputs": [
    {
     "data": {
      "text/html": [
       "<table class=\"dataframe\">\n",
       "<caption>A matrix: 11 × 6 of type dbl</caption>\n",
       "<thead>\n",
       "\t<tr><th></th><th scope=col>Dim.1</th><th scope=col>Dim.2</th><th scope=col>Dim.3</th><th scope=col>Dim.4</th><th scope=col>Dim.5</th><th scope=col>Dim.6</th></tr>\n",
       "</thead>\n",
       "<tbody>\n",
       "\t<tr><th scope=row>M1</th><td>0.1723898</td><td>-0.035769370</td><td> 0.666102584</td><td> 0.48857665</td><td> 0.36341247</td><td>-0.19462746</td></tr>\n",
       "\t<tr><th scope=row>M2</th><td>0.4912963</td><td>-0.585745232</td><td> 0.219092094</td><td> 0.19496796</td><td>-0.07733594</td><td> 0.01359773</td></tr>\n",
       "\t<tr><th scope=row>M3</th><td>0.5566874</td><td>-0.488218661</td><td> 0.230186677</td><td>-0.18775397</td><td>-0.28935829</td><td>-0.12308197</td></tr>\n",
       "\t<tr><th scope=row>M4</th><td>0.4024361</td><td>-0.487660776</td><td>-0.152446131</td><td>-0.26174826</td><td> 0.51489630</td><td> 0.18367591</td></tr>\n",
       "\t<tr><th scope=row>P1</th><td>0.6666719</td><td> 0.083532417</td><td>-0.240919179</td><td>-0.03899988</td><td>-0.06318568</td><td> 0.23180220</td></tr>\n",
       "\t<tr><th scope=row>P2</th><td>0.4996679</td><td> 0.545768572</td><td>-0.079528474</td><td> 0.31199236</td><td> 0.17646326</td><td>-0.16982140</td></tr>\n",
       "\t<tr><th scope=row>P3</th><td>0.4750271</td><td> 0.443511069</td><td> 0.330127294</td><td>-0.28730392</td><td>-0.25458027</td><td>-0.08012570</td></tr>\n",
       "\t<tr><th scope=row>P4</th><td>0.6460984</td><td> 0.155910734</td><td>-0.420035175</td><td> 0.16155841</td><td> 0.25612472</td><td> 0.05396196</td></tr>\n",
       "\t<tr><th scope=row>P5</th><td>0.5991831</td><td> 0.001597656</td><td>-0.190629766</td><td>-0.27917545</td><td>-0.02415412</td><td>-0.56702825</td></tr>\n",
       "\t<tr><th scope=row>P6</th><td>0.5582186</td><td> 0.041692189</td><td> 0.001600526</td><td> 0.42190545</td><td>-0.37106310</td><td> 0.35990140</td></tr>\n",
       "\t<tr><th scope=row>P7</th><td>0.2804781</td><td> 0.349197906</td><td> 0.495527227</td><td>-0.48556977</td><td> 0.21472075</td><td> 0.33456139</td></tr>\n",
       "</tbody>\n",
       "</table>\n"
      ],
      "text/latex": [
       "A matrix: 11 × 6 of type dbl\n",
       "\\begin{tabular}{r|llllll}\n",
       "  & Dim.1 & Dim.2 & Dim.3 & Dim.4 & Dim.5 & Dim.6\\\\\n",
       "\\hline\n",
       "\tM1 & 0.1723898 & -0.035769370 &  0.666102584 &  0.48857665 &  0.36341247 & -0.19462746\\\\\n",
       "\tM2 & 0.4912963 & -0.585745232 &  0.219092094 &  0.19496796 & -0.07733594 &  0.01359773\\\\\n",
       "\tM3 & 0.5566874 & -0.488218661 &  0.230186677 & -0.18775397 & -0.28935829 & -0.12308197\\\\\n",
       "\tM4 & 0.4024361 & -0.487660776 & -0.152446131 & -0.26174826 &  0.51489630 &  0.18367591\\\\\n",
       "\tP1 & 0.6666719 &  0.083532417 & -0.240919179 & -0.03899988 & -0.06318568 &  0.23180220\\\\\n",
       "\tP2 & 0.4996679 &  0.545768572 & -0.079528474 &  0.31199236 &  0.17646326 & -0.16982140\\\\\n",
       "\tP3 & 0.4750271 &  0.443511069 &  0.330127294 & -0.28730392 & -0.25458027 & -0.08012570\\\\\n",
       "\tP4 & 0.6460984 &  0.155910734 & -0.420035175 &  0.16155841 &  0.25612472 &  0.05396196\\\\\n",
       "\tP5 & 0.5991831 &  0.001597656 & -0.190629766 & -0.27917545 & -0.02415412 & -0.56702825\\\\\n",
       "\tP6 & 0.5582186 &  0.041692189 &  0.001600526 &  0.42190545 & -0.37106310 &  0.35990140\\\\\n",
       "\tP7 & 0.2804781 &  0.349197906 &  0.495527227 & -0.48556977 &  0.21472075 &  0.33456139\\\\\n",
       "\\end{tabular}\n"
      ],
      "text/markdown": [
       "\n",
       "A matrix: 11 × 6 of type dbl\n",
       "\n",
       "| <!--/--> | Dim.1 | Dim.2 | Dim.3 | Dim.4 | Dim.5 | Dim.6 |\n",
       "|---|---|---|---|---|---|---|\n",
       "| M1 | 0.1723898 | -0.035769370 |  0.666102584 |  0.48857665 |  0.36341247 | -0.19462746 |\n",
       "| M2 | 0.4912963 | -0.585745232 |  0.219092094 |  0.19496796 | -0.07733594 |  0.01359773 |\n",
       "| M3 | 0.5566874 | -0.488218661 |  0.230186677 | -0.18775397 | -0.28935829 | -0.12308197 |\n",
       "| M4 | 0.4024361 | -0.487660776 | -0.152446131 | -0.26174826 |  0.51489630 |  0.18367591 |\n",
       "| P1 | 0.6666719 |  0.083532417 | -0.240919179 | -0.03899988 | -0.06318568 |  0.23180220 |\n",
       "| P2 | 0.4996679 |  0.545768572 | -0.079528474 |  0.31199236 |  0.17646326 | -0.16982140 |\n",
       "| P3 | 0.4750271 |  0.443511069 |  0.330127294 | -0.28730392 | -0.25458027 | -0.08012570 |\n",
       "| P4 | 0.6460984 |  0.155910734 | -0.420035175 |  0.16155841 |  0.25612472 |  0.05396196 |\n",
       "| P5 | 0.5991831 |  0.001597656 | -0.190629766 | -0.27917545 | -0.02415412 | -0.56702825 |\n",
       "| P6 | 0.5582186 |  0.041692189 |  0.001600526 |  0.42190545 | -0.37106310 |  0.35990140 |\n",
       "| P7 | 0.2804781 |  0.349197906 |  0.495527227 | -0.48556977 |  0.21472075 |  0.33456139 |\n",
       "\n"
      ],
      "text/plain": [
       "   Dim.1     Dim.2        Dim.3        Dim.4       Dim.5       Dim.6      \n",
       "M1 0.1723898 -0.035769370  0.666102584  0.48857665  0.36341247 -0.19462746\n",
       "M2 0.4912963 -0.585745232  0.219092094  0.19496796 -0.07733594  0.01359773\n",
       "M3 0.5566874 -0.488218661  0.230186677 -0.18775397 -0.28935829 -0.12308197\n",
       "M4 0.4024361 -0.487660776 -0.152446131 -0.26174826  0.51489630  0.18367591\n",
       "P1 0.6666719  0.083532417 -0.240919179 -0.03899988 -0.06318568  0.23180220\n",
       "P2 0.4996679  0.545768572 -0.079528474  0.31199236  0.17646326 -0.16982140\n",
       "P3 0.4750271  0.443511069  0.330127294 -0.28730392 -0.25458027 -0.08012570\n",
       "P4 0.6460984  0.155910734 -0.420035175  0.16155841  0.25612472  0.05396196\n",
       "P5 0.5991831  0.001597656 -0.190629766 -0.27917545 -0.02415412 -0.56702825\n",
       "P6 0.5582186  0.041692189  0.001600526  0.42190545 -0.37106310  0.35990140\n",
       "P7 0.2804781  0.349197906  0.495527227 -0.48556977  0.21472075  0.33456139"
      ]
     },
     "metadata": {},
     "output_type": "display_data"
    }
   ],
   "source": [
    "var$coord"
   ]
  },
  {
   "cell_type": "markdown",
   "metadata": {},
   "source": [
    "Матрица собственных векторов $U_i = \\frac{F_i}{\\sqrt{\\lambda_i}}$:"
   ]
  },
  {
   "cell_type": "code",
   "execution_count": 9,
   "metadata": {},
   "outputs": [
    {
     "data": {
      "text/html": [
       "<table class=\"dataframe\">\n",
       "<caption>A matrix: 11 × 6 of type dbl</caption>\n",
       "<thead>\n",
       "\t<tr><th></th><th scope=col>Dim.1</th><th scope=col>Dim.2</th><th scope=col>Dim.3</th><th scope=col>Dim.4</th><th scope=col>Dim.5</th><th scope=col>Dim.6</th></tr>\n",
       "</thead>\n",
       "<tbody>\n",
       "\t<tr><th scope=row>M1</th><td>0.1723898</td><td>-0.035769370</td><td> 0.666102584</td><td> 0.48857665</td><td> 0.36341247</td><td>-0.19462746</td></tr>\n",
       "\t<tr><th scope=row>M2</th><td>0.4912963</td><td>-0.585745232</td><td> 0.219092094</td><td> 0.19496796</td><td>-0.07733594</td><td> 0.01359773</td></tr>\n",
       "\t<tr><th scope=row>M3</th><td>0.5566874</td><td>-0.488218661</td><td> 0.230186677</td><td>-0.18775397</td><td>-0.28935829</td><td>-0.12308197</td></tr>\n",
       "\t<tr><th scope=row>M4</th><td>0.4024361</td><td>-0.487660776</td><td>-0.152446131</td><td>-0.26174826</td><td> 0.51489630</td><td> 0.18367591</td></tr>\n",
       "\t<tr><th scope=row>P1</th><td>0.6666719</td><td> 0.083532417</td><td>-0.240919179</td><td>-0.03899988</td><td>-0.06318568</td><td> 0.23180220</td></tr>\n",
       "\t<tr><th scope=row>P2</th><td>0.4996679</td><td> 0.545768572</td><td>-0.079528474</td><td> 0.31199236</td><td> 0.17646326</td><td>-0.16982140</td></tr>\n",
       "\t<tr><th scope=row>P3</th><td>0.4750271</td><td> 0.443511069</td><td> 0.330127294</td><td>-0.28730392</td><td>-0.25458027</td><td>-0.08012570</td></tr>\n",
       "\t<tr><th scope=row>P4</th><td>0.6460984</td><td> 0.155910734</td><td>-0.420035175</td><td> 0.16155841</td><td> 0.25612472</td><td> 0.05396196</td></tr>\n",
       "\t<tr><th scope=row>P5</th><td>0.5991831</td><td> 0.001597656</td><td>-0.190629766</td><td>-0.27917545</td><td>-0.02415412</td><td>-0.56702825</td></tr>\n",
       "\t<tr><th scope=row>P6</th><td>0.5582186</td><td> 0.041692189</td><td> 0.001600526</td><td> 0.42190545</td><td>-0.37106310</td><td> 0.35990140</td></tr>\n",
       "\t<tr><th scope=row>P7</th><td>0.2804781</td><td> 0.349197906</td><td> 0.495527227</td><td>-0.48556977</td><td> 0.21472075</td><td> 0.33456139</td></tr>\n",
       "</tbody>\n",
       "</table>\n"
      ],
      "text/latex": [
       "A matrix: 11 × 6 of type dbl\n",
       "\\begin{tabular}{r|llllll}\n",
       "  & Dim.1 & Dim.2 & Dim.3 & Dim.4 & Dim.5 & Dim.6\\\\\n",
       "\\hline\n",
       "\tM1 & 0.1723898 & -0.035769370 &  0.666102584 &  0.48857665 &  0.36341247 & -0.19462746\\\\\n",
       "\tM2 & 0.4912963 & -0.585745232 &  0.219092094 &  0.19496796 & -0.07733594 &  0.01359773\\\\\n",
       "\tM3 & 0.5566874 & -0.488218661 &  0.230186677 & -0.18775397 & -0.28935829 & -0.12308197\\\\\n",
       "\tM4 & 0.4024361 & -0.487660776 & -0.152446131 & -0.26174826 &  0.51489630 &  0.18367591\\\\\n",
       "\tP1 & 0.6666719 &  0.083532417 & -0.240919179 & -0.03899988 & -0.06318568 &  0.23180220\\\\\n",
       "\tP2 & 0.4996679 &  0.545768572 & -0.079528474 &  0.31199236 &  0.17646326 & -0.16982140\\\\\n",
       "\tP3 & 0.4750271 &  0.443511069 &  0.330127294 & -0.28730392 & -0.25458027 & -0.08012570\\\\\n",
       "\tP4 & 0.6460984 &  0.155910734 & -0.420035175 &  0.16155841 &  0.25612472 &  0.05396196\\\\\n",
       "\tP5 & 0.5991831 &  0.001597656 & -0.190629766 & -0.27917545 & -0.02415412 & -0.56702825\\\\\n",
       "\tP6 & 0.5582186 &  0.041692189 &  0.001600526 &  0.42190545 & -0.37106310 &  0.35990140\\\\\n",
       "\tP7 & 0.2804781 &  0.349197906 &  0.495527227 & -0.48556977 &  0.21472075 &  0.33456139\\\\\n",
       "\\end{tabular}\n"
      ],
      "text/markdown": [
       "\n",
       "A matrix: 11 × 6 of type dbl\n",
       "\n",
       "| <!--/--> | Dim.1 | Dim.2 | Dim.3 | Dim.4 | Dim.5 | Dim.6 |\n",
       "|---|---|---|---|---|---|---|\n",
       "| M1 | 0.1723898 | -0.035769370 |  0.666102584 |  0.48857665 |  0.36341247 | -0.19462746 |\n",
       "| M2 | 0.4912963 | -0.585745232 |  0.219092094 |  0.19496796 | -0.07733594 |  0.01359773 |\n",
       "| M3 | 0.5566874 | -0.488218661 |  0.230186677 | -0.18775397 | -0.28935829 | -0.12308197 |\n",
       "| M4 | 0.4024361 | -0.487660776 | -0.152446131 | -0.26174826 |  0.51489630 |  0.18367591 |\n",
       "| P1 | 0.6666719 |  0.083532417 | -0.240919179 | -0.03899988 | -0.06318568 |  0.23180220 |\n",
       "| P2 | 0.4996679 |  0.545768572 | -0.079528474 |  0.31199236 |  0.17646326 | -0.16982140 |\n",
       "| P3 | 0.4750271 |  0.443511069 |  0.330127294 | -0.28730392 | -0.25458027 | -0.08012570 |\n",
       "| P4 | 0.6460984 |  0.155910734 | -0.420035175 |  0.16155841 |  0.25612472 |  0.05396196 |\n",
       "| P5 | 0.5991831 |  0.001597656 | -0.190629766 | -0.27917545 | -0.02415412 | -0.56702825 |\n",
       "| P6 | 0.5582186 |  0.041692189 |  0.001600526 |  0.42190545 | -0.37106310 |  0.35990140 |\n",
       "| P7 | 0.2804781 |  0.349197906 |  0.495527227 | -0.48556977 |  0.21472075 |  0.33456139 |\n",
       "\n"
      ],
      "text/plain": [
       "   Dim.1     Dim.2        Dim.3        Dim.4       Dim.5       Dim.6      \n",
       "M1 0.1723898 -0.035769370  0.666102584  0.48857665  0.36341247 -0.19462746\n",
       "M2 0.4912963 -0.585745232  0.219092094  0.19496796 -0.07733594  0.01359773\n",
       "M3 0.5566874 -0.488218661  0.230186677 -0.18775397 -0.28935829 -0.12308197\n",
       "M4 0.4024361 -0.487660776 -0.152446131 -0.26174826  0.51489630  0.18367591\n",
       "P1 0.6666719  0.083532417 -0.240919179 -0.03899988 -0.06318568  0.23180220\n",
       "P2 0.4996679  0.545768572 -0.079528474  0.31199236  0.17646326 -0.16982140\n",
       "P3 0.4750271  0.443511069  0.330127294 -0.28730392 -0.25458027 -0.08012570\n",
       "P4 0.6460984  0.155910734 -0.420035175  0.16155841  0.25612472  0.05396196\n",
       "P5 0.5991831  0.001597656 -0.190629766 -0.27917545 -0.02415412 -0.56702825\n",
       "P6 0.5582186  0.041692189  0.001600526  0.42190545 -0.37106310  0.35990140\n",
       "P7 0.2804781  0.349197906  0.495527227 -0.48556977  0.21472075  0.33456139"
      ]
     },
     "metadata": {},
     "output_type": "display_data"
    }
   ],
   "source": [
    "var$cor"
   ]
  },
  {
   "cell_type": "markdown",
   "metadata": {},
   "source": [
    "Первый новый признак: сумма баллов за задачи.\n",
    "Второй новый признак: разность между суммами баллов по физике математике. "
   ]
  },
  {
   "cell_type": "code",
   "execution_count": 10,
   "metadata": {},
   "outputs": [
    {
     "data": {
      "image/png": "[encoded data removed]",
      "text/plain": [
       "plot without title"
      ]
     },
     "metadata": {
      "image/png": {
       "height": 420,
       "width": 420
      }
     },
     "output_type": "display_data"
    }
   ],
   "source": [
    "fviz_pca_ind(res.pca)"
   ]
  },
  {
   "cell_type": "markdown",
   "metadata": {},
   "source": [
    "Точки на графике $z_{ij} = <x_i, U_j>$."
   ]
  },
  {
   "cell_type": "code",
   "execution_count": 11,
   "metadata": {},
   "outputs": [
    {
     "data": {
      "image/png": "[encoded data removed]",
      "text/plain": [
       "plot without title"
      ]
     },
     "metadata": {
      "image/png": {
       "height": 420,
       "width": 420
      }
     },
     "output_type": "display_data"
    }
   ],
   "source": [
    "fviz_pca_ind(res.pca,\n",
    "             geom.ind = \"point\", # show points only (nbut not \"text\")\n",
    "             col.ind = as.factor(df$RES), # color by groups\n",
    "             palette = c(\"#00AFBB\", \"#FC4E07\"),\n",
    "             addEllipses = TRUE, # Concentration ellipses\n",
    "             legend.title = \"Groups\"\n",
    "             )"
   ]
  },
  {
   "cell_type": "markdown",
   "metadata": {},
   "source": [
    "У индивидов под номерами $45$ и $48$ большая сумма баллов за все задачи и маленькая разница между суммой баллов по физике и математике, то есть баллы по математике даже превышают баллы по физике."
   ]
  },
  {
   "cell_type": "code",
   "execution_count": 12,
   "metadata": {},
   "outputs": [
    {
     "data": {
      "text/html": [
       "<table class=\"dataframe\">\n",
       "<caption>A data.frame: 1 × 13</caption>\n",
       "<thead>\n",
       "\t<tr><th></th><th scope=col>N</th><th scope=col>M1</th><th scope=col>M2</th><th scope=col>M3</th><th scope=col>M4</th><th scope=col>P1</th><th scope=col>P2</th><th scope=col>P3</th><th scope=col>P4</th><th scope=col>P5</th><th scope=col>P6</th><th scope=col>P7</th><th scope=col>RES</th></tr>\n",
       "\t<tr><th></th><th scope=col>&lt;int&gt;</th><th scope=col>&lt;int&gt;</th><th scope=col>&lt;int&gt;</th><th scope=col>&lt;int&gt;</th><th scope=col>&lt;int&gt;</th><th scope=col>&lt;int&gt;</th><th scope=col>&lt;int&gt;</th><th scope=col>&lt;int&gt;</th><th scope=col>&lt;int&gt;</th><th scope=col>&lt;int&gt;</th><th scope=col>&lt;int&gt;</th><th scope=col>&lt;int&gt;</th><th scope=col>&lt;int&gt;</th></tr>\n",
       "</thead>\n",
       "<tbody>\n",
       "\t<tr><th scope=row>77</th><td>77</td><td>0</td><td>0</td><td>0</td><td>0</td><td>3</td><td>3</td><td>3</td><td>3</td><td>5</td><td>5</td><td>1</td><td>0</td></tr>\n",
       "</tbody>\n",
       "</table>\n"
      ],
      "text/latex": [
       "A data.frame: 1 × 13\n",
       "\\begin{tabular}{r|lllllllllllll}\n",
       "  & N & M1 & M2 & M3 & M4 & P1 & P2 & P3 & P4 & P5 & P6 & P7 & RES\\\\\n",
       "  & <int> & <int> & <int> & <int> & <int> & <int> & <int> & <int> & <int> & <int> & <int> & <int> & <int>\\\\\n",
       "\\hline\n",
       "\t77 & 77 & 0 & 0 & 0 & 0 & 3 & 3 & 3 & 3 & 5 & 5 & 1 & 0\\\\\n",
       "\\end{tabular}\n"
      ],
      "text/markdown": [
       "\n",
       "A data.frame: 1 × 13\n",
       "\n",
       "| <!--/--> | N &lt;int&gt; | M1 &lt;int&gt; | M2 &lt;int&gt; | M3 &lt;int&gt; | M4 &lt;int&gt; | P1 &lt;int&gt; | P2 &lt;int&gt; | P3 &lt;int&gt; | P4 &lt;int&gt; | P5 &lt;int&gt; | P6 &lt;int&gt; | P7 &lt;int&gt; | RES &lt;int&gt; |\n",
       "|---|---|---|---|---|---|---|---|---|---|---|---|---|---|\n",
       "| 77 | 77 | 0 | 0 | 0 | 0 | 3 | 3 | 3 | 3 | 5 | 5 | 1 | 0 |\n",
       "\n"
      ],
      "text/plain": [
       "   N  M1 M2 M3 M4 P1 P2 P3 P4 P5 P6 P7 RES\n",
       "77 77 0  0  0  0  3  3  3  3  5  5  1  0  "
      ]
     },
     "metadata": {},
     "output_type": "display_data"
    }
   ],
   "source": [
    "df[77,]"
   ]
  },
  {
   "cell_type": "markdown",
   "metadata": {},
   "source": [
    "У индивида под номером $77$ нет ни одного балла по математике, поэтому значение второй главной компоненты довольно высокое и должно примерно совпадать со значением первой главной компоненты."
   ]
  },
  {
   "cell_type": "code",
   "execution_count": 13,
   "metadata": {},
   "outputs": [],
   "source": [
    "ind <- get_pca_ind(res.pca)"
   ]
  },
  {
   "cell_type": "markdown",
   "metadata": {},
   "source": [
    "Факторные координаты индивидов $Z$:"
   ]
  },
  {
   "cell_type": "code",
   "execution_count": 14,
   "metadata": {},
   "outputs": [
    {
     "data": {
      "text/html": [
       "<table class=\"dataframe\">\n",
       "<caption>A matrix: 10 × 6 of type dbl</caption>\n",
       "<thead>\n",
       "\t<tr><th></th><th scope=col>Dim.1</th><th scope=col>Dim.2</th><th scope=col>Dim.3</th><th scope=col>Dim.4</th><th scope=col>Dim.5</th><th scope=col>Dim.6</th></tr>\n",
       "</thead>\n",
       "<tbody>\n",
       "\t<tr><th scope=row>1</th><td>-1.4817812</td><td> 0.05242039</td><td>-0.09053342</td><td>-0.2001716</td><td>-0.1438798</td><td> 0.11296706</td></tr>\n",
       "\t<tr><th scope=row>2</th><td>-1.5192702</td><td> 0.06786241</td><td>-0.24467877</td><td>-0.6088876</td><td> 0.1904207</td><td>-0.09391281</td></tr>\n",
       "\t<tr><th scope=row>3</th><td> 0.5217400</td><td>-1.71646081</td><td>-1.77247875</td><td>-1.5670109</td><td> 3.6657363</td><td> 1.13042413</td></tr>\n",
       "\t<tr><th scope=row>4</th><td> 2.2093935</td><td>-0.82942317</td><td>-0.54482657</td><td>-0.7806353</td><td>-1.3897105</td><td>-1.15948551</td></tr>\n",
       "\t<tr><th scope=row>5</th><td> 2.1463530</td><td>-0.59000261</td><td> 2.39746569</td><td> 2.4396904</td><td> 0.5147888</td><td>-1.60829809</td></tr>\n",
       "\t<tr><th scope=row>6</th><td> 0.8803464</td><td> 0.64393286</td><td> 2.14621191</td><td> 3.4556595</td><td> 2.1254285</td><td>-0.35549709</td></tr>\n",
       "\t<tr><th scope=row>7</th><td> 4.5303666</td><td>-0.96694700</td><td> 2.80530616</td><td>-3.7796180</td><td> 1.1109220</td><td> 2.48962412</td></tr>\n",
       "\t<tr><th scope=row>8</th><td>-2.5957526</td><td>-0.45559192</td><td> 0.27491014</td><td>-0.7841031</td><td> 0.1715241</td><td>-0.48824357</td></tr>\n",
       "\t<tr><th scope=row>9</th><td> 0.5809607</td><td> 1.18219420</td><td>-1.17947390</td><td> 1.1852572</td><td> 0.1558624</td><td> 0.69100328</td></tr>\n",
       "\t<tr><th scope=row>10</th><td> 1.9341962</td><td> 0.15411363</td><td> 1.28616970</td><td>-1.6710773</td><td>-2.8670953</td><td>-0.93222755</td></tr>\n",
       "</tbody>\n",
       "</table>\n"
      ],
      "text/latex": [
       "A matrix: 10 × 6 of type dbl\n",
       "\\begin{tabular}{r|llllll}\n",
       "  & Dim.1 & Dim.2 & Dim.3 & Dim.4 & Dim.5 & Dim.6\\\\\n",
       "\\hline\n",
       "\t1 & -1.4817812 &  0.05242039 & -0.09053342 & -0.2001716 & -0.1438798 &  0.11296706\\\\\n",
       "\t2 & -1.5192702 &  0.06786241 & -0.24467877 & -0.6088876 &  0.1904207 & -0.09391281\\\\\n",
       "\t3 &  0.5217400 & -1.71646081 & -1.77247875 & -1.5670109 &  3.6657363 &  1.13042413\\\\\n",
       "\t4 &  2.2093935 & -0.82942317 & -0.54482657 & -0.7806353 & -1.3897105 & -1.15948551\\\\\n",
       "\t5 &  2.1463530 & -0.59000261 &  2.39746569 &  2.4396904 &  0.5147888 & -1.60829809\\\\\n",
       "\t6 &  0.8803464 &  0.64393286 &  2.14621191 &  3.4556595 &  2.1254285 & -0.35549709\\\\\n",
       "\t7 &  4.5303666 & -0.96694700 &  2.80530616 & -3.7796180 &  1.1109220 &  2.48962412\\\\\n",
       "\t8 & -2.5957526 & -0.45559192 &  0.27491014 & -0.7841031 &  0.1715241 & -0.48824357\\\\\n",
       "\t9 &  0.5809607 &  1.18219420 & -1.17947390 &  1.1852572 &  0.1558624 &  0.69100328\\\\\n",
       "\t10 &  1.9341962 &  0.15411363 &  1.28616970 & -1.6710773 & -2.8670953 & -0.93222755\\\\\n",
       "\\end{tabular}\n"
      ],
      "text/markdown": [
       "\n",
       "A matrix: 10 × 6 of type dbl\n",
       "\n",
       "| <!--/--> | Dim.1 | Dim.2 | Dim.3 | Dim.4 | Dim.5 | Dim.6 |\n",
       "|---|---|---|---|---|---|---|\n",
       "| 1 | -1.4817812 |  0.05242039 | -0.09053342 | -0.2001716 | -0.1438798 |  0.11296706 |\n",
       "| 2 | -1.5192702 |  0.06786241 | -0.24467877 | -0.6088876 |  0.1904207 | -0.09391281 |\n",
       "| 3 |  0.5217400 | -1.71646081 | -1.77247875 | -1.5670109 |  3.6657363 |  1.13042413 |\n",
       "| 4 |  2.2093935 | -0.82942317 | -0.54482657 | -0.7806353 | -1.3897105 | -1.15948551 |\n",
       "| 5 |  2.1463530 | -0.59000261 |  2.39746569 |  2.4396904 |  0.5147888 | -1.60829809 |\n",
       "| 6 |  0.8803464 |  0.64393286 |  2.14621191 |  3.4556595 |  2.1254285 | -0.35549709 |\n",
       "| 7 |  4.5303666 | -0.96694700 |  2.80530616 | -3.7796180 |  1.1109220 |  2.48962412 |\n",
       "| 8 | -2.5957526 | -0.45559192 |  0.27491014 | -0.7841031 |  0.1715241 | -0.48824357 |\n",
       "| 9 |  0.5809607 |  1.18219420 | -1.17947390 |  1.1852572 |  0.1558624 |  0.69100328 |\n",
       "| 10 |  1.9341962 |  0.15411363 |  1.28616970 | -1.6710773 | -2.8670953 | -0.93222755 |\n",
       "\n"
      ],
      "text/plain": [
       "   Dim.1      Dim.2       Dim.3       Dim.4      Dim.5      Dim.6      \n",
       "1  -1.4817812  0.05242039 -0.09053342 -0.2001716 -0.1438798  0.11296706\n",
       "2  -1.5192702  0.06786241 -0.24467877 -0.6088876  0.1904207 -0.09391281\n",
       "3   0.5217400 -1.71646081 -1.77247875 -1.5670109  3.6657363  1.13042413\n",
       "4   2.2093935 -0.82942317 -0.54482657 -0.7806353 -1.3897105 -1.15948551\n",
       "5   2.1463530 -0.59000261  2.39746569  2.4396904  0.5147888 -1.60829809\n",
       "6   0.8803464  0.64393286  2.14621191  3.4556595  2.1254285 -0.35549709\n",
       "7   4.5303666 -0.96694700  2.80530616 -3.7796180  1.1109220  2.48962412\n",
       "8  -2.5957526 -0.45559192  0.27491014 -0.7841031  0.1715241 -0.48824357\n",
       "9   0.5809607  1.18219420 -1.17947390  1.1852572  0.1558624  0.69100328\n",
       "10  1.9341962  0.15411363  1.28616970 -1.6710773 -2.8670953 -0.93222755"
      ]
     },
     "metadata": {},
     "output_type": "display_data"
    }
   ],
   "source": [
    "head(ind$coord, 10)"
   ]
  }
 ],
 "metadata": {
  "kernelspec": {
   "display_name": "R",
   "language": "R",
   "name": "ir"
  },
  "language_info": {
   "codemirror_mode": "r",
   "file_extension": ".r",
   "mimetype": "text/x-r-source",
   "name": "R",
   "pygments_lexer": "r",
   "version": "4.0.4"
  }
 },
 "nbformat": 4,
 "nbformat_minor": 4
}
