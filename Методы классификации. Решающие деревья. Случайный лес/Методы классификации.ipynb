{
 "cells": [
  {
   "cell_type": "markdown",
   "metadata": {},
   "source": [
    "# Методы классификации\n",
    "## Мандрикова Анастасия\n",
    "### Решающие деревья"
   ]
  },
  {
   "cell_type": "code",
   "execution_count": 1,
   "metadata": {},
   "outputs": [
    {
     "data": {
      "text/html": [
       "<table class=\"dataframe\">\n",
       "<caption>A data.frame: 6 × 10</caption>\n",
       "<thead>\n",
       "\t<tr><th></th><th scope=col>X</th><th scope=col>Group</th><th scope=col>ChildWeight</th><th scope=col>ChildHeight</th><th scope=col>MotherWeightBefore</th><th scope=col>MotherWeightAfter</th><th scope=col>Skinfold</th><th scope=col>Matake</th><th scope=col>LogHDL</th><th scope=col>LogLDL</th></tr>\n",
       "\t<tr><th></th><th scope=col>&lt;int&gt;</th><th scope=col>&lt;int&gt;</th><th scope=col>&lt;int&gt;</th><th scope=col>&lt;int&gt;</th><th scope=col>&lt;dbl&gt;</th><th scope=col>&lt;int&gt;</th><th scope=col>&lt;int&gt;</th><th scope=col>&lt;dbl&gt;</th><th scope=col>&lt;dbl&gt;</th><th scope=col>&lt;dbl&gt;</th></tr>\n",
       "</thead>\n",
       "<tbody>\n",
       "\t<tr><th scope=row>1</th><td>1</td><td>0</td><td>3750</td><td>52</td><td>76.3</td><td>77</td><td>19</td><td>29.40000</td><td>0.78390154</td><td>1.1908876</td></tr>\n",
       "\t<tr><th scope=row>2</th><td>2</td><td>1</td><td>3500</td><td>54</td><td>84.0</td><td>92</td><td>37</td><td>33.69786</td><td>0.98207847</td><td>1.2669476</td></tr>\n",
       "\t<tr><th scope=row>3</th><td>3</td><td>1</td><td>3840</td><td>54</td><td>90.0</td><td>91</td><td>24</td><td>37.84200</td><td>0.71783979</td><td>1.0508216</td></tr>\n",
       "\t<tr><th scope=row>4</th><td>4</td><td>1</td><td>4120</td><td>54</td><td>82.5</td><td>80</td><td>34</td><td>43.93071</td><td>0.02955880</td><td>0.8501509</td></tr>\n",
       "\t<tr><th scope=row>5</th><td>5</td><td>1</td><td>3750</td><td>53</td><td>86.0</td><td>80</td><td>30</td><td>26.11143</td><td>0.11332868</td><td>0.9042182</td></tr>\n",
       "\t<tr><th scope=row>6</th><td>6</td><td>1</td><td>3550</td><td>53</td><td>76.0</td><td>88</td><td>53</td><td>39.27857</td><td>0.05826891</td><td>0.7654678</td></tr>\n",
       "</tbody>\n",
       "</table>\n"
      ],
      "text/latex": [
       "A data.frame: 6 × 10\n",
       "\\begin{tabular}{r|llllllllll}\n",
       "  & X & Group & ChildWeight & ChildHeight & MotherWeightBefore & MotherWeightAfter & Skinfold & Matake & LogHDL & LogLDL\\\\\n",
       "  & <int> & <int> & <int> & <int> & <dbl> & <int> & <int> & <dbl> & <dbl> & <dbl>\\\\\n",
       "\\hline\n",
       "\t1 & 1 & 0 & 3750 & 52 & 76.3 & 77 & 19 & 29.40000 & 0.78390154 & 1.1908876\\\\\n",
       "\t2 & 2 & 1 & 3500 & 54 & 84.0 & 92 & 37 & 33.69786 & 0.98207847 & 1.2669476\\\\\n",
       "\t3 & 3 & 1 & 3840 & 54 & 90.0 & 91 & 24 & 37.84200 & 0.71783979 & 1.0508216\\\\\n",
       "\t4 & 4 & 1 & 4120 & 54 & 82.5 & 80 & 34 & 43.93071 & 0.02955880 & 0.8501509\\\\\n",
       "\t5 & 5 & 1 & 3750 & 53 & 86.0 & 80 & 30 & 26.11143 & 0.11332868 & 0.9042182\\\\\n",
       "\t6 & 6 & 1 & 3550 & 53 & 76.0 & 88 & 53 & 39.27857 & 0.05826891 & 0.7654678\\\\\n",
       "\\end{tabular}\n"
      ],
      "text/markdown": [
       "\n",
       "A data.frame: 6 × 10\n",
       "\n",
       "| <!--/--> | X &lt;int&gt; | Group &lt;int&gt; | ChildWeight &lt;int&gt; | ChildHeight &lt;int&gt; | MotherWeightBefore &lt;dbl&gt; | MotherWeightAfter &lt;int&gt; | Skinfold &lt;int&gt; | Matake &lt;dbl&gt; | LogHDL &lt;dbl&gt; | LogLDL &lt;dbl&gt; |\n",
       "|---|---|---|---|---|---|---|---|---|---|---|\n",
       "| 1 | 1 | 0 | 3750 | 52 | 76.3 | 77 | 19 | 29.40000 | 0.78390154 | 1.1908876 |\n",
       "| 2 | 2 | 1 | 3500 | 54 | 84.0 | 92 | 37 | 33.69786 | 0.98207847 | 1.2669476 |\n",
       "| 3 | 3 | 1 | 3840 | 54 | 90.0 | 91 | 24 | 37.84200 | 0.71783979 | 1.0508216 |\n",
       "| 4 | 4 | 1 | 4120 | 54 | 82.5 | 80 | 34 | 43.93071 | 0.02955880 | 0.8501509 |\n",
       "| 5 | 5 | 1 | 3750 | 53 | 86.0 | 80 | 30 | 26.11143 | 0.11332868 | 0.9042182 |\n",
       "| 6 | 6 | 1 | 3550 | 53 | 76.0 | 88 | 53 | 39.27857 | 0.05826891 | 0.7654678 |\n",
       "\n"
      ],
      "text/plain": [
       "  X Group ChildWeight ChildHeight MotherWeightBefore MotherWeightAfter Skinfold\n",
       "1 1 0     3750        52          76.3               77                19      \n",
       "2 2 1     3500        54          84.0               92                37      \n",
       "3 3 1     3840        54          90.0               91                24      \n",
       "4 4 1     4120        54          82.5               80                34      \n",
       "5 5 1     3750        53          86.0               80                30      \n",
       "6 6 1     3550        53          76.0               88                53      \n",
       "  Matake   LogHDL     LogLDL   \n",
       "1 29.40000 0.78390154 1.1908876\n",
       "2 33.69786 0.98207847 1.2669476\n",
       "3 37.84200 0.71783979 1.0508216\n",
       "4 43.93071 0.02955880 0.8501509\n",
       "5 26.11143 0.11332868 0.9042182\n",
       "6 39.27857 0.05826891 0.7654678"
      ]
     },
     "metadata": {},
     "output_type": "display_data"
    }
   ],
   "source": [
    "data <- read.csv(\"dataNegrusha3.csv\")\n",
    "head(data)"
   ]
  },
  {
   "cell_type": "code",
   "execution_count": 2,
   "metadata": {},
   "outputs": [
    {
     "data": {
      "text/html": [
       "<table class=\"dataframe\">\n",
       "<caption>A data.frame: 6 × 5</caption>\n",
       "<thead>\n",
       "\t<tr><th></th><th scope=col>Group</th><th scope=col>ChildWeight</th><th scope=col>ChildHeight</th><th scope=col>MotherWeightBefore</th><th scope=col>MotherWeightAfter</th></tr>\n",
       "\t<tr><th></th><th scope=col>&lt;int&gt;</th><th scope=col>&lt;int&gt;</th><th scope=col>&lt;int&gt;</th><th scope=col>&lt;dbl&gt;</th><th scope=col>&lt;int&gt;</th></tr>\n",
       "</thead>\n",
       "<tbody>\n",
       "\t<tr><th scope=row>1</th><td>0</td><td>3750</td><td>52</td><td>76.3</td><td>77</td></tr>\n",
       "\t<tr><th scope=row>2</th><td>1</td><td>3500</td><td>54</td><td>84.0</td><td>92</td></tr>\n",
       "\t<tr><th scope=row>3</th><td>1</td><td>3840</td><td>54</td><td>90.0</td><td>91</td></tr>\n",
       "\t<tr><th scope=row>4</th><td>1</td><td>4120</td><td>54</td><td>82.5</td><td>80</td></tr>\n",
       "\t<tr><th scope=row>5</th><td>1</td><td>3750</td><td>53</td><td>86.0</td><td>80</td></tr>\n",
       "\t<tr><th scope=row>6</th><td>1</td><td>3550</td><td>53</td><td>76.0</td><td>88</td></tr>\n",
       "</tbody>\n",
       "</table>\n"
      ],
      "text/latex": [
       "A data.frame: 6 × 5\n",
       "\\begin{tabular}{r|lllll}\n",
       "  & Group & ChildWeight & ChildHeight & MotherWeightBefore & MotherWeightAfter\\\\\n",
       "  & <int> & <int> & <int> & <dbl> & <int>\\\\\n",
       "\\hline\n",
       "\t1 & 0 & 3750 & 52 & 76.3 & 77\\\\\n",
       "\t2 & 1 & 3500 & 54 & 84.0 & 92\\\\\n",
       "\t3 & 1 & 3840 & 54 & 90.0 & 91\\\\\n",
       "\t4 & 1 & 4120 & 54 & 82.5 & 80\\\\\n",
       "\t5 & 1 & 3750 & 53 & 86.0 & 80\\\\\n",
       "\t6 & 1 & 3550 & 53 & 76.0 & 88\\\\\n",
       "\\end{tabular}\n"
      ],
      "text/markdown": [
       "\n",
       "A data.frame: 6 × 5\n",
       "\n",
       "| <!--/--> | Group &lt;int&gt; | ChildWeight &lt;int&gt; | ChildHeight &lt;int&gt; | MotherWeightBefore &lt;dbl&gt; | MotherWeightAfter &lt;int&gt; |\n",
       "|---|---|---|---|---|---|\n",
       "| 1 | 0 | 3750 | 52 | 76.3 | 77 |\n",
       "| 2 | 1 | 3500 | 54 | 84.0 | 92 |\n",
       "| 3 | 1 | 3840 | 54 | 90.0 | 91 |\n",
       "| 4 | 1 | 4120 | 54 | 82.5 | 80 |\n",
       "| 5 | 1 | 3750 | 53 | 86.0 | 80 |\n",
       "| 6 | 1 | 3550 | 53 | 76.0 | 88 |\n",
       "\n"
      ],
      "text/plain": [
       "  Group ChildWeight ChildHeight MotherWeightBefore MotherWeightAfter\n",
       "1 0     3750        52          76.3               77               \n",
       "2 1     3500        54          84.0               92               \n",
       "3 1     3840        54          90.0               91               \n",
       "4 1     4120        54          82.5               80               \n",
       "5 1     3750        53          86.0               80               \n",
       "6 1     3550        53          76.0               88               "
      ]
     },
     "metadata": {},
     "output_type": "display_data"
    }
   ],
   "source": [
    "data <- data[c(\"Group\", \"ChildWeight\", \"ChildHeight\", \"MotherWeightBefore\", \"MotherWeightAfter\")]\n",
    "head(data)"
   ]
  },
  {
   "cell_type": "code",
   "execution_count": 3,
   "metadata": {},
   "outputs": [
    {
     "name": "stderr",
     "output_type": "stream",
     "text": [
      "Warning message:\n",
      "\"package 'tree' was built under R version 4.0.5\"\n"
     ]
    },
    {
     "data": {
      "image/png": "[encoded data removed]",
      "text/plain": [
       "plot without title"
      ]
     },
     "metadata": {
      "image/png": {
       "height": 420,
       "width": 420
      }
     },
     "output_type": "display_data"
    }
   ],
   "source": [
    "library(\"tree\")\n",
    "treeA <- tree(Group~., data)\n",
    "plot(treeA);text(treeA, col = 3)"
   ]
  },
  {
   "cell_type": "code",
   "execution_count": 4,
   "metadata": {},
   "outputs": [
    {
     "data": {
      "text/plain": [
       "\n",
       "Regression tree:\n",
       "tree(formula = Group ~ ., data = data)\n",
       "Variables actually used in tree construction:\n",
       "[1] \"MotherWeightAfter\"  \"MotherWeightBefore\"\n",
       "Number of terminal nodes:  3 \n",
       "Residual mean deviance:  0.08258 = 2.725 / 33 \n",
       "Distribution of residuals:\n",
       "    Min.  1st Qu.   Median     Mean  3rd Qu.     Max. \n",
       "-0.90910 -0.05882 -0.05882  0.00000  0.09091  0.94120 "
      ]
     },
     "metadata": {},
     "output_type": "display_data"
    }
   ],
   "source": [
    "summary(treeA)"
   ]
  },
  {
   "cell_type": "code",
   "execution_count": 5,
   "metadata": {},
   "outputs": [],
   "source": [
    "I_inf <- function(X){\n",
    "    nn <- table(X)\n",
    "    n <- sum(nn)\n",
    "    n*log(n) - sum(nn*log(nn))\n",
    "}\n",
    "\n",
    "D_inf <- function(X, Y){I_inf(c(X, Y)) - I_inf(X) - I_inf(Y)}"
   ]
  },
  {
   "cell_type": "code",
   "execution_count": 6,
   "metadata": {},
   "outputs": [],
   "source": [
    "GinyDA <- function(y, class, k1, k2){\n",
    "    # y независимая переменная, class,\n",
    "    # k1,k2 минимальные объемы подвыборок\n",
    "    ss <- sort(unique(y))\n",
    "    ss. <- (ss[-1] + ss[-length(ss)])/2;\n",
    "    # определяем середины интервалов между наблюдениями\n",
    "    l <- lapply(ss., function(x){\n",
    "        L1 <- class[y <= x]\n",
    "        L2 <- class[y > x]\n",
    "        if(length(L1) > k1 & length(L2) > k2){res <- c(D_inf(L1, L2), x)}\n",
    "        else {res <- c(NA, NA)}\n",
    "    })\n",
    "    # считаем информационные выигрыши при размежевании данных\n",
    "    d <- data.frame(na.omit(do.call('rbind', l)))\n",
    "    names(d) <- c(\"delta\", \"x\")\n",
    "    d\n",
    "}"
   ]
  },
  {
   "cell_type": "code",
   "execution_count": 7,
   "metadata": {},
   "outputs": [
    {
     "data": {
      "text/html": [
       "<table class=\"dataframe\">\n",
       "<caption>A data.frame: 23 × 2</caption>\n",
       "<thead>\n",
       "\t<tr><th scope=col>delta</th><th scope=col>x</th></tr>\n",
       "\t<tr><th scope=col>&lt;dbl&gt;</th><th scope=col>&lt;dbl&gt;</th></tr>\n",
       "</thead>\n",
       "<tbody>\n",
       "\t<tr><td>2.21599363</td><td>3050</td></tr>\n",
       "\t<tr><td>3.02324387</td><td>3120</td></tr>\n",
       "\t<tr><td>1.62018023</td><td>3150</td></tr>\n",
       "\t<tr><td>0.46368064</td><td>3180</td></tr>\n",
       "\t<tr><td>0.87675994</td><td>3225</td></tr>\n",
       "\t<tr><td>1.39035684</td><td>3260</td></tr>\n",
       "\t<tr><td>1.24792599</td><td>3275</td></tr>\n",
       "\t<tr><td>0.40964627</td><td>3305</td></tr>\n",
       "\t<tr><td>0.25267154</td><td>3340</td></tr>\n",
       "\t<tr><td>0.11931394</td><td>3370</td></tr>\n",
       "\t<tr><td>0.03781635</td><td>3395</td></tr>\n",
       "\t<tr><td>0.43182873</td><td>3405</td></tr>\n",
       "\t<tr><td>0.34268580</td><td>3415</td></tr>\n",
       "\t<tr><td>1.15783716</td><td>3460</td></tr>\n",
       "\t<tr><td>0.94693002</td><td>3525</td></tr>\n",
       "\t<tr><td>0.54729887</td><td>3570</td></tr>\n",
       "\t<tr><td>1.14578212</td><td>3595</td></tr>\n",
       "\t<tr><td>0.40964627</td><td>3675</td></tr>\n",
       "\t<tr><td>0.34791606</td><td>3775</td></tr>\n",
       "\t<tr><td>0.11267342</td><td>3820</td></tr>\n",
       "\t<tr><td>0.02375509</td><td>3845</td></tr>\n",
       "\t<tr><td>0.60954399</td><td>3985</td></tr>\n",
       "\t<tr><td>2.23974872</td><td>4160</td></tr>\n",
       "</tbody>\n",
       "</table>\n"
      ],
      "text/latex": [
       "A data.frame: 23 × 2\n",
       "\\begin{tabular}{ll}\n",
       " delta & x\\\\\n",
       " <dbl> & <dbl>\\\\\n",
       "\\hline\n",
       "\t 2.21599363 & 3050\\\\\n",
       "\t 3.02324387 & 3120\\\\\n",
       "\t 1.62018023 & 3150\\\\\n",
       "\t 0.46368064 & 3180\\\\\n",
       "\t 0.87675994 & 3225\\\\\n",
       "\t 1.39035684 & 3260\\\\\n",
       "\t 1.24792599 & 3275\\\\\n",
       "\t 0.40964627 & 3305\\\\\n",
       "\t 0.25267154 & 3340\\\\\n",
       "\t 0.11931394 & 3370\\\\\n",
       "\t 0.03781635 & 3395\\\\\n",
       "\t 0.43182873 & 3405\\\\\n",
       "\t 0.34268580 & 3415\\\\\n",
       "\t 1.15783716 & 3460\\\\\n",
       "\t 0.94693002 & 3525\\\\\n",
       "\t 0.54729887 & 3570\\\\\n",
       "\t 1.14578212 & 3595\\\\\n",
       "\t 0.40964627 & 3675\\\\\n",
       "\t 0.34791606 & 3775\\\\\n",
       "\t 0.11267342 & 3820\\\\\n",
       "\t 0.02375509 & 3845\\\\\n",
       "\t 0.60954399 & 3985\\\\\n",
       "\t 2.23974872 & 4160\\\\\n",
       "\\end{tabular}\n"
      ],
      "text/markdown": [
       "\n",
       "A data.frame: 23 × 2\n",
       "\n",
       "| delta &lt;dbl&gt; | x &lt;dbl&gt; |\n",
       "|---|---|\n",
       "| 2.21599363 | 3050 |\n",
       "| 3.02324387 | 3120 |\n",
       "| 1.62018023 | 3150 |\n",
       "| 0.46368064 | 3180 |\n",
       "| 0.87675994 | 3225 |\n",
       "| 1.39035684 | 3260 |\n",
       "| 1.24792599 | 3275 |\n",
       "| 0.40964627 | 3305 |\n",
       "| 0.25267154 | 3340 |\n",
       "| 0.11931394 | 3370 |\n",
       "| 0.03781635 | 3395 |\n",
       "| 0.43182873 | 3405 |\n",
       "| 0.34268580 | 3415 |\n",
       "| 1.15783716 | 3460 |\n",
       "| 0.94693002 | 3525 |\n",
       "| 0.54729887 | 3570 |\n",
       "| 1.14578212 | 3595 |\n",
       "| 0.40964627 | 3675 |\n",
       "| 0.34791606 | 3775 |\n",
       "| 0.11267342 | 3820 |\n",
       "| 0.02375509 | 3845 |\n",
       "| 0.60954399 | 3985 |\n",
       "| 2.23974872 | 4160 |\n",
       "\n"
      ],
      "text/plain": [
       "   delta      x   \n",
       "1  2.21599363 3050\n",
       "2  3.02324387 3120\n",
       "3  1.62018023 3150\n",
       "4  0.46368064 3180\n",
       "5  0.87675994 3225\n",
       "6  1.39035684 3260\n",
       "7  1.24792599 3275\n",
       "8  0.40964627 3305\n",
       "9  0.25267154 3340\n",
       "10 0.11931394 3370\n",
       "11 0.03781635 3395\n",
       "12 0.43182873 3405\n",
       "13 0.34268580 3415\n",
       "14 1.15783716 3460\n",
       "15 0.94693002 3525\n",
       "16 0.54729887 3570\n",
       "17 1.14578212 3595\n",
       "18 0.40964627 3675\n",
       "19 0.34791606 3775\n",
       "20 0.11267342 3820\n",
       "21 0.02375509 3845\n",
       "22 0.60954399 3985\n",
       "23 2.23974872 4160"
      ]
     },
     "metadata": {},
     "output_type": "display_data"
    }
   ],
   "source": [
    "GinyDA(data$ChildWeight, data$Group, 2, 2)"
   ]
  },
  {
   "cell_type": "code",
   "execution_count": 8,
   "metadata": {},
   "outputs": [
    {
     "data": {
      "text/html": [
       "<table class=\"dataframe\">\n",
       "<caption>A data.frame: 6 × 2</caption>\n",
       "<thead>\n",
       "\t<tr><th scope=col>delta</th><th scope=col>x</th></tr>\n",
       "\t<tr><th scope=col>&lt;dbl&gt;</th><th scope=col>&lt;dbl&gt;</th></tr>\n",
       "</thead>\n",
       "<tbody>\n",
       "\t<tr><td>2.21599363</td><td>49.5</td></tr>\n",
       "\t<tr><td>0.46368064</td><td>50.5</td></tr>\n",
       "\t<tr><td>0.06731721</td><td>51.5</td></tr>\n",
       "\t<tr><td>0.65407634</td><td>52.5</td></tr>\n",
       "\t<tr><td>0.87675994</td><td>53.5</td></tr>\n",
       "\t<tr><td>0.24221930</td><td>54.5</td></tr>\n",
       "</tbody>\n",
       "</table>\n"
      ],
      "text/latex": [
       "A data.frame: 6 × 2\n",
       "\\begin{tabular}{ll}\n",
       " delta & x\\\\\n",
       " <dbl> & <dbl>\\\\\n",
       "\\hline\n",
       "\t 2.21599363 & 49.5\\\\\n",
       "\t 0.46368064 & 50.5\\\\\n",
       "\t 0.06731721 & 51.5\\\\\n",
       "\t 0.65407634 & 52.5\\\\\n",
       "\t 0.87675994 & 53.5\\\\\n",
       "\t 0.24221930 & 54.5\\\\\n",
       "\\end{tabular}\n"
      ],
      "text/markdown": [
       "\n",
       "A data.frame: 6 × 2\n",
       "\n",
       "| delta &lt;dbl&gt; | x &lt;dbl&gt; |\n",
       "|---|---|\n",
       "| 2.21599363 | 49.5 |\n",
       "| 0.46368064 | 50.5 |\n",
       "| 0.06731721 | 51.5 |\n",
       "| 0.65407634 | 52.5 |\n",
       "| 0.87675994 | 53.5 |\n",
       "| 0.24221930 | 54.5 |\n",
       "\n"
      ],
      "text/plain": [
       "  delta      x   \n",
       "1 2.21599363 49.5\n",
       "2 0.46368064 50.5\n",
       "3 0.06731721 51.5\n",
       "4 0.65407634 52.5\n",
       "5 0.87675994 53.5\n",
       "6 0.24221930 54.5"
      ]
     },
     "metadata": {},
     "output_type": "display_data"
    }
   ],
   "source": [
    "GinyDA(data$ChildHeight, data$Group, 2, 2)"
   ]
  },
  {
   "cell_type": "code",
   "execution_count": 9,
   "metadata": {},
   "outputs": [
    {
     "data": {
      "text/html": [
       "<table class=\"dataframe\">\n",
       "<caption>A data.frame: 25 × 2</caption>\n",
       "<thead>\n",
       "\t<tr><th scope=col>delta</th><th scope=col>x</th></tr>\n",
       "\t<tr><th scope=col>&lt;dbl&gt;</th><th scope=col>&lt;dbl&gt;</th></tr>\n",
       "</thead>\n",
       "<tbody>\n",
       "\t<tr><td> 5.545739</td><td> 65.60</td></tr>\n",
       "\t<tr><td> 7.777599</td><td> 72.50</td></tr>\n",
       "\t<tr><td>10.318002</td><td> 73.75</td></tr>\n",
       "\t<tr><td>13.349389</td><td> 75.25</td></tr>\n",
       "\t<tr><td>11.000853</td><td> 76.15</td></tr>\n",
       "\t<tr><td>15.207358</td><td> 77.20</td></tr>\n",
       "\t<tr><td>13.965087</td><td> 79.40</td></tr>\n",
       "\t<tr><td>13.160219</td><td> 81.35</td></tr>\n",
       "\t<tr><td>12.623227</td><td> 82.25</td></tr>\n",
       "\t<tr><td>12.279350</td><td> 83.25</td></tr>\n",
       "\t<tr><td>12.088718</td><td> 84.20</td></tr>\n",
       "\t<tr><td>12.028473</td><td> 85.20</td></tr>\n",
       "\t<tr><td>12.532406</td><td> 88.00</td></tr>\n",
       "\t<tr><td>12.924826</td><td> 90.25</td></tr>\n",
       "\t<tr><td>13.440459</td><td> 90.75</td></tr>\n",
       "\t<tr><td>14.916246</td><td> 92.50</td></tr>\n",
       "\t<tr><td>12.084874</td><td> 94.75</td></tr>\n",
       "\t<tr><td> 9.588876</td><td> 96.40</td></tr>\n",
       "\t<tr><td> 7.602358</td><td> 97.75</td></tr>\n",
       "\t<tr><td> 8.545864</td><td> 98.50</td></tr>\n",
       "\t<tr><td> 9.936522</td><td>100.40</td></tr>\n",
       "\t<tr><td> 8.641102</td><td>103.00</td></tr>\n",
       "\t<tr><td> 6.926787</td><td>106.00</td></tr>\n",
       "\t<tr><td> 5.347656</td><td>108.40</td></tr>\n",
       "\t<tr><td> 3.880617</td><td>110.30</td></tr>\n",
       "</tbody>\n",
       "</table>\n"
      ],
      "text/latex": [
       "A data.frame: 25 × 2\n",
       "\\begin{tabular}{ll}\n",
       " delta & x\\\\\n",
       " <dbl> & <dbl>\\\\\n",
       "\\hline\n",
       "\t  5.545739 &  65.60\\\\\n",
       "\t  7.777599 &  72.50\\\\\n",
       "\t 10.318002 &  73.75\\\\\n",
       "\t 13.349389 &  75.25\\\\\n",
       "\t 11.000853 &  76.15\\\\\n",
       "\t 15.207358 &  77.20\\\\\n",
       "\t 13.965087 &  79.40\\\\\n",
       "\t 13.160219 &  81.35\\\\\n",
       "\t 12.623227 &  82.25\\\\\n",
       "\t 12.279350 &  83.25\\\\\n",
       "\t 12.088718 &  84.20\\\\\n",
       "\t 12.028473 &  85.20\\\\\n",
       "\t 12.532406 &  88.00\\\\\n",
       "\t 12.924826 &  90.25\\\\\n",
       "\t 13.440459 &  90.75\\\\\n",
       "\t 14.916246 &  92.50\\\\\n",
       "\t 12.084874 &  94.75\\\\\n",
       "\t  9.588876 &  96.40\\\\\n",
       "\t  7.602358 &  97.75\\\\\n",
       "\t  8.545864 &  98.50\\\\\n",
       "\t  9.936522 & 100.40\\\\\n",
       "\t  8.641102 & 103.00\\\\\n",
       "\t  6.926787 & 106.00\\\\\n",
       "\t  5.347656 & 108.40\\\\\n",
       "\t  3.880617 & 110.30\\\\\n",
       "\\end{tabular}\n"
      ],
      "text/markdown": [
       "\n",
       "A data.frame: 25 × 2\n",
       "\n",
       "| delta &lt;dbl&gt; | x &lt;dbl&gt; |\n",
       "|---|---|\n",
       "|  5.545739 |  65.60 |\n",
       "|  7.777599 |  72.50 |\n",
       "| 10.318002 |  73.75 |\n",
       "| 13.349389 |  75.25 |\n",
       "| 11.000853 |  76.15 |\n",
       "| 15.207358 |  77.20 |\n",
       "| 13.965087 |  79.40 |\n",
       "| 13.160219 |  81.35 |\n",
       "| 12.623227 |  82.25 |\n",
       "| 12.279350 |  83.25 |\n",
       "| 12.088718 |  84.20 |\n",
       "| 12.028473 |  85.20 |\n",
       "| 12.532406 |  88.00 |\n",
       "| 12.924826 |  90.25 |\n",
       "| 13.440459 |  90.75 |\n",
       "| 14.916246 |  92.50 |\n",
       "| 12.084874 |  94.75 |\n",
       "|  9.588876 |  96.40 |\n",
       "|  7.602358 |  97.75 |\n",
       "|  8.545864 |  98.50 |\n",
       "|  9.936522 | 100.40 |\n",
       "|  8.641102 | 103.00 |\n",
       "|  6.926787 | 106.00 |\n",
       "|  5.347656 | 108.40 |\n",
       "|  3.880617 | 110.30 |\n",
       "\n"
      ],
      "text/plain": [
       "   delta     x     \n",
       "1   5.545739  65.60\n",
       "2   7.777599  72.50\n",
       "3  10.318002  73.75\n",
       "4  13.349389  75.25\n",
       "5  11.000853  76.15\n",
       "6  15.207358  77.20\n",
       "7  13.965087  79.40\n",
       "8  13.160219  81.35\n",
       "9  12.623227  82.25\n",
       "10 12.279350  83.25\n",
       "11 12.088718  84.20\n",
       "12 12.028473  85.20\n",
       "13 12.532406  88.00\n",
       "14 12.924826  90.25\n",
       "15 13.440459  90.75\n",
       "16 14.916246  92.50\n",
       "17 12.084874  94.75\n",
       "18  9.588876  96.40\n",
       "19  7.602358  97.75\n",
       "20  8.545864  98.50\n",
       "21  9.936522 100.40\n",
       "22  8.641102 103.00\n",
       "23  6.926787 106.00\n",
       "24  5.347656 108.40\n",
       "25  3.880617 110.30"
      ]
     },
     "metadata": {},
     "output_type": "display_data"
    }
   ],
   "source": [
    "GinyDA(data$MotherWeightBefore, data$Group, 2, 2)"
   ]
  },
  {
   "cell_type": "code",
   "execution_count": 10,
   "metadata": {},
   "outputs": [
    {
     "data": {
      "text/html": [
       "<table class=\"dataframe\">\n",
       "<caption>A data.frame: 23 × 2</caption>\n",
       "<thead>\n",
       "\t<tr><th scope=col>delta</th><th scope=col>x</th></tr>\n",
       "\t<tr><th scope=col>&lt;dbl&gt;</th><th scope=col>&lt;dbl&gt;</th></tr>\n",
       "</thead>\n",
       "<tbody>\n",
       "\t<tr><td> 5.545739</td><td> 64.0</td></tr>\n",
       "\t<tr><td> 3.915534</td><td> 68.5</td></tr>\n",
       "\t<tr><td> 5.863467</td><td> 72.5</td></tr>\n",
       "\t<tr><td> 5.160869</td><td> 76.5</td></tr>\n",
       "\t<tr><td> 7.266867</td><td> 78.5</td></tr>\n",
       "\t<tr><td> 8.864795</td><td> 80.5</td></tr>\n",
       "\t<tr><td> 8.651964</td><td> 81.5</td></tr>\n",
       "\t<tr><td> 8.646686</td><td> 83.5</td></tr>\n",
       "\t<tr><td>12.028473</td><td> 86.5</td></tr>\n",
       "\t<tr><td>12.253968</td><td> 89.0</td></tr>\n",
       "\t<tr><td>12.532406</td><td> 90.5</td></tr>\n",
       "\t<tr><td>12.924826</td><td> 91.5</td></tr>\n",
       "\t<tr><td>13.440459</td><td> 92.5</td></tr>\n",
       "\t<tr><td>14.095456</td><td> 93.5</td></tr>\n",
       "\t<tr><td>14.916246</td><td> 96.0</td></tr>\n",
       "\t<tr><td>13.284535</td><td> 98.5</td></tr>\n",
       "\t<tr><td>14.944876</td><td>100.5</td></tr>\n",
       "\t<tr><td>12.192724</td><td>103.5</td></tr>\n",
       "\t<tr><td> 6.292565</td><td>106.0</td></tr>\n",
       "\t<tr><td> 8.641102</td><td>108.5</td></tr>\n",
       "\t<tr><td> 6.926787</td><td>111.0</td></tr>\n",
       "\t<tr><td> 5.347656</td><td>113.0</td></tr>\n",
       "\t<tr><td> 3.880617</td><td>114.5</td></tr>\n",
       "</tbody>\n",
       "</table>\n"
      ],
      "text/latex": [
       "A data.frame: 23 × 2\n",
       "\\begin{tabular}{ll}\n",
       " delta & x\\\\\n",
       " <dbl> & <dbl>\\\\\n",
       "\\hline\n",
       "\t  5.545739 &  64.0\\\\\n",
       "\t  3.915534 &  68.5\\\\\n",
       "\t  5.863467 &  72.5\\\\\n",
       "\t  5.160869 &  76.5\\\\\n",
       "\t  7.266867 &  78.5\\\\\n",
       "\t  8.864795 &  80.5\\\\\n",
       "\t  8.651964 &  81.5\\\\\n",
       "\t  8.646686 &  83.5\\\\\n",
       "\t 12.028473 &  86.5\\\\\n",
       "\t 12.253968 &  89.0\\\\\n",
       "\t 12.532406 &  90.5\\\\\n",
       "\t 12.924826 &  91.5\\\\\n",
       "\t 13.440459 &  92.5\\\\\n",
       "\t 14.095456 &  93.5\\\\\n",
       "\t 14.916246 &  96.0\\\\\n",
       "\t 13.284535 &  98.5\\\\\n",
       "\t 14.944876 & 100.5\\\\\n",
       "\t 12.192724 & 103.5\\\\\n",
       "\t  6.292565 & 106.0\\\\\n",
       "\t  8.641102 & 108.5\\\\\n",
       "\t  6.926787 & 111.0\\\\\n",
       "\t  5.347656 & 113.0\\\\\n",
       "\t  3.880617 & 114.5\\\\\n",
       "\\end{tabular}\n"
      ],
      "text/markdown": [
       "\n",
       "A data.frame: 23 × 2\n",
       "\n",
       "| delta &lt;dbl&gt; | x &lt;dbl&gt; |\n",
       "|---|---|\n",
       "|  5.545739 |  64.0 |\n",
       "|  3.915534 |  68.5 |\n",
       "|  5.863467 |  72.5 |\n",
       "|  5.160869 |  76.5 |\n",
       "|  7.266867 |  78.5 |\n",
       "|  8.864795 |  80.5 |\n",
       "|  8.651964 |  81.5 |\n",
       "|  8.646686 |  83.5 |\n",
       "| 12.028473 |  86.5 |\n",
       "| 12.253968 |  89.0 |\n",
       "| 12.532406 |  90.5 |\n",
       "| 12.924826 |  91.5 |\n",
       "| 13.440459 |  92.5 |\n",
       "| 14.095456 |  93.5 |\n",
       "| 14.916246 |  96.0 |\n",
       "| 13.284535 |  98.5 |\n",
       "| 14.944876 | 100.5 |\n",
       "| 12.192724 | 103.5 |\n",
       "|  6.292565 | 106.0 |\n",
       "|  8.641102 | 108.5 |\n",
       "|  6.926787 | 111.0 |\n",
       "|  5.347656 | 113.0 |\n",
       "|  3.880617 | 114.5 |\n",
       "\n"
      ],
      "text/plain": [
       "   delta     x    \n",
       "1   5.545739  64.0\n",
       "2   3.915534  68.5\n",
       "3   5.863467  72.5\n",
       "4   5.160869  76.5\n",
       "5   7.266867  78.5\n",
       "6   8.864795  80.5\n",
       "7   8.651964  81.5\n",
       "8   8.646686  83.5\n",
       "9  12.028473  86.5\n",
       "10 12.253968  89.0\n",
       "11 12.532406  90.5\n",
       "12 12.924826  91.5\n",
       "13 13.440459  92.5\n",
       "14 14.095456  93.5\n",
       "15 14.916246  96.0\n",
       "16 13.284535  98.5\n",
       "17 14.944876 100.5\n",
       "18 12.192724 103.5\n",
       "19  6.292565 106.0\n",
       "20  8.641102 108.5\n",
       "21  6.926787 111.0\n",
       "22  5.347656 113.0\n",
       "23  3.880617 114.5"
      ]
     },
     "metadata": {},
     "output_type": "display_data"
    }
   ],
   "source": [
    "GinyDA(data$MotherWeightAfter, data$Group, 2, 2)"
   ]
  },
  {
   "cell_type": "markdown",
   "metadata": {},
   "source": [
    "Максимальное значение $\\Delta = 15.21$, если $MotherWeightBefore < 77.2$, то группа $0$."
   ]
  },
  {
   "cell_type": "code",
   "execution_count": 11,
   "metadata": {},
   "outputs": [
    {
     "data": {
      "text/html": [
       "<table class=\"dataframe\">\n",
       "<caption>A data.frame: 28 × 5</caption>\n",
       "<thead>\n",
       "\t<tr><th></th><th scope=col>Group</th><th scope=col>ChildWeight</th><th scope=col>ChildHeight</th><th scope=col>MotherWeightBefore</th><th scope=col>MotherWeightAfter</th></tr>\n",
       "\t<tr><th></th><th scope=col>&lt;int&gt;</th><th scope=col>&lt;int&gt;</th><th scope=col>&lt;int&gt;</th><th scope=col>&lt;dbl&gt;</th><th scope=col>&lt;int&gt;</th></tr>\n",
       "</thead>\n",
       "<tbody>\n",
       "\t<tr><th scope=row>2</th><td>1</td><td>3500</td><td>54</td><td> 84.0</td><td> 92</td></tr>\n",
       "\t<tr><th scope=row>3</th><td>1</td><td>3840</td><td>54</td><td> 90.0</td><td> 91</td></tr>\n",
       "\t<tr><th scope=row>4</th><td>1</td><td>4120</td><td>54</td><td> 82.5</td><td> 80</td></tr>\n",
       "\t<tr><th scope=row>5</th><td>1</td><td>3750</td><td>53</td><td> 86.0</td><td> 80</td></tr>\n",
       "\t<tr><th scope=row>7</th><td>1</td><td>3500</td><td>54</td><td> 91.0</td><td> 82</td></tr>\n",
       "\t<tr><th scope=row>8</th><td>1</td><td>3600</td><td>52</td><td> 98.2</td><td> 98</td></tr>\n",
       "\t<tr><th scope=row>9</th><td>1</td><td>3000</td><td>49</td><td> 94.0</td><td> 94</td></tr>\n",
       "\t<tr><th scope=row>10</th><td>1</td><td>3850</td><td>53</td><td> 80.7</td><td> 76</td></tr>\n",
       "\t<tr><th scope=row>11</th><td>1</td><td>3800</td><td>53</td><td> 98.8</td><td> 98</td></tr>\n",
       "\t<tr><th scope=row>12</th><td>1</td><td>2790</td><td>48</td><td>102.0</td><td> 99</td></tr>\n",
       "\t<tr><th scope=row>13</th><td>1</td><td>3250</td><td>51</td><td> 90.5</td><td> 68</td></tr>\n",
       "\t<tr><th scope=row>14</th><td>1</td><td>3600</td><td>52</td><td> 86.0</td><td>107</td></tr>\n",
       "\t<tr><th scope=row>15</th><td>1</td><td>3850</td><td>56</td><td> 84.4</td><td> 93</td></tr>\n",
       "\t<tr><th scope=row>16</th><td>1</td><td>2890</td><td>49</td><td> 82.0</td><td> 82</td></tr>\n",
       "\t<tr><th scope=row>17</th><td>1</td><td>3100</td><td>50</td><td> 86.0</td><td> 90</td></tr>\n",
       "\t<tr><th scope=row>18</th><td>1</td><td>3330</td><td>51</td><td> 78.1</td><td> 81</td></tr>\n",
       "\t<tr><th scope=row>19</th><td>1</td><td>3200</td><td>52</td><td> 91.0</td><td> 88</td></tr>\n",
       "\t<tr><th scope=row>21</th><td>2</td><td>3500</td><td>51</td><td>111.8</td><td>120</td></tr>\n",
       "\t<tr><th scope=row>22</th><td>2</td><td>4930</td><td>58</td><td>102.0</td><td>105</td></tr>\n",
       "\t<tr><th scope=row>23</th><td>2</td><td>4250</td><td>53</td><td> 95.5</td><td> 98</td></tr>\n",
       "\t<tr><th scope=row>24</th><td>2</td><td>3330</td><td>53</td><td>102.0</td><td>102</td></tr>\n",
       "\t<tr><th scope=row>25</th><td>2</td><td>3500</td><td>53</td><td>108.8</td><td>105</td></tr>\n",
       "\t<tr><th scope=row>26</th><td>2</td><td>3140</td><td>50</td><td>121.0</td><td>123</td></tr>\n",
       "\t<tr><th scope=row>27</th><td>2</td><td>3350</td><td>51</td><td> 97.3</td><td>105</td></tr>\n",
       "\t<tr><th scope=row>28</th><td>2</td><td>3590</td><td>53</td><td>122.0</td><td>110</td></tr>\n",
       "\t<tr><th scope=row>29</th><td>2</td><td>3410</td><td>52</td><td>104.0</td><td>114</td></tr>\n",
       "\t<tr><th scope=row>30</th><td>2</td><td>3280</td><td>52</td><td> 94.0</td><td>115</td></tr>\n",
       "\t<tr><th scope=row>31</th><td>2</td><td>3420</td><td>53</td><td>108.0</td><td>112</td></tr>\n",
       "</tbody>\n",
       "</table>\n"
      ],
      "text/latex": [
       "A data.frame: 28 × 5\n",
       "\\begin{tabular}{r|lllll}\n",
       "  & Group & ChildWeight & ChildHeight & MotherWeightBefore & MotherWeightAfter\\\\\n",
       "  & <int> & <int> & <int> & <dbl> & <int>\\\\\n",
       "\\hline\n",
       "\t2 & 1 & 3500 & 54 &  84.0 &  92\\\\\n",
       "\t3 & 1 & 3840 & 54 &  90.0 &  91\\\\\n",
       "\t4 & 1 & 4120 & 54 &  82.5 &  80\\\\\n",
       "\t5 & 1 & 3750 & 53 &  86.0 &  80\\\\\n",
       "\t7 & 1 & 3500 & 54 &  91.0 &  82\\\\\n",
       "\t8 & 1 & 3600 & 52 &  98.2 &  98\\\\\n",
       "\t9 & 1 & 3000 & 49 &  94.0 &  94\\\\\n",
       "\t10 & 1 & 3850 & 53 &  80.7 &  76\\\\\n",
       "\t11 & 1 & 3800 & 53 &  98.8 &  98\\\\\n",
       "\t12 & 1 & 2790 & 48 & 102.0 &  99\\\\\n",
       "\t13 & 1 & 3250 & 51 &  90.5 &  68\\\\\n",
       "\t14 & 1 & 3600 & 52 &  86.0 & 107\\\\\n",
       "\t15 & 1 & 3850 & 56 &  84.4 &  93\\\\\n",
       "\t16 & 1 & 2890 & 49 &  82.0 &  82\\\\\n",
       "\t17 & 1 & 3100 & 50 &  86.0 &  90\\\\\n",
       "\t18 & 1 & 3330 & 51 &  78.1 &  81\\\\\n",
       "\t19 & 1 & 3200 & 52 &  91.0 &  88\\\\\n",
       "\t21 & 2 & 3500 & 51 & 111.8 & 120\\\\\n",
       "\t22 & 2 & 4930 & 58 & 102.0 & 105\\\\\n",
       "\t23 & 2 & 4250 & 53 &  95.5 &  98\\\\\n",
       "\t24 & 2 & 3330 & 53 & 102.0 & 102\\\\\n",
       "\t25 & 2 & 3500 & 53 & 108.8 & 105\\\\\n",
       "\t26 & 2 & 3140 & 50 & 121.0 & 123\\\\\n",
       "\t27 & 2 & 3350 & 51 &  97.3 & 105\\\\\n",
       "\t28 & 2 & 3590 & 53 & 122.0 & 110\\\\\n",
       "\t29 & 2 & 3410 & 52 & 104.0 & 114\\\\\n",
       "\t30 & 2 & 3280 & 52 &  94.0 & 115\\\\\n",
       "\t31 & 2 & 3420 & 53 & 108.0 & 112\\\\\n",
       "\\end{tabular}\n"
      ],
      "text/markdown": [
       "\n",
       "A data.frame: 28 × 5\n",
       "\n",
       "| <!--/--> | Group &lt;int&gt; | ChildWeight &lt;int&gt; | ChildHeight &lt;int&gt; | MotherWeightBefore &lt;dbl&gt; | MotherWeightAfter &lt;int&gt; |\n",
       "|---|---|---|---|---|---|\n",
       "| 2 | 1 | 3500 | 54 |  84.0 |  92 |\n",
       "| 3 | 1 | 3840 | 54 |  90.0 |  91 |\n",
       "| 4 | 1 | 4120 | 54 |  82.5 |  80 |\n",
       "| 5 | 1 | 3750 | 53 |  86.0 |  80 |\n",
       "| 7 | 1 | 3500 | 54 |  91.0 |  82 |\n",
       "| 8 | 1 | 3600 | 52 |  98.2 |  98 |\n",
       "| 9 | 1 | 3000 | 49 |  94.0 |  94 |\n",
       "| 10 | 1 | 3850 | 53 |  80.7 |  76 |\n",
       "| 11 | 1 | 3800 | 53 |  98.8 |  98 |\n",
       "| 12 | 1 | 2790 | 48 | 102.0 |  99 |\n",
       "| 13 | 1 | 3250 | 51 |  90.5 |  68 |\n",
       "| 14 | 1 | 3600 | 52 |  86.0 | 107 |\n",
       "| 15 | 1 | 3850 | 56 |  84.4 |  93 |\n",
       "| 16 | 1 | 2890 | 49 |  82.0 |  82 |\n",
       "| 17 | 1 | 3100 | 50 |  86.0 |  90 |\n",
       "| 18 | 1 | 3330 | 51 |  78.1 |  81 |\n",
       "| 19 | 1 | 3200 | 52 |  91.0 |  88 |\n",
       "| 21 | 2 | 3500 | 51 | 111.8 | 120 |\n",
       "| 22 | 2 | 4930 | 58 | 102.0 | 105 |\n",
       "| 23 | 2 | 4250 | 53 |  95.5 |  98 |\n",
       "| 24 | 2 | 3330 | 53 | 102.0 | 102 |\n",
       "| 25 | 2 | 3500 | 53 | 108.8 | 105 |\n",
       "| 26 | 2 | 3140 | 50 | 121.0 | 123 |\n",
       "| 27 | 2 | 3350 | 51 |  97.3 | 105 |\n",
       "| 28 | 2 | 3590 | 53 | 122.0 | 110 |\n",
       "| 29 | 2 | 3410 | 52 | 104.0 | 114 |\n",
       "| 30 | 2 | 3280 | 52 |  94.0 | 115 |\n",
       "| 31 | 2 | 3420 | 53 | 108.0 | 112 |\n",
       "\n"
      ],
      "text/plain": [
       "   Group ChildWeight ChildHeight MotherWeightBefore MotherWeightAfter\n",
       "2  1     3500        54           84.0               92              \n",
       "3  1     3840        54           90.0               91              \n",
       "4  1     4120        54           82.5               80              \n",
       "5  1     3750        53           86.0               80              \n",
       "7  1     3500        54           91.0               82              \n",
       "8  1     3600        52           98.2               98              \n",
       "9  1     3000        49           94.0               94              \n",
       "10 1     3850        53           80.7               76              \n",
       "11 1     3800        53           98.8               98              \n",
       "12 1     2790        48          102.0               99              \n",
       "13 1     3250        51           90.5               68              \n",
       "14 1     3600        52           86.0              107              \n",
       "15 1     3850        56           84.4               93              \n",
       "16 1     2890        49           82.0               82              \n",
       "17 1     3100        50           86.0               90              \n",
       "18 1     3330        51           78.1               81              \n",
       "19 1     3200        52           91.0               88              \n",
       "21 2     3500        51          111.8              120              \n",
       "22 2     4930        58          102.0              105              \n",
       "23 2     4250        53           95.5               98              \n",
       "24 2     3330        53          102.0              102              \n",
       "25 2     3500        53          108.8              105              \n",
       "26 2     3140        50          121.0              123              \n",
       "27 2     3350        51           97.3              105              \n",
       "28 2     3590        53          122.0              110              \n",
       "29 2     3410        52          104.0              114              \n",
       "30 2     3280        52           94.0              115              \n",
       "31 2     3420        53          108.0              112              "
      ]
     },
     "metadata": {},
     "output_type": "display_data"
    }
   ],
   "source": [
    "A <- data[data$MotherWeightBefore >= 77.2,]\n",
    "B <- data[data$MotherWeightBefore < 77.2,]\n",
    "A"
   ]
  },
  {
   "cell_type": "code",
   "execution_count": 12,
   "metadata": {},
   "outputs": [
    {
     "data": {
      "text/html": [
       "<table class=\"dataframe\">\n",
       "<caption>A data.frame: 8 × 5</caption>\n",
       "<thead>\n",
       "\t<tr><th></th><th scope=col>Group</th><th scope=col>ChildWeight</th><th scope=col>ChildHeight</th><th scope=col>MotherWeightBefore</th><th scope=col>MotherWeightAfter</th></tr>\n",
       "\t<tr><th></th><th scope=col>&lt;int&gt;</th><th scope=col>&lt;int&gt;</th><th scope=col>&lt;int&gt;</th><th scope=col>&lt;dbl&gt;</th><th scope=col>&lt;int&gt;</th></tr>\n",
       "</thead>\n",
       "<tbody>\n",
       "\t<tr><th scope=row>1</th><td>0</td><td>3750</td><td>52</td><td>76.3</td><td>77</td></tr>\n",
       "\t<tr><th scope=row>6</th><td>1</td><td>3550</td><td>53</td><td>76.0</td><td>88</td></tr>\n",
       "\t<tr><th scope=row>20</th><td>0</td><td>3390</td><td>51</td><td>73.0</td><td>69</td></tr>\n",
       "\t<tr><th scope=row>32</th><td>0</td><td>4200</td><td>55</td><td>72.0</td><td>80</td></tr>\n",
       "\t<tr><th scope=row>33</th><td>0</td><td>3270</td><td>52</td><td>50.8</td><td>50</td></tr>\n",
       "\t<tr><th scope=row>34</th><td>0</td><td>3160</td><td>50</td><td>74.5</td><td>85</td></tr>\n",
       "\t<tr><th scope=row>35</th><td>0</td><td>3400</td><td>52</td><td>59.2</td><td>60</td></tr>\n",
       "\t<tr><th scope=row>36</th><td>0</td><td>3420</td><td>53</td><td>59.0</td><td>55</td></tr>\n",
       "</tbody>\n",
       "</table>\n"
      ],
      "text/latex": [
       "A data.frame: 8 × 5\n",
       "\\begin{tabular}{r|lllll}\n",
       "  & Group & ChildWeight & ChildHeight & MotherWeightBefore & MotherWeightAfter\\\\\n",
       "  & <int> & <int> & <int> & <dbl> & <int>\\\\\n",
       "\\hline\n",
       "\t1 & 0 & 3750 & 52 & 76.3 & 77\\\\\n",
       "\t6 & 1 & 3550 & 53 & 76.0 & 88\\\\\n",
       "\t20 & 0 & 3390 & 51 & 73.0 & 69\\\\\n",
       "\t32 & 0 & 4200 & 55 & 72.0 & 80\\\\\n",
       "\t33 & 0 & 3270 & 52 & 50.8 & 50\\\\\n",
       "\t34 & 0 & 3160 & 50 & 74.5 & 85\\\\\n",
       "\t35 & 0 & 3400 & 52 & 59.2 & 60\\\\\n",
       "\t36 & 0 & 3420 & 53 & 59.0 & 55\\\\\n",
       "\\end{tabular}\n"
      ],
      "text/markdown": [
       "\n",
       "A data.frame: 8 × 5\n",
       "\n",
       "| <!--/--> | Group &lt;int&gt; | ChildWeight &lt;int&gt; | ChildHeight &lt;int&gt; | MotherWeightBefore &lt;dbl&gt; | MotherWeightAfter &lt;int&gt; |\n",
       "|---|---|---|---|---|---|\n",
       "| 1 | 0 | 3750 | 52 | 76.3 | 77 |\n",
       "| 6 | 1 | 3550 | 53 | 76.0 | 88 |\n",
       "| 20 | 0 | 3390 | 51 | 73.0 | 69 |\n",
       "| 32 | 0 | 4200 | 55 | 72.0 | 80 |\n",
       "| 33 | 0 | 3270 | 52 | 50.8 | 50 |\n",
       "| 34 | 0 | 3160 | 50 | 74.5 | 85 |\n",
       "| 35 | 0 | 3400 | 52 | 59.2 | 60 |\n",
       "| 36 | 0 | 3420 | 53 | 59.0 | 55 |\n",
       "\n"
      ],
      "text/plain": [
       "   Group ChildWeight ChildHeight MotherWeightBefore MotherWeightAfter\n",
       "1  0     3750        52          76.3               77               \n",
       "6  1     3550        53          76.0               88               \n",
       "20 0     3390        51          73.0               69               \n",
       "32 0     4200        55          72.0               80               \n",
       "33 0     3270        52          50.8               50               \n",
       "34 0     3160        50          74.5               85               \n",
       "35 0     3400        52          59.2               60               \n",
       "36 0     3420        53          59.0               55               "
      ]
     },
     "metadata": {},
     "output_type": "display_data"
    }
   ],
   "source": [
    "B"
   ]
  },
  {
   "cell_type": "markdown",
   "metadata": {},
   "source": [
    "Повторим процедуру для группы $A$."
   ]
  },
  {
   "cell_type": "code",
   "execution_count": 13,
   "metadata": {},
   "outputs": [
    {
     "data": {
      "text/html": [
       "<table class=\"dataframe\">\n",
       "<caption>A data.frame: 17 × 2</caption>\n",
       "<thead>\n",
       "\t<tr><th scope=col>delta</th><th scope=col>x</th></tr>\n",
       "\t<tr><th scope=col>&lt;dbl&gt;</th><th scope=col>&lt;dbl&gt;</th></tr>\n",
       "</thead>\n",
       "<tbody>\n",
       "\t<tr><td>1.6120064289</td><td>3050</td></tr>\n",
       "\t<tr><td>2.2081491546</td><td>3120</td></tr>\n",
       "\t<tr><td>0.5120649280</td><td>3170</td></tr>\n",
       "\t<tr><td>0.8986809355</td><td>3225</td></tr>\n",
       "\t<tr><td>1.3571649457</td><td>3265</td></tr>\n",
       "\t<tr><td>0.4987940039</td><td>3305</td></tr>\n",
       "\t<tr><td>0.2863000359</td><td>3340</td></tr>\n",
       "\t<tr><td>0.0325470466</td><td>3380</td></tr>\n",
       "\t<tr><td>0.0249204327</td><td>3415</td></tr>\n",
       "\t<tr><td>0.2401251225</td><td>3460</td></tr>\n",
       "\t<tr><td>0.5606993143</td><td>3545</td></tr>\n",
       "\t<tr><td>1.2795779497</td><td>3595</td></tr>\n",
       "\t<tr><td>0.4987940039</td><td>3675</td></tr>\n",
       "\t<tr><td>0.2312941164</td><td>3775</td></tr>\n",
       "\t<tr><td>0.0575952945</td><td>3820</td></tr>\n",
       "\t<tr><td>0.0006499444</td><td>3845</td></tr>\n",
       "\t<tr><td>0.5152540604</td><td>3985</td></tr>\n",
       "</tbody>\n",
       "</table>\n"
      ],
      "text/latex": [
       "A data.frame: 17 × 2\n",
       "\\begin{tabular}{ll}\n",
       " delta & x\\\\\n",
       " <dbl> & <dbl>\\\\\n",
       "\\hline\n",
       "\t 1.6120064289 & 3050\\\\\n",
       "\t 2.2081491546 & 3120\\\\\n",
       "\t 0.5120649280 & 3170\\\\\n",
       "\t 0.8986809355 & 3225\\\\\n",
       "\t 1.3571649457 & 3265\\\\\n",
       "\t 0.4987940039 & 3305\\\\\n",
       "\t 0.2863000359 & 3340\\\\\n",
       "\t 0.0325470466 & 3380\\\\\n",
       "\t 0.0249204327 & 3415\\\\\n",
       "\t 0.2401251225 & 3460\\\\\n",
       "\t 0.5606993143 & 3545\\\\\n",
       "\t 1.2795779497 & 3595\\\\\n",
       "\t 0.4987940039 & 3675\\\\\n",
       "\t 0.2312941164 & 3775\\\\\n",
       "\t 0.0575952945 & 3820\\\\\n",
       "\t 0.0006499444 & 3845\\\\\n",
       "\t 0.5152540604 & 3985\\\\\n",
       "\\end{tabular}\n"
      ],
      "text/markdown": [
       "\n",
       "A data.frame: 17 × 2\n",
       "\n",
       "| delta &lt;dbl&gt; | x &lt;dbl&gt; |\n",
       "|---|---|\n",
       "| 1.6120064289 | 3050 |\n",
       "| 2.2081491546 | 3120 |\n",
       "| 0.5120649280 | 3170 |\n",
       "| 0.8986809355 | 3225 |\n",
       "| 1.3571649457 | 3265 |\n",
       "| 0.4987940039 | 3305 |\n",
       "| 0.2863000359 | 3340 |\n",
       "| 0.0325470466 | 3380 |\n",
       "| 0.0249204327 | 3415 |\n",
       "| 0.2401251225 | 3460 |\n",
       "| 0.5606993143 | 3545 |\n",
       "| 1.2795779497 | 3595 |\n",
       "| 0.4987940039 | 3675 |\n",
       "| 0.2312941164 | 3775 |\n",
       "| 0.0575952945 | 3820 |\n",
       "| 0.0006499444 | 3845 |\n",
       "| 0.5152540604 | 3985 |\n",
       "\n"
      ],
      "text/plain": [
       "   delta        x   \n",
       "1  1.6120064289 3050\n",
       "2  2.2081491546 3120\n",
       "3  0.5120649280 3170\n",
       "4  0.8986809355 3225\n",
       "5  1.3571649457 3265\n",
       "6  0.4987940039 3305\n",
       "7  0.2863000359 3340\n",
       "8  0.0325470466 3380\n",
       "9  0.0249204327 3415\n",
       "10 0.2401251225 3460\n",
       "11 0.5606993143 3545\n",
       "12 1.2795779497 3595\n",
       "13 0.4987940039 3675\n",
       "14 0.2312941164 3775\n",
       "15 0.0575952945 3820\n",
       "16 0.0006499444 3845\n",
       "17 0.5152540604 3985"
      ]
     },
     "metadata": {},
     "output_type": "display_data"
    }
   ],
   "source": [
    "GinyDA(A$ChildWeight, A$Group, 2, 2)"
   ]
  },
  {
   "cell_type": "code",
   "execution_count": 14,
   "metadata": {},
   "outputs": [
    {
     "data": {
      "text/html": [
       "<table class=\"dataframe\">\n",
       "<caption>A data.frame: 5 × 2</caption>\n",
       "<thead>\n",
       "\t<tr><th scope=col>delta</th><th scope=col>x</th></tr>\n",
       "\t<tr><th scope=col>&lt;dbl&gt;</th><th scope=col>&lt;dbl&gt;</th></tr>\n",
       "</thead>\n",
       "<tbody>\n",
       "\t<tr><td>1.61200643</td><td>49.5</td></tr>\n",
       "\t<tr><td>0.51206493</td><td>50.5</td></tr>\n",
       "\t<tr><td>0.09966365</td><td>51.5</td></tr>\n",
       "\t<tr><td>0.07494611</td><td>52.5</td></tr>\n",
       "\t<tr><td>0.89868094</td><td>53.5</td></tr>\n",
       "</tbody>\n",
       "</table>\n"
      ],
      "text/latex": [
       "A data.frame: 5 × 2\n",
       "\\begin{tabular}{ll}\n",
       " delta & x\\\\\n",
       " <dbl> & <dbl>\\\\\n",
       "\\hline\n",
       "\t 1.61200643 & 49.5\\\\\n",
       "\t 0.51206493 & 50.5\\\\\n",
       "\t 0.09966365 & 51.5\\\\\n",
       "\t 0.07494611 & 52.5\\\\\n",
       "\t 0.89868094 & 53.5\\\\\n",
       "\\end{tabular}\n"
      ],
      "text/markdown": [
       "\n",
       "A data.frame: 5 × 2\n",
       "\n",
       "| delta &lt;dbl&gt; | x &lt;dbl&gt; |\n",
       "|---|---|\n",
       "| 1.61200643 | 49.5 |\n",
       "| 0.51206493 | 50.5 |\n",
       "| 0.09966365 | 51.5 |\n",
       "| 0.07494611 | 52.5 |\n",
       "| 0.89868094 | 53.5 |\n",
       "\n"
      ],
      "text/plain": [
       "  delta      x   \n",
       "1 1.61200643 49.5\n",
       "2 0.51206493 50.5\n",
       "3 0.09966365 51.5\n",
       "4 0.07494611 52.5\n",
       "5 0.89868094 53.5"
      ]
     },
     "metadata": {},
     "output_type": "display_data"
    }
   ],
   "source": [
    "GinyDA(A$ChildHeight, A$Group, 2, 2)"
   ]
  },
  {
   "cell_type": "code",
   "execution_count": 15,
   "metadata": {},
   "outputs": [
    {
     "data": {
      "text/html": [
       "<table class=\"dataframe\">\n",
       "<caption>A data.frame: 17 × 2</caption>\n",
       "<thead>\n",
       "\t<tr><th scope=col>delta</th><th scope=col>x</th></tr>\n",
       "\t<tr><th scope=col>&lt;dbl&gt;</th><th scope=col>&lt;dbl&gt;</th></tr>\n",
       "</thead>\n",
       "<tbody>\n",
       "\t<tr><td> 1.612006</td><td> 82.25</td></tr>\n",
       "\t<tr><td> 2.208149</td><td> 83.25</td></tr>\n",
       "\t<tr><td> 2.839612</td><td> 84.20</td></tr>\n",
       "\t<tr><td> 3.511013</td><td> 85.20</td></tr>\n",
       "\t<tr><td> 5.828291</td><td> 88.00</td></tr>\n",
       "\t<tr><td> 6.731779</td><td> 90.25</td></tr>\n",
       "\t<tr><td> 7.723029</td><td> 90.75</td></tr>\n",
       "\t<tr><td>10.061524</td><td> 92.50</td></tr>\n",
       "\t<tr><td> 8.063647</td><td> 94.75</td></tr>\n",
       "\t<tr><td> 5.983907</td><td> 96.40</td></tr>\n",
       "\t<tr><td> 4.392785</td><td> 97.75</td></tr>\n",
       "\t<tr><td> 5.646125</td><td> 98.50</td></tr>\n",
       "\t<tr><td> 7.333678</td><td>100.40</td></tr>\n",
       "\t<tr><td> 6.969134</td><td>103.00</td></tr>\n",
       "\t<tr><td> 5.559068</td><td>106.00</td></tr>\n",
       "\t<tr><td> 4.272957</td><td>108.40</td></tr>\n",
       "\t<tr><td> 3.088515</td><td>110.30</td></tr>\n",
       "</tbody>\n",
       "</table>\n"
      ],
      "text/latex": [
       "A data.frame: 17 × 2\n",
       "\\begin{tabular}{ll}\n",
       " delta & x\\\\\n",
       " <dbl> & <dbl>\\\\\n",
       "\\hline\n",
       "\t  1.612006 &  82.25\\\\\n",
       "\t  2.208149 &  83.25\\\\\n",
       "\t  2.839612 &  84.20\\\\\n",
       "\t  3.511013 &  85.20\\\\\n",
       "\t  5.828291 &  88.00\\\\\n",
       "\t  6.731779 &  90.25\\\\\n",
       "\t  7.723029 &  90.75\\\\\n",
       "\t 10.061524 &  92.50\\\\\n",
       "\t  8.063647 &  94.75\\\\\n",
       "\t  5.983907 &  96.40\\\\\n",
       "\t  4.392785 &  97.75\\\\\n",
       "\t  5.646125 &  98.50\\\\\n",
       "\t  7.333678 & 100.40\\\\\n",
       "\t  6.969134 & 103.00\\\\\n",
       "\t  5.559068 & 106.00\\\\\n",
       "\t  4.272957 & 108.40\\\\\n",
       "\t  3.088515 & 110.30\\\\\n",
       "\\end{tabular}\n"
      ],
      "text/markdown": [
       "\n",
       "A data.frame: 17 × 2\n",
       "\n",
       "| delta &lt;dbl&gt; | x &lt;dbl&gt; |\n",
       "|---|---|\n",
       "|  1.612006 |  82.25 |\n",
       "|  2.208149 |  83.25 |\n",
       "|  2.839612 |  84.20 |\n",
       "|  3.511013 |  85.20 |\n",
       "|  5.828291 |  88.00 |\n",
       "|  6.731779 |  90.25 |\n",
       "|  7.723029 |  90.75 |\n",
       "| 10.061524 |  92.50 |\n",
       "|  8.063647 |  94.75 |\n",
       "|  5.983907 |  96.40 |\n",
       "|  4.392785 |  97.75 |\n",
       "|  5.646125 |  98.50 |\n",
       "|  7.333678 | 100.40 |\n",
       "|  6.969134 | 103.00 |\n",
       "|  5.559068 | 106.00 |\n",
       "|  4.272957 | 108.40 |\n",
       "|  3.088515 | 110.30 |\n",
       "\n"
      ],
      "text/plain": [
       "   delta     x     \n",
       "1   1.612006  82.25\n",
       "2   2.208149  83.25\n",
       "3   2.839612  84.20\n",
       "4   3.511013  85.20\n",
       "5   5.828291  88.00\n",
       "6   6.731779  90.25\n",
       "7   7.723029  90.75\n",
       "8  10.061524  92.50\n",
       "9   8.063647  94.75\n",
       "10  5.983907  96.40\n",
       "11  4.392785  97.75\n",
       "12  5.646125  98.50\n",
       "13  7.333678 100.40\n",
       "14  6.969134 103.00\n",
       "15  5.559068 106.00\n",
       "16  4.272957 108.40\n",
       "17  3.088515 110.30"
      ]
     },
     "metadata": {},
     "output_type": "display_data"
    }
   ],
   "source": [
    "GinyDA(A$MotherWeightBefore, A$Group, 2, 2)"
   ]
  },
  {
   "cell_type": "code",
   "execution_count": 16,
   "metadata": {},
   "outputs": [
    {
     "data": {
      "text/html": [
       "<table class=\"dataframe\">\n",
       "<caption>A data.frame: 17 × 2</caption>\n",
       "<thead>\n",
       "\t<tr><th scope=col>delta</th><th scope=col>x</th></tr>\n",
       "\t<tr><th scope=col>&lt;dbl&gt;</th><th scope=col>&lt;dbl&gt;</th></tr>\n",
       "</thead>\n",
       "<tbody>\n",
       "\t<tr><td> 2.208149</td><td> 80.5</td></tr>\n",
       "\t<tr><td> 2.839612</td><td> 81.5</td></tr>\n",
       "\t<tr><td> 4.227979</td><td> 85.0</td></tr>\n",
       "\t<tr><td> 4.997475</td><td> 89.0</td></tr>\n",
       "\t<tr><td> 5.828291</td><td> 90.5</td></tr>\n",
       "\t<tr><td> 6.731779</td><td> 91.5</td></tr>\n",
       "\t<tr><td> 7.723029</td><td> 92.5</td></tr>\n",
       "\t<tr><td> 8.822869</td><td> 93.5</td></tr>\n",
       "\t<tr><td>10.061524</td><td> 96.0</td></tr>\n",
       "\t<tr><td> 9.612850</td><td> 98.5</td></tr>\n",
       "\t<tr><td>11.606047</td><td>100.5</td></tr>\n",
       "\t<tr><td> 9.230444</td><td>103.5</td></tr>\n",
       "\t<tr><td> 4.363075</td><td>106.0</td></tr>\n",
       "\t<tr><td> 6.969134</td><td>108.5</td></tr>\n",
       "\t<tr><td> 5.559068</td><td>111.0</td></tr>\n",
       "\t<tr><td> 4.272957</td><td>113.0</td></tr>\n",
       "\t<tr><td> 3.088515</td><td>114.5</td></tr>\n",
       "</tbody>\n",
       "</table>\n"
      ],
      "text/latex": [
       "A data.frame: 17 × 2\n",
       "\\begin{tabular}{ll}\n",
       " delta & x\\\\\n",
       " <dbl> & <dbl>\\\\\n",
       "\\hline\n",
       "\t  2.208149 &  80.5\\\\\n",
       "\t  2.839612 &  81.5\\\\\n",
       "\t  4.227979 &  85.0\\\\\n",
       "\t  4.997475 &  89.0\\\\\n",
       "\t  5.828291 &  90.5\\\\\n",
       "\t  6.731779 &  91.5\\\\\n",
       "\t  7.723029 &  92.5\\\\\n",
       "\t  8.822869 &  93.5\\\\\n",
       "\t 10.061524 &  96.0\\\\\n",
       "\t  9.612850 &  98.5\\\\\n",
       "\t 11.606047 & 100.5\\\\\n",
       "\t  9.230444 & 103.5\\\\\n",
       "\t  4.363075 & 106.0\\\\\n",
       "\t  6.969134 & 108.5\\\\\n",
       "\t  5.559068 & 111.0\\\\\n",
       "\t  4.272957 & 113.0\\\\\n",
       "\t  3.088515 & 114.5\\\\\n",
       "\\end{tabular}\n"
      ],
      "text/markdown": [
       "\n",
       "A data.frame: 17 × 2\n",
       "\n",
       "| delta &lt;dbl&gt; | x &lt;dbl&gt; |\n",
       "|---|---|\n",
       "|  2.208149 |  80.5 |\n",
       "|  2.839612 |  81.5 |\n",
       "|  4.227979 |  85.0 |\n",
       "|  4.997475 |  89.0 |\n",
       "|  5.828291 |  90.5 |\n",
       "|  6.731779 |  91.5 |\n",
       "|  7.723029 |  92.5 |\n",
       "|  8.822869 |  93.5 |\n",
       "| 10.061524 |  96.0 |\n",
       "|  9.612850 |  98.5 |\n",
       "| 11.606047 | 100.5 |\n",
       "|  9.230444 | 103.5 |\n",
       "|  4.363075 | 106.0 |\n",
       "|  6.969134 | 108.5 |\n",
       "|  5.559068 | 111.0 |\n",
       "|  4.272957 | 113.0 |\n",
       "|  3.088515 | 114.5 |\n",
       "\n"
      ],
      "text/plain": [
       "   delta     x    \n",
       "1   2.208149  80.5\n",
       "2   2.839612  81.5\n",
       "3   4.227979  85.0\n",
       "4   4.997475  89.0\n",
       "5   5.828291  90.5\n",
       "6   6.731779  91.5\n",
       "7   7.723029  92.5\n",
       "8   8.822869  93.5\n",
       "9  10.061524  96.0\n",
       "10  9.612850  98.5\n",
       "11 11.606047 100.5\n",
       "12  9.230444 103.5\n",
       "13  4.363075 106.0\n",
       "14  6.969134 108.5\n",
       "15  5.559068 111.0\n",
       "16  4.272957 113.0\n",
       "17  3.088515 114.5"
      ]
     },
     "metadata": {},
     "output_type": "display_data"
    }
   ],
   "source": [
    "GinyDA(A$MotherWeightAfter, A$Group, 2, 2)"
   ]
  },
  {
   "cell_type": "markdown",
   "metadata": {},
   "source": [
    "Максимальное значение $\\Delta = 11.61$, если $MotherWeightAfter < 100.5$, то группа $1$, иначе $2$.   \n",
    "Итого классифицирующее правило: Если $MotherWeightBefore < 77.2$, то группа $0$, иначе если $MotherWeightAfter < 100.5$, то группа $1$, иначе $2$."
   ]
  },
  {
   "cell_type": "code",
   "execution_count": 17,
   "metadata": {},
   "outputs": [
    {
     "data": {
      "text/html": [
       "<table class=\"dataframe\">\n",
       "<caption>A data.frame: 17 × 5</caption>\n",
       "<thead>\n",
       "\t<tr><th></th><th scope=col>Group</th><th scope=col>ChildWeight</th><th scope=col>ChildHeight</th><th scope=col>MotherWeightBefore</th><th scope=col>MotherWeightAfter</th></tr>\n",
       "\t<tr><th></th><th scope=col>&lt;int&gt;</th><th scope=col>&lt;int&gt;</th><th scope=col>&lt;int&gt;</th><th scope=col>&lt;dbl&gt;</th><th scope=col>&lt;int&gt;</th></tr>\n",
       "</thead>\n",
       "<tbody>\n",
       "\t<tr><th scope=row>2</th><td>1</td><td>3500</td><td>54</td><td> 84.0</td><td>92</td></tr>\n",
       "\t<tr><th scope=row>3</th><td>1</td><td>3840</td><td>54</td><td> 90.0</td><td>91</td></tr>\n",
       "\t<tr><th scope=row>4</th><td>1</td><td>4120</td><td>54</td><td> 82.5</td><td>80</td></tr>\n",
       "\t<tr><th scope=row>5</th><td>1</td><td>3750</td><td>53</td><td> 86.0</td><td>80</td></tr>\n",
       "\t<tr><th scope=row>7</th><td>1</td><td>3500</td><td>54</td><td> 91.0</td><td>82</td></tr>\n",
       "\t<tr><th scope=row>8</th><td>1</td><td>3600</td><td>52</td><td> 98.2</td><td>98</td></tr>\n",
       "\t<tr><th scope=row>9</th><td>1</td><td>3000</td><td>49</td><td> 94.0</td><td>94</td></tr>\n",
       "\t<tr><th scope=row>10</th><td>1</td><td>3850</td><td>53</td><td> 80.7</td><td>76</td></tr>\n",
       "\t<tr><th scope=row>11</th><td>1</td><td>3800</td><td>53</td><td> 98.8</td><td>98</td></tr>\n",
       "\t<tr><th scope=row>12</th><td>1</td><td>2790</td><td>48</td><td>102.0</td><td>99</td></tr>\n",
       "\t<tr><th scope=row>13</th><td>1</td><td>3250</td><td>51</td><td> 90.5</td><td>68</td></tr>\n",
       "\t<tr><th scope=row>15</th><td>1</td><td>3850</td><td>56</td><td> 84.4</td><td>93</td></tr>\n",
       "\t<tr><th scope=row>16</th><td>1</td><td>2890</td><td>49</td><td> 82.0</td><td>82</td></tr>\n",
       "\t<tr><th scope=row>17</th><td>1</td><td>3100</td><td>50</td><td> 86.0</td><td>90</td></tr>\n",
       "\t<tr><th scope=row>18</th><td>1</td><td>3330</td><td>51</td><td> 78.1</td><td>81</td></tr>\n",
       "\t<tr><th scope=row>19</th><td>1</td><td>3200</td><td>52</td><td> 91.0</td><td>88</td></tr>\n",
       "\t<tr><th scope=row>23</th><td>2</td><td>4250</td><td>53</td><td> 95.5</td><td>98</td></tr>\n",
       "</tbody>\n",
       "</table>\n"
      ],
      "text/latex": [
       "A data.frame: 17 × 5\n",
       "\\begin{tabular}{r|lllll}\n",
       "  & Group & ChildWeight & ChildHeight & MotherWeightBefore & MotherWeightAfter\\\\\n",
       "  & <int> & <int> & <int> & <dbl> & <int>\\\\\n",
       "\\hline\n",
       "\t2 & 1 & 3500 & 54 &  84.0 & 92\\\\\n",
       "\t3 & 1 & 3840 & 54 &  90.0 & 91\\\\\n",
       "\t4 & 1 & 4120 & 54 &  82.5 & 80\\\\\n",
       "\t5 & 1 & 3750 & 53 &  86.0 & 80\\\\\n",
       "\t7 & 1 & 3500 & 54 &  91.0 & 82\\\\\n",
       "\t8 & 1 & 3600 & 52 &  98.2 & 98\\\\\n",
       "\t9 & 1 & 3000 & 49 &  94.0 & 94\\\\\n",
       "\t10 & 1 & 3850 & 53 &  80.7 & 76\\\\\n",
       "\t11 & 1 & 3800 & 53 &  98.8 & 98\\\\\n",
       "\t12 & 1 & 2790 & 48 & 102.0 & 99\\\\\n",
       "\t13 & 1 & 3250 & 51 &  90.5 & 68\\\\\n",
       "\t15 & 1 & 3850 & 56 &  84.4 & 93\\\\\n",
       "\t16 & 1 & 2890 & 49 &  82.0 & 82\\\\\n",
       "\t17 & 1 & 3100 & 50 &  86.0 & 90\\\\\n",
       "\t18 & 1 & 3330 & 51 &  78.1 & 81\\\\\n",
       "\t19 & 1 & 3200 & 52 &  91.0 & 88\\\\\n",
       "\t23 & 2 & 4250 & 53 &  95.5 & 98\\\\\n",
       "\\end{tabular}\n"
      ],
      "text/markdown": [
       "\n",
       "A data.frame: 17 × 5\n",
       "\n",
       "| <!--/--> | Group &lt;int&gt; | ChildWeight &lt;int&gt; | ChildHeight &lt;int&gt; | MotherWeightBefore &lt;dbl&gt; | MotherWeightAfter &lt;int&gt; |\n",
       "|---|---|---|---|---|---|\n",
       "| 2 | 1 | 3500 | 54 |  84.0 | 92 |\n",
       "| 3 | 1 | 3840 | 54 |  90.0 | 91 |\n",
       "| 4 | 1 | 4120 | 54 |  82.5 | 80 |\n",
       "| 5 | 1 | 3750 | 53 |  86.0 | 80 |\n",
       "| 7 | 1 | 3500 | 54 |  91.0 | 82 |\n",
       "| 8 | 1 | 3600 | 52 |  98.2 | 98 |\n",
       "| 9 | 1 | 3000 | 49 |  94.0 | 94 |\n",
       "| 10 | 1 | 3850 | 53 |  80.7 | 76 |\n",
       "| 11 | 1 | 3800 | 53 |  98.8 | 98 |\n",
       "| 12 | 1 | 2790 | 48 | 102.0 | 99 |\n",
       "| 13 | 1 | 3250 | 51 |  90.5 | 68 |\n",
       "| 15 | 1 | 3850 | 56 |  84.4 | 93 |\n",
       "| 16 | 1 | 2890 | 49 |  82.0 | 82 |\n",
       "| 17 | 1 | 3100 | 50 |  86.0 | 90 |\n",
       "| 18 | 1 | 3330 | 51 |  78.1 | 81 |\n",
       "| 19 | 1 | 3200 | 52 |  91.0 | 88 |\n",
       "| 23 | 2 | 4250 | 53 |  95.5 | 98 |\n",
       "\n"
      ],
      "text/plain": [
       "   Group ChildWeight ChildHeight MotherWeightBefore MotherWeightAfter\n",
       "2  1     3500        54           84.0              92               \n",
       "3  1     3840        54           90.0              91               \n",
       "4  1     4120        54           82.5              80               \n",
       "5  1     3750        53           86.0              80               \n",
       "7  1     3500        54           91.0              82               \n",
       "8  1     3600        52           98.2              98               \n",
       "9  1     3000        49           94.0              94               \n",
       "10 1     3850        53           80.7              76               \n",
       "11 1     3800        53           98.8              98               \n",
       "12 1     2790        48          102.0              99               \n",
       "13 1     3250        51           90.5              68               \n",
       "15 1     3850        56           84.4              93               \n",
       "16 1     2890        49           82.0              82               \n",
       "17 1     3100        50           86.0              90               \n",
       "18 1     3330        51           78.1              81               \n",
       "19 1     3200        52           91.0              88               \n",
       "23 2     4250        53           95.5              98               "
      ]
     },
     "metadata": {},
     "output_type": "display_data"
    }
   ],
   "source": [
    "C <- A[A$MotherWeightAfter >= 100.5,]\n",
    "A <- A[A$MotherWeightAfter < 100.5,]\n",
    "A"
   ]
  },
  {
   "cell_type": "code",
   "execution_count": 18,
   "metadata": {},
   "outputs": [
    {
     "data": {
      "text/html": [
       "<table class=\"dataframe\">\n",
       "<caption>A data.frame: 8 × 5</caption>\n",
       "<thead>\n",
       "\t<tr><th></th><th scope=col>Group</th><th scope=col>ChildWeight</th><th scope=col>ChildHeight</th><th scope=col>MotherWeightBefore</th><th scope=col>MotherWeightAfter</th></tr>\n",
       "\t<tr><th></th><th scope=col>&lt;int&gt;</th><th scope=col>&lt;int&gt;</th><th scope=col>&lt;int&gt;</th><th scope=col>&lt;dbl&gt;</th><th scope=col>&lt;int&gt;</th></tr>\n",
       "</thead>\n",
       "<tbody>\n",
       "\t<tr><th scope=row>1</th><td>0</td><td>3750</td><td>52</td><td>76.3</td><td>77</td></tr>\n",
       "\t<tr><th scope=row>6</th><td>1</td><td>3550</td><td>53</td><td>76.0</td><td>88</td></tr>\n",
       "\t<tr><th scope=row>20</th><td>0</td><td>3390</td><td>51</td><td>73.0</td><td>69</td></tr>\n",
       "\t<tr><th scope=row>32</th><td>0</td><td>4200</td><td>55</td><td>72.0</td><td>80</td></tr>\n",
       "\t<tr><th scope=row>33</th><td>0</td><td>3270</td><td>52</td><td>50.8</td><td>50</td></tr>\n",
       "\t<tr><th scope=row>34</th><td>0</td><td>3160</td><td>50</td><td>74.5</td><td>85</td></tr>\n",
       "\t<tr><th scope=row>35</th><td>0</td><td>3400</td><td>52</td><td>59.2</td><td>60</td></tr>\n",
       "\t<tr><th scope=row>36</th><td>0</td><td>3420</td><td>53</td><td>59.0</td><td>55</td></tr>\n",
       "</tbody>\n",
       "</table>\n"
      ],
      "text/latex": [
       "A data.frame: 8 × 5\n",
       "\\begin{tabular}{r|lllll}\n",
       "  & Group & ChildWeight & ChildHeight & MotherWeightBefore & MotherWeightAfter\\\\\n",
       "  & <int> & <int> & <int> & <dbl> & <int>\\\\\n",
       "\\hline\n",
       "\t1 & 0 & 3750 & 52 & 76.3 & 77\\\\\n",
       "\t6 & 1 & 3550 & 53 & 76.0 & 88\\\\\n",
       "\t20 & 0 & 3390 & 51 & 73.0 & 69\\\\\n",
       "\t32 & 0 & 4200 & 55 & 72.0 & 80\\\\\n",
       "\t33 & 0 & 3270 & 52 & 50.8 & 50\\\\\n",
       "\t34 & 0 & 3160 & 50 & 74.5 & 85\\\\\n",
       "\t35 & 0 & 3400 & 52 & 59.2 & 60\\\\\n",
       "\t36 & 0 & 3420 & 53 & 59.0 & 55\\\\\n",
       "\\end{tabular}\n"
      ],
      "text/markdown": [
       "\n",
       "A data.frame: 8 × 5\n",
       "\n",
       "| <!--/--> | Group &lt;int&gt; | ChildWeight &lt;int&gt; | ChildHeight &lt;int&gt; | MotherWeightBefore &lt;dbl&gt; | MotherWeightAfter &lt;int&gt; |\n",
       "|---|---|---|---|---|---|\n",
       "| 1 | 0 | 3750 | 52 | 76.3 | 77 |\n",
       "| 6 | 1 | 3550 | 53 | 76.0 | 88 |\n",
       "| 20 | 0 | 3390 | 51 | 73.0 | 69 |\n",
       "| 32 | 0 | 4200 | 55 | 72.0 | 80 |\n",
       "| 33 | 0 | 3270 | 52 | 50.8 | 50 |\n",
       "| 34 | 0 | 3160 | 50 | 74.5 | 85 |\n",
       "| 35 | 0 | 3400 | 52 | 59.2 | 60 |\n",
       "| 36 | 0 | 3420 | 53 | 59.0 | 55 |\n",
       "\n"
      ],
      "text/plain": [
       "   Group ChildWeight ChildHeight MotherWeightBefore MotherWeightAfter\n",
       "1  0     3750        52          76.3               77               \n",
       "6  1     3550        53          76.0               88               \n",
       "20 0     3390        51          73.0               69               \n",
       "32 0     4200        55          72.0               80               \n",
       "33 0     3270        52          50.8               50               \n",
       "34 0     3160        50          74.5               85               \n",
       "35 0     3400        52          59.2               60               \n",
       "36 0     3420        53          59.0               55               "
      ]
     },
     "metadata": {},
     "output_type": "display_data"
    }
   ],
   "source": [
    "B"
   ]
  },
  {
   "cell_type": "code",
   "execution_count": 19,
   "metadata": {},
   "outputs": [
    {
     "data": {
      "text/html": [
       "<table class=\"dataframe\">\n",
       "<caption>A data.frame: 11 × 5</caption>\n",
       "<thead>\n",
       "\t<tr><th></th><th scope=col>Group</th><th scope=col>ChildWeight</th><th scope=col>ChildHeight</th><th scope=col>MotherWeightBefore</th><th scope=col>MotherWeightAfter</th></tr>\n",
       "\t<tr><th></th><th scope=col>&lt;int&gt;</th><th scope=col>&lt;int&gt;</th><th scope=col>&lt;int&gt;</th><th scope=col>&lt;dbl&gt;</th><th scope=col>&lt;int&gt;</th></tr>\n",
       "</thead>\n",
       "<tbody>\n",
       "\t<tr><th scope=row>14</th><td>1</td><td>3600</td><td>52</td><td> 86.0</td><td>107</td></tr>\n",
       "\t<tr><th scope=row>21</th><td>2</td><td>3500</td><td>51</td><td>111.8</td><td>120</td></tr>\n",
       "\t<tr><th scope=row>22</th><td>2</td><td>4930</td><td>58</td><td>102.0</td><td>105</td></tr>\n",
       "\t<tr><th scope=row>24</th><td>2</td><td>3330</td><td>53</td><td>102.0</td><td>102</td></tr>\n",
       "\t<tr><th scope=row>25</th><td>2</td><td>3500</td><td>53</td><td>108.8</td><td>105</td></tr>\n",
       "\t<tr><th scope=row>26</th><td>2</td><td>3140</td><td>50</td><td>121.0</td><td>123</td></tr>\n",
       "\t<tr><th scope=row>27</th><td>2</td><td>3350</td><td>51</td><td> 97.3</td><td>105</td></tr>\n",
       "\t<tr><th scope=row>28</th><td>2</td><td>3590</td><td>53</td><td>122.0</td><td>110</td></tr>\n",
       "\t<tr><th scope=row>29</th><td>2</td><td>3410</td><td>52</td><td>104.0</td><td>114</td></tr>\n",
       "\t<tr><th scope=row>30</th><td>2</td><td>3280</td><td>52</td><td> 94.0</td><td>115</td></tr>\n",
       "\t<tr><th scope=row>31</th><td>2</td><td>3420</td><td>53</td><td>108.0</td><td>112</td></tr>\n",
       "</tbody>\n",
       "</table>\n"
      ],
      "text/latex": [
       "A data.frame: 11 × 5\n",
       "\\begin{tabular}{r|lllll}\n",
       "  & Group & ChildWeight & ChildHeight & MotherWeightBefore & MotherWeightAfter\\\\\n",
       "  & <int> & <int> & <int> & <dbl> & <int>\\\\\n",
       "\\hline\n",
       "\t14 & 1 & 3600 & 52 &  86.0 & 107\\\\\n",
       "\t21 & 2 & 3500 & 51 & 111.8 & 120\\\\\n",
       "\t22 & 2 & 4930 & 58 & 102.0 & 105\\\\\n",
       "\t24 & 2 & 3330 & 53 & 102.0 & 102\\\\\n",
       "\t25 & 2 & 3500 & 53 & 108.8 & 105\\\\\n",
       "\t26 & 2 & 3140 & 50 & 121.0 & 123\\\\\n",
       "\t27 & 2 & 3350 & 51 &  97.3 & 105\\\\\n",
       "\t28 & 2 & 3590 & 53 & 122.0 & 110\\\\\n",
       "\t29 & 2 & 3410 & 52 & 104.0 & 114\\\\\n",
       "\t30 & 2 & 3280 & 52 &  94.0 & 115\\\\\n",
       "\t31 & 2 & 3420 & 53 & 108.0 & 112\\\\\n",
       "\\end{tabular}\n"
      ],
      "text/markdown": [
       "\n",
       "A data.frame: 11 × 5\n",
       "\n",
       "| <!--/--> | Group &lt;int&gt; | ChildWeight &lt;int&gt; | ChildHeight &lt;int&gt; | MotherWeightBefore &lt;dbl&gt; | MotherWeightAfter &lt;int&gt; |\n",
       "|---|---|---|---|---|---|\n",
       "| 14 | 1 | 3600 | 52 |  86.0 | 107 |\n",
       "| 21 | 2 | 3500 | 51 | 111.8 | 120 |\n",
       "| 22 | 2 | 4930 | 58 | 102.0 | 105 |\n",
       "| 24 | 2 | 3330 | 53 | 102.0 | 102 |\n",
       "| 25 | 2 | 3500 | 53 | 108.8 | 105 |\n",
       "| 26 | 2 | 3140 | 50 | 121.0 | 123 |\n",
       "| 27 | 2 | 3350 | 51 |  97.3 | 105 |\n",
       "| 28 | 2 | 3590 | 53 | 122.0 | 110 |\n",
       "| 29 | 2 | 3410 | 52 | 104.0 | 114 |\n",
       "| 30 | 2 | 3280 | 52 |  94.0 | 115 |\n",
       "| 31 | 2 | 3420 | 53 | 108.0 | 112 |\n",
       "\n"
      ],
      "text/plain": [
       "   Group ChildWeight ChildHeight MotherWeightBefore MotherWeightAfter\n",
       "14 1     3600        52           86.0              107              \n",
       "21 2     3500        51          111.8              120              \n",
       "22 2     4930        58          102.0              105              \n",
       "24 2     3330        53          102.0              102              \n",
       "25 2     3500        53          108.8              105              \n",
       "26 2     3140        50          121.0              123              \n",
       "27 2     3350        51           97.3              105              \n",
       "28 2     3590        53          122.0              110              \n",
       "29 2     3410        52          104.0              114              \n",
       "30 2     3280        52           94.0              115              \n",
       "31 2     3420        53          108.0              112              "
      ]
     },
     "metadata": {},
     "output_type": "display_data"
    }
   ],
   "source": [
    "C"
   ]
  },
  {
   "cell_type": "markdown",
   "metadata": {},
   "source": [
    "Сравним с классификацией полученной встроенной функцией."
   ]
  },
  {
   "cell_type": "code",
   "execution_count": 20,
   "metadata": {},
   "outputs": [
    {
     "data": {
      "text/html": [
       "<table class=\"dataframe\">\n",
       "<caption>A data.frame: 17 × 5</caption>\n",
       "<thead>\n",
       "\t<tr><th></th><th scope=col>Group</th><th scope=col>ChildWeight</th><th scope=col>ChildHeight</th><th scope=col>MotherWeightBefore</th><th scope=col>MotherWeightAfter</th></tr>\n",
       "\t<tr><th></th><th scope=col>&lt;int&gt;</th><th scope=col>&lt;int&gt;</th><th scope=col>&lt;int&gt;</th><th scope=col>&lt;dbl&gt;</th><th scope=col>&lt;int&gt;</th></tr>\n",
       "</thead>\n",
       "<tbody>\n",
       "\t<tr><th scope=row>2</th><td>1</td><td>3500</td><td>54</td><td> 84.0</td><td>92</td></tr>\n",
       "\t<tr><th scope=row>3</th><td>1</td><td>3840</td><td>54</td><td> 90.0</td><td>91</td></tr>\n",
       "\t<tr><th scope=row>4</th><td>1</td><td>4120</td><td>54</td><td> 82.5</td><td>80</td></tr>\n",
       "\t<tr><th scope=row>5</th><td>1</td><td>3750</td><td>53</td><td> 86.0</td><td>80</td></tr>\n",
       "\t<tr><th scope=row>7</th><td>1</td><td>3500</td><td>54</td><td> 91.0</td><td>82</td></tr>\n",
       "\t<tr><th scope=row>8</th><td>1</td><td>3600</td><td>52</td><td> 98.2</td><td>98</td></tr>\n",
       "\t<tr><th scope=row>9</th><td>1</td><td>3000</td><td>49</td><td> 94.0</td><td>94</td></tr>\n",
       "\t<tr><th scope=row>10</th><td>1</td><td>3850</td><td>53</td><td> 80.7</td><td>76</td></tr>\n",
       "\t<tr><th scope=row>11</th><td>1</td><td>3800</td><td>53</td><td> 98.8</td><td>98</td></tr>\n",
       "\t<tr><th scope=row>12</th><td>1</td><td>2790</td><td>48</td><td>102.0</td><td>99</td></tr>\n",
       "\t<tr><th scope=row>13</th><td>1</td><td>3250</td><td>51</td><td> 90.5</td><td>68</td></tr>\n",
       "\t<tr><th scope=row>15</th><td>1</td><td>3850</td><td>56</td><td> 84.4</td><td>93</td></tr>\n",
       "\t<tr><th scope=row>16</th><td>1</td><td>2890</td><td>49</td><td> 82.0</td><td>82</td></tr>\n",
       "\t<tr><th scope=row>17</th><td>1</td><td>3100</td><td>50</td><td> 86.0</td><td>90</td></tr>\n",
       "\t<tr><th scope=row>18</th><td>1</td><td>3330</td><td>51</td><td> 78.1</td><td>81</td></tr>\n",
       "\t<tr><th scope=row>19</th><td>1</td><td>3200</td><td>52</td><td> 91.0</td><td>88</td></tr>\n",
       "\t<tr><th scope=row>23</th><td>2</td><td>4250</td><td>53</td><td> 95.5</td><td>98</td></tr>\n",
       "</tbody>\n",
       "</table>\n"
      ],
      "text/latex": [
       "A data.frame: 17 × 5\n",
       "\\begin{tabular}{r|lllll}\n",
       "  & Group & ChildWeight & ChildHeight & MotherWeightBefore & MotherWeightAfter\\\\\n",
       "  & <int> & <int> & <int> & <dbl> & <int>\\\\\n",
       "\\hline\n",
       "\t2 & 1 & 3500 & 54 &  84.0 & 92\\\\\n",
       "\t3 & 1 & 3840 & 54 &  90.0 & 91\\\\\n",
       "\t4 & 1 & 4120 & 54 &  82.5 & 80\\\\\n",
       "\t5 & 1 & 3750 & 53 &  86.0 & 80\\\\\n",
       "\t7 & 1 & 3500 & 54 &  91.0 & 82\\\\\n",
       "\t8 & 1 & 3600 & 52 &  98.2 & 98\\\\\n",
       "\t9 & 1 & 3000 & 49 &  94.0 & 94\\\\\n",
       "\t10 & 1 & 3850 & 53 &  80.7 & 76\\\\\n",
       "\t11 & 1 & 3800 & 53 &  98.8 & 98\\\\\n",
       "\t12 & 1 & 2790 & 48 & 102.0 & 99\\\\\n",
       "\t13 & 1 & 3250 & 51 &  90.5 & 68\\\\\n",
       "\t15 & 1 & 3850 & 56 &  84.4 & 93\\\\\n",
       "\t16 & 1 & 2890 & 49 &  82.0 & 82\\\\\n",
       "\t17 & 1 & 3100 & 50 &  86.0 & 90\\\\\n",
       "\t18 & 1 & 3330 & 51 &  78.1 & 81\\\\\n",
       "\t19 & 1 & 3200 & 52 &  91.0 & 88\\\\\n",
       "\t23 & 2 & 4250 & 53 &  95.5 & 98\\\\\n",
       "\\end{tabular}\n"
      ],
      "text/markdown": [
       "\n",
       "A data.frame: 17 × 5\n",
       "\n",
       "| <!--/--> | Group &lt;int&gt; | ChildWeight &lt;int&gt; | ChildHeight &lt;int&gt; | MotherWeightBefore &lt;dbl&gt; | MotherWeightAfter &lt;int&gt; |\n",
       "|---|---|---|---|---|---|\n",
       "| 2 | 1 | 3500 | 54 |  84.0 | 92 |\n",
       "| 3 | 1 | 3840 | 54 |  90.0 | 91 |\n",
       "| 4 | 1 | 4120 | 54 |  82.5 | 80 |\n",
       "| 5 | 1 | 3750 | 53 |  86.0 | 80 |\n",
       "| 7 | 1 | 3500 | 54 |  91.0 | 82 |\n",
       "| 8 | 1 | 3600 | 52 |  98.2 | 98 |\n",
       "| 9 | 1 | 3000 | 49 |  94.0 | 94 |\n",
       "| 10 | 1 | 3850 | 53 |  80.7 | 76 |\n",
       "| 11 | 1 | 3800 | 53 |  98.8 | 98 |\n",
       "| 12 | 1 | 2790 | 48 | 102.0 | 99 |\n",
       "| 13 | 1 | 3250 | 51 |  90.5 | 68 |\n",
       "| 15 | 1 | 3850 | 56 |  84.4 | 93 |\n",
       "| 16 | 1 | 2890 | 49 |  82.0 | 82 |\n",
       "| 17 | 1 | 3100 | 50 |  86.0 | 90 |\n",
       "| 18 | 1 | 3330 | 51 |  78.1 | 81 |\n",
       "| 19 | 1 | 3200 | 52 |  91.0 | 88 |\n",
       "| 23 | 2 | 4250 | 53 |  95.5 | 98 |\n",
       "\n"
      ],
      "text/plain": [
       "   Group ChildWeight ChildHeight MotherWeightBefore MotherWeightAfter\n",
       "2  1     3500        54           84.0              92               \n",
       "3  1     3840        54           90.0              91               \n",
       "4  1     4120        54           82.5              80               \n",
       "5  1     3750        53           86.0              80               \n",
       "7  1     3500        54           91.0              82               \n",
       "8  1     3600        52           98.2              98               \n",
       "9  1     3000        49           94.0              94               \n",
       "10 1     3850        53           80.7              76               \n",
       "11 1     3800        53           98.8              98               \n",
       "12 1     2790        48          102.0              99               \n",
       "13 1     3250        51           90.5              68               \n",
       "15 1     3850        56           84.4              93               \n",
       "16 1     2890        49           82.0              82               \n",
       "17 1     3100        50           86.0              90               \n",
       "18 1     3330        51           78.1              81               \n",
       "19 1     3200        52           91.0              88               \n",
       "23 2     4250        53           95.5              98               "
      ]
     },
     "metadata": {},
     "output_type": "display_data"
    }
   ],
   "source": [
    "C <- data[data$MotherWeightAfter >= 100.5,]\n",
    "B <- data[data$MotherWeightAfter < 100.5,]\n",
    "A <- B[B$MotherWeightBefore >= 77.2,]\n",
    "B <- B[B$MotherWeightBefore < 77.2,]\n",
    "A"
   ]
  },
  {
   "cell_type": "code",
   "execution_count": 21,
   "metadata": {},
   "outputs": [
    {
     "data": {
      "text/html": [
       "<table class=\"dataframe\">\n",
       "<caption>A data.frame: 8 × 5</caption>\n",
       "<thead>\n",
       "\t<tr><th></th><th scope=col>Group</th><th scope=col>ChildWeight</th><th scope=col>ChildHeight</th><th scope=col>MotherWeightBefore</th><th scope=col>MotherWeightAfter</th></tr>\n",
       "\t<tr><th></th><th scope=col>&lt;int&gt;</th><th scope=col>&lt;int&gt;</th><th scope=col>&lt;int&gt;</th><th scope=col>&lt;dbl&gt;</th><th scope=col>&lt;int&gt;</th></tr>\n",
       "</thead>\n",
       "<tbody>\n",
       "\t<tr><th scope=row>1</th><td>0</td><td>3750</td><td>52</td><td>76.3</td><td>77</td></tr>\n",
       "\t<tr><th scope=row>6</th><td>1</td><td>3550</td><td>53</td><td>76.0</td><td>88</td></tr>\n",
       "\t<tr><th scope=row>20</th><td>0</td><td>3390</td><td>51</td><td>73.0</td><td>69</td></tr>\n",
       "\t<tr><th scope=row>32</th><td>0</td><td>4200</td><td>55</td><td>72.0</td><td>80</td></tr>\n",
       "\t<tr><th scope=row>33</th><td>0</td><td>3270</td><td>52</td><td>50.8</td><td>50</td></tr>\n",
       "\t<tr><th scope=row>34</th><td>0</td><td>3160</td><td>50</td><td>74.5</td><td>85</td></tr>\n",
       "\t<tr><th scope=row>35</th><td>0</td><td>3400</td><td>52</td><td>59.2</td><td>60</td></tr>\n",
       "\t<tr><th scope=row>36</th><td>0</td><td>3420</td><td>53</td><td>59.0</td><td>55</td></tr>\n",
       "</tbody>\n",
       "</table>\n"
      ],
      "text/latex": [
       "A data.frame: 8 × 5\n",
       "\\begin{tabular}{r|lllll}\n",
       "  & Group & ChildWeight & ChildHeight & MotherWeightBefore & MotherWeightAfter\\\\\n",
       "  & <int> & <int> & <int> & <dbl> & <int>\\\\\n",
       "\\hline\n",
       "\t1 & 0 & 3750 & 52 & 76.3 & 77\\\\\n",
       "\t6 & 1 & 3550 & 53 & 76.0 & 88\\\\\n",
       "\t20 & 0 & 3390 & 51 & 73.0 & 69\\\\\n",
       "\t32 & 0 & 4200 & 55 & 72.0 & 80\\\\\n",
       "\t33 & 0 & 3270 & 52 & 50.8 & 50\\\\\n",
       "\t34 & 0 & 3160 & 50 & 74.5 & 85\\\\\n",
       "\t35 & 0 & 3400 & 52 & 59.2 & 60\\\\\n",
       "\t36 & 0 & 3420 & 53 & 59.0 & 55\\\\\n",
       "\\end{tabular}\n"
      ],
      "text/markdown": [
       "\n",
       "A data.frame: 8 × 5\n",
       "\n",
       "| <!--/--> | Group &lt;int&gt; | ChildWeight &lt;int&gt; | ChildHeight &lt;int&gt; | MotherWeightBefore &lt;dbl&gt; | MotherWeightAfter &lt;int&gt; |\n",
       "|---|---|---|---|---|---|\n",
       "| 1 | 0 | 3750 | 52 | 76.3 | 77 |\n",
       "| 6 | 1 | 3550 | 53 | 76.0 | 88 |\n",
       "| 20 | 0 | 3390 | 51 | 73.0 | 69 |\n",
       "| 32 | 0 | 4200 | 55 | 72.0 | 80 |\n",
       "| 33 | 0 | 3270 | 52 | 50.8 | 50 |\n",
       "| 34 | 0 | 3160 | 50 | 74.5 | 85 |\n",
       "| 35 | 0 | 3400 | 52 | 59.2 | 60 |\n",
       "| 36 | 0 | 3420 | 53 | 59.0 | 55 |\n",
       "\n"
      ],
      "text/plain": [
       "   Group ChildWeight ChildHeight MotherWeightBefore MotherWeightAfter\n",
       "1  0     3750        52          76.3               77               \n",
       "6  1     3550        53          76.0               88               \n",
       "20 0     3390        51          73.0               69               \n",
       "32 0     4200        55          72.0               80               \n",
       "33 0     3270        52          50.8               50               \n",
       "34 0     3160        50          74.5               85               \n",
       "35 0     3400        52          59.2               60               \n",
       "36 0     3420        53          59.0               55               "
      ]
     },
     "metadata": {},
     "output_type": "display_data"
    }
   ],
   "source": [
    "B"
   ]
  },
  {
   "cell_type": "code",
   "execution_count": 22,
   "metadata": {},
   "outputs": [
    {
     "data": {
      "text/html": [
       "<table class=\"dataframe\">\n",
       "<caption>A data.frame: 11 × 5</caption>\n",
       "<thead>\n",
       "\t<tr><th></th><th scope=col>Group</th><th scope=col>ChildWeight</th><th scope=col>ChildHeight</th><th scope=col>MotherWeightBefore</th><th scope=col>MotherWeightAfter</th></tr>\n",
       "\t<tr><th></th><th scope=col>&lt;int&gt;</th><th scope=col>&lt;int&gt;</th><th scope=col>&lt;int&gt;</th><th scope=col>&lt;dbl&gt;</th><th scope=col>&lt;int&gt;</th></tr>\n",
       "</thead>\n",
       "<tbody>\n",
       "\t<tr><th scope=row>14</th><td>1</td><td>3600</td><td>52</td><td> 86.0</td><td>107</td></tr>\n",
       "\t<tr><th scope=row>21</th><td>2</td><td>3500</td><td>51</td><td>111.8</td><td>120</td></tr>\n",
       "\t<tr><th scope=row>22</th><td>2</td><td>4930</td><td>58</td><td>102.0</td><td>105</td></tr>\n",
       "\t<tr><th scope=row>24</th><td>2</td><td>3330</td><td>53</td><td>102.0</td><td>102</td></tr>\n",
       "\t<tr><th scope=row>25</th><td>2</td><td>3500</td><td>53</td><td>108.8</td><td>105</td></tr>\n",
       "\t<tr><th scope=row>26</th><td>2</td><td>3140</td><td>50</td><td>121.0</td><td>123</td></tr>\n",
       "\t<tr><th scope=row>27</th><td>2</td><td>3350</td><td>51</td><td> 97.3</td><td>105</td></tr>\n",
       "\t<tr><th scope=row>28</th><td>2</td><td>3590</td><td>53</td><td>122.0</td><td>110</td></tr>\n",
       "\t<tr><th scope=row>29</th><td>2</td><td>3410</td><td>52</td><td>104.0</td><td>114</td></tr>\n",
       "\t<tr><th scope=row>30</th><td>2</td><td>3280</td><td>52</td><td> 94.0</td><td>115</td></tr>\n",
       "\t<tr><th scope=row>31</th><td>2</td><td>3420</td><td>53</td><td>108.0</td><td>112</td></tr>\n",
       "</tbody>\n",
       "</table>\n"
      ],
      "text/latex": [
       "A data.frame: 11 × 5\n",
       "\\begin{tabular}{r|lllll}\n",
       "  & Group & ChildWeight & ChildHeight & MotherWeightBefore & MotherWeightAfter\\\\\n",
       "  & <int> & <int> & <int> & <dbl> & <int>\\\\\n",
       "\\hline\n",
       "\t14 & 1 & 3600 & 52 &  86.0 & 107\\\\\n",
       "\t21 & 2 & 3500 & 51 & 111.8 & 120\\\\\n",
       "\t22 & 2 & 4930 & 58 & 102.0 & 105\\\\\n",
       "\t24 & 2 & 3330 & 53 & 102.0 & 102\\\\\n",
       "\t25 & 2 & 3500 & 53 & 108.8 & 105\\\\\n",
       "\t26 & 2 & 3140 & 50 & 121.0 & 123\\\\\n",
       "\t27 & 2 & 3350 & 51 &  97.3 & 105\\\\\n",
       "\t28 & 2 & 3590 & 53 & 122.0 & 110\\\\\n",
       "\t29 & 2 & 3410 & 52 & 104.0 & 114\\\\\n",
       "\t30 & 2 & 3280 & 52 &  94.0 & 115\\\\\n",
       "\t31 & 2 & 3420 & 53 & 108.0 & 112\\\\\n",
       "\\end{tabular}\n"
      ],
      "text/markdown": [
       "\n",
       "A data.frame: 11 × 5\n",
       "\n",
       "| <!--/--> | Group &lt;int&gt; | ChildWeight &lt;int&gt; | ChildHeight &lt;int&gt; | MotherWeightBefore &lt;dbl&gt; | MotherWeightAfter &lt;int&gt; |\n",
       "|---|---|---|---|---|---|\n",
       "| 14 | 1 | 3600 | 52 |  86.0 | 107 |\n",
       "| 21 | 2 | 3500 | 51 | 111.8 | 120 |\n",
       "| 22 | 2 | 4930 | 58 | 102.0 | 105 |\n",
       "| 24 | 2 | 3330 | 53 | 102.0 | 102 |\n",
       "| 25 | 2 | 3500 | 53 | 108.8 | 105 |\n",
       "| 26 | 2 | 3140 | 50 | 121.0 | 123 |\n",
       "| 27 | 2 | 3350 | 51 |  97.3 | 105 |\n",
       "| 28 | 2 | 3590 | 53 | 122.0 | 110 |\n",
       "| 29 | 2 | 3410 | 52 | 104.0 | 114 |\n",
       "| 30 | 2 | 3280 | 52 |  94.0 | 115 |\n",
       "| 31 | 2 | 3420 | 53 | 108.0 | 112 |\n",
       "\n"
      ],
      "text/plain": [
       "   Group ChildWeight ChildHeight MotherWeightBefore MotherWeightAfter\n",
       "14 1     3600        52           86.0              107              \n",
       "21 2     3500        51          111.8              120              \n",
       "22 2     4930        58          102.0              105              \n",
       "24 2     3330        53          102.0              102              \n",
       "25 2     3500        53          108.8              105              \n",
       "26 2     3140        50          121.0              123              \n",
       "27 2     3350        51           97.3              105              \n",
       "28 2     3590        53          122.0              110              \n",
       "29 2     3410        52          104.0              114              \n",
       "30 2     3280        52           94.0              115              \n",
       "31 2     3420        53          108.0              112              "
      ]
     },
     "metadata": {},
     "output_type": "display_data"
    }
   ],
   "source": [
    "C"
   ]
  },
  {
   "cell_type": "markdown",
   "metadata": {},
   "source": [
    "Качество классификации совпадает. "
   ]
  },
  {
   "cell_type": "markdown",
   "metadata": {},
   "source": [
    "### Случайный лес"
   ]
  },
  {
   "cell_type": "code",
   "execution_count": 23,
   "metadata": {},
   "outputs": [
    {
     "name": "stderr",
     "output_type": "stream",
     "text": [
      "Warning message:\n",
      "\"package 'randomForest' was built under R version 4.0.5\"\n",
      "randomForest 4.6-14\n",
      "\n",
      "Type rfNews() to see new features/changes/bug fixes.\n",
      "\n"
     ]
    },
    {
     "data": {
      "text/plain": [
       "   \n",
       "     0  1  2\n",
       "  0  5  2  0\n",
       "  1  2 15  1\n",
       "  2  0  2  9"
      ]
     },
     "metadata": {},
     "output_type": "display_data"
    }
   ],
   "source": [
    "library(\"randomForest\")\n",
    "data.rf <- randomForest(as.factor(Group)~., data = data)\n",
    "table(data$Group, predict(data.rf))"
   ]
  },
  {
   "cell_type": "code",
   "execution_count": 24,
   "metadata": {},
   "outputs": [
    {
     "name": "stdout",
     "output_type": "stream",
     "text": [
      "\n",
      "Call:\n",
      " randomForest(formula = as.factor(Group) ~ ., data = data) \n",
      "               Type of random forest: classification\n",
      "                     Number of trees: 500\n",
      "No. of variables tried at each split: 2\n",
      "\n",
      "        OOB estimate of  error rate: 19.44%\n",
      "Confusion matrix:\n",
      "  0  1 2 class.error\n",
      "0 5  2 0   0.2857143\n",
      "1 2 15 1   0.1666667\n",
      "2 0  2 9   0.1818182\n"
     ]
    }
   ],
   "source": [
    "print(data.rf)"
   ]
  },
  {
   "cell_type": "markdown",
   "metadata": {},
   "source": [
    "Информативность признаков:"
   ]
  },
  {
   "cell_type": "code",
   "execution_count": 25,
   "metadata": {},
   "outputs": [
    {
     "data": {
      "text/html": [
       "<table class=\"dataframe\">\n",
       "<caption>A matrix: 4 × 1 of type dbl</caption>\n",
       "<thead>\n",
       "\t<tr><th></th><th scope=col>MeanDecreaseGini</th></tr>\n",
       "</thead>\n",
       "<tbody>\n",
       "\t<tr><th scope=row>ChildWeight</th><td>2.366535</td></tr>\n",
       "\t<tr><th scope=row>ChildHeight</th><td>0.816124</td></tr>\n",
       "\t<tr><th scope=row>MotherWeightBefore</th><td>9.791274</td></tr>\n",
       "\t<tr><th scope=row>MotherWeightAfter</th><td>8.615379</td></tr>\n",
       "</tbody>\n",
       "</table>\n"
      ],
      "text/latex": [
       "A matrix: 4 × 1 of type dbl\n",
       "\\begin{tabular}{r|l}\n",
       "  & MeanDecreaseGini\\\\\n",
       "\\hline\n",
       "\tChildWeight & 2.366535\\\\\n",
       "\tChildHeight & 0.816124\\\\\n",
       "\tMotherWeightBefore & 9.791274\\\\\n",
       "\tMotherWeightAfter & 8.615379\\\\\n",
       "\\end{tabular}\n"
      ],
      "text/markdown": [
       "\n",
       "A matrix: 4 × 1 of type dbl\n",
       "\n",
       "| <!--/--> | MeanDecreaseGini |\n",
       "|---|---|\n",
       "| ChildWeight | 2.366535 |\n",
       "| ChildHeight | 0.816124 |\n",
       "| MotherWeightBefore | 9.791274 |\n",
       "| MotherWeightAfter | 8.615379 |\n",
       "\n"
      ],
      "text/plain": [
       "                   MeanDecreaseGini\n",
       "ChildWeight        2.366535        \n",
       "ChildHeight        0.816124        \n",
       "MotherWeightBefore 9.791274        \n",
       "MotherWeightAfter  8.615379        "
      ]
     },
     "metadata": {},
     "output_type": "display_data"
    }
   ],
   "source": [
    "importance(data.rf) "
   ]
  },
  {
   "cell_type": "markdown",
   "metadata": {},
   "source": [
    "Классифицирующее правило по тем же признакам, но доля ошибок по методу случайного леса больше."
   ]
  }
 ],
 "metadata": {
  "kernelspec": {
   "display_name": "R",
   "language": "R",
   "name": "ir"
  },
  "language_info": {
   "codemirror_mode": "r",
   "file_extension": ".r",
   "mimetype": "text/x-r-source",
   "name": "R",
   "pygments_lexer": "r",
   "version": "4.0.4"
  }
 },
 "nbformat": 4,
 "nbformat_minor": 4
}
