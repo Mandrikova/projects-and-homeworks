{
 "cells": [
  {
   "cell_type": "markdown",
   "metadata": {},
   "source": [
    "# <center>Реферат - 2</center>\n",
    "## <center>Состоятельность критерия на примере критерия хи-квадрат для проверки гипотезы согласия с видом распределения</center>\n",
    "### <center>Мандрикова Анастасия</center>"
   ]
  },
  {
   "cell_type": "markdown",
   "metadata": {},
   "source": [
    "Рассмотрим критерий Пирсона для проверки гипотезы согласия эмпирического распределения с теоретическим. Сформулируем нулевую гипотезу $H_{0}$: случайная величина $\\xi$ имеет генеральную функцию распределения $F(x)$. Рассмотрим выборку наблюдений $(x_1, \\dots, x_n)$. Cделаем из нее сгруппированную выборку $(n_1, \\dots, n_r)$, таким образом $\\sum \\limits_{i=1}^{r}n_i = n$ и $n_i$ — количество наблюдений, попавших в интервал $S_i$. Теперь нулевую гипотезу можем рассматривать как равенство вероятностей $p_{i}$, отвечающих выборке $x_1, x_2, \\dots, x_n$, и $p_{i}^0$ — теоретических вероятностей попадания случайной величины в соответсвующий интервал $S_i$:\n",
    "$$H_{0}: p_{i} = p_{i}^{0}.$$ Здесь конечно же выполнено:\n",
    "$$p_{i}^0 = P\\left\\lbrace \\xi \\in S_{i} \\right\\rbrace > 0,\\qquad \\sum_{i=1}^{r}p_{i}^0 = 1.$$\n",
    "Cтатистика критерия при справедливости нулевой гипотезы\n",
    "$$\\chi ^{2} = \\sum _{i=1}^{r}{\\frac {\\left(n_{i}-np_{i}^0\\right)^{2}}{np_{i}^0}} \\xrightarrow[n \\rightarrow \\infty]{d}  \\chi^{2}(r-1).$$\n",
    "Это распределение статистика имеет в случае, когда параметры модели заданы. Если же параметры не известны, можно их оценить по выборке. Если оценки задаются по методу максимального правдоподобия, то статистика $$\\chi ^{2} = \\sum _{i=1}^{r}{\\frac {\\left(n_{i}-np_{i}^0(\\hat{\\theta})\\right)^{2}}{np_{i}^0(\\hat{\\theta})}} \\xrightarrow[n \\rightarrow \\infty]{d}  \\chi^{2}(r-1-k), $$\n",
    "где $k$ - количество параметров."
   ]
  },
  {
   "cell_type": "markdown",
   "metadata": {},
   "source": [
    "Вероятность ошибки первого рода $\\alpha_{\\text{I}} = P_{H_0}(\\text{отклонить } H_0) = \\alpha$."
   ]
  },
  {
   "cell_type": "markdown",
   "metadata": {},
   "source": [
    "В качестчве альтернативной гипотезы $H_1$ можно рассматривать любое предположение о законе распределения $\\xi$, которое не пересекается с гипотезой $H_0$. Например, $\\xi$ имеет тот же закон распределения, что и в $H_0$, но с другими параметрами или $\\xi$ имеет другой закон распределения."
   ]
  },
  {
   "cell_type": "markdown",
   "metadata": {},
   "source": [
    "Вероятность ошибки второго рода $\\alpha_{\\text{II}} = P_{H_1}(\\text{не отвергнуть } H_0) = \\alpha_{\\text{II}}(n, \\alpha, H_1)$."
   ]
  },
  {
   "cell_type": "markdown",
   "metadata": {},
   "source": [
    "Мощность критерия, против альтернативы $\\beta = 1-\\alpha_{\\text{II}}$. Если $\\beta \\underset{n \\rightarrow \\infty}{\\rightarrow} 1$, то критерий называется состоятельным против данной альтернативы."
   ]
  },
  {
   "cell_type": "markdown",
   "metadata": {},
   "source": [
    "Известно, что критерий Хи-квадрат Пирсона состоятелен против любой альтернативы. Чтобы проверить это, сначала убедимся в применимости критерия."
   ]
  },
  {
   "cell_type": "code",
   "execution_count": 1,
   "metadata": {},
   "outputs": [
    {
     "name": "stderr",
     "output_type": "stream",
     "text": [
      "Warning message:\n",
      "\"package 'MASS' was built under R version 3.6.3\""
     ]
    }
   ],
   "source": [
    "library(MASS)\n",
    "Pearson <- function(X, estim = FALSE, H0 = \"normal\"){\n",
    "  n_i <- hist(X, plot = FALSE)$counts\n",
    "  breaks <- hist(X, plot = FALSE)$breaks\n",
    "  # будем группировать выборку так, чтобы в один интервал попадало хотябы 5 наблюдений\n",
    "  while (sum(n_i < 5) > 0) {\n",
    "    nums <- which(n_i < 5)\n",
    "    pos <- nums[length(nums)]\n",
    "    if (pos == 1){\n",
    "      n_i[pos+1] <- n_i[pos] + n_i[pos+1]\n",
    "      n_i <- n_i[-1]\n",
    "      breaks <- breaks[-2]\n",
    "    }else{\n",
    "      n_i[pos-1] <- n_i[pos] + n_i[pos-1]\n",
    "      n_i <- n_i[-pos]\n",
    "      breaks <- breaks[-pos]\n",
    "    }\n",
    "  }\n",
    "  if (H0 == \"normal\"){\n",
    "      breaks[1] <- -Inf\n",
    "      breaks[length(breaks)] <- Inf\n",
    "      if (estim) {\n",
    "          omp <- fitdistr(X, \"normal\")\n",
    "          p_i <- pnorm(breaks[-1], mean = omp$estimate['mean'], sd = omp$estimate['sd']) - \n",
    "          pnorm(breaks[-length(breaks)], mean = omp$estimate['mean'], sd = omp$estimate['sd'])\n",
    "          df <- length(n_i)-1-2\n",
    "      }\n",
    "      else{\n",
    "          p_i <- pnorm(breaks[-1], mean = 0, sd = 1) - pnorm(breaks[-length(breaks)], mean = 0, sd = 1)\n",
    "          df <- length(n_i)-1\n",
    "      }\n",
    "  }\n",
    "  if (H0 == \"gamma\"){\n",
    "      breaks[1] <- 0\n",
    "      breaks[length(breaks)] <- Inf\n",
    "      omp <- fitdistr(X, \"gamma\")\n",
    "      p_i <- pgamma(breaks[-1], shape = omp$estimate['shape'], rate = omp$estimate['rate']) - \n",
    "      pgamma(breaks[-length(breaks)], shape = omp$estimate['shape'], rate = omp$estimate['rate'])\n",
    "      df <- length(n_i)-1-2\n",
    "  }\n",
    "  N <- sum(n_i)\n",
    "  t <- sum((n_i - p_i*N)^2/(N*p_i))\n",
    "  return(1-pchisq(q = t, df = df))\n",
    "}"
   ]
  },
  {
   "cell_type": "code",
   "execution_count": 2,
   "metadata": {},
   "outputs": [],
   "source": [
    "p_gener <- function(n, R, alpha=0.05, beta = TRUE, H1 = \"norm\", mean = 0, sd = 1){\n",
    "  p <- sapply(1:R, function(i){\n",
    "    if (beta){\n",
    "       if (H1 == \"norm\"){samp <- rnorm(n, mean, sd)}\n",
    "       samp <- rgamma(n, shape = 2, scale = 1/sqrt(2))\n",
    "       samp <- samp - mean(samp)\n",
    "    }\n",
    "    else {samp <- rnorm(n, 0, 1)}\n",
    "    Pearson(samp)\n",
    "  })\n",
    "  sum(p < alpha)/R\n",
    "}"
   ]
  },
  {
   "cell_type": "markdown",
   "metadata": {},
   "source": [
    "Сформулируем нулевую гипотезу $H_0: \\xi \\sim N(0, 1)$. И оценим вероятность ошибки первого рода."
   ]
  },
  {
   "cell_type": "code",
   "execution_count": 3,
   "metadata": {},
   "outputs": [],
   "source": [
    "alpha <- seq(from = 0, to = 1, length.out = 100)"
   ]
  },
  {
   "cell_type": "code",
   "execution_count": 4,
   "metadata": {},
   "outputs": [],
   "source": [
    "alpha_1 <- sapply(alpha, function(a){p_gener(200, 2000, a, beta = F)})"
   ]
  },
  {
   "cell_type": "code",
   "execution_count": 5,
   "metadata": {},
   "outputs": [
    {
     "data": {
      "image/png": "[encoded data removed]",
      "text/plain": [
       "plot without title"
      ]
     },
     "metadata": {},
     "output_type": "display_data"
    }
   ],
   "source": [
    "plot(alpha, alpha_1, type = \"l\", xlab = \"уровень значимости\", ylab = \"ошибка первого рода\", lwd = 2)\n",
    "lines(c(0:1), c(0,1) , type = \"l\", col = \"green\", lwd = 2)\n",
    "legend(\"bottomright\", c(\"Проверяемый критерий\", \"точный критерий\"), \n",
    "       col = c(\"black\", \"green\"), cex=0.7, pch=20, lwd = 2)"
   ]
  },
  {
   "cell_type": "markdown",
   "metadata": {},
   "source": [
    "Получили, что $\\alpha_{\\text{I}} \\approx \\alpha$ (при $\\alpha_{\\text{I}} = \\alpha$ критерий точный), значит критерий применим."
   ]
  },
  {
   "cell_type": "markdown",
   "metadata": {},
   "source": [
    "Вычислим мощность критерия против $H_1: \\xi \\sim N(3, 1)$ и $H_1: \\xi \\text{ подчиняется гамма распределению}$. Для второй альтернативы при моделировании будем смещать выборку из гамма распределения на матожидание, чтобы превратить его в ноль и сделать более похожим на стандартное нормальное. Параметры подобраны так, что бы стандартное отклонение равнялось $1$."
   ]
  },
  {
   "cell_type": "code",
   "execution_count": 6,
   "metadata": {},
   "outputs": [
    {
     "data": {
      "image/png": "[encoded data removed]",
      "text/plain": [
       "Plot with title \"мощность при n=50\""
      ]
     },
     "metadata": {},
     "output_type": "display_data"
    }
   ],
   "source": [
    "beta_n <- sapply(alpha, function(a){p_gener(50, 2000, a, H1 = \"norm\", mean = 3, sd = 1)})\n",
    "beta_g <- sapply(alpha, function(a){p_gener(50, 2000, a, beta = TRUE, H1 = \"gamma\")})\n",
    "plot(alpha, beta_n, type = \"l\", xlab = \"уровень значимости\", ylab = \"мощность\", lwd = 2, main = \"мощность при n=50\")\n",
    "lines(alpha, beta_g, lwd = 2, col = \"blue\")\n",
    "legend(\"bottomright\", c(\"N(3, 1)\", \"Gamma\"), \n",
    "       col = c(\"black\", \"blue\"), cex=0.7, pch=20, lwd = 2)"
   ]
  },
  {
   "cell_type": "code",
   "execution_count": 7,
   "metadata": {},
   "outputs": [
    {
     "data": {
      "image/png": "[encoded data removed]",
      "text/plain": [
       "Plot with title \"мощность при n=200\""
      ]
     },
     "metadata": {},
     "output_type": "display_data"
    }
   ],
   "source": [
    "beta_n <- sapply(alpha, function(a){p_gener(200, 2000, a, H1 = \"norm\", mean = 3, sd = 1)})\n",
    "beta_g <- sapply(alpha, function(a){p_gener(200, 2000, a, beta = TRUE, H1 = \"gamma\")})\n",
    "plot(alpha, beta_n, type = \"l\", xlab = \"уровень значимости\", ylab = \"мощность\", lwd = 2, main = \"мощность при n=200\")\n",
    "lines(alpha, beta_g, lwd = 2, col = \"blue\")\n",
    "legend(\"bottomright\", c(\"N(3, 1)\", \"Gamma\"), \n",
    "       col = c(\"black\", \"blue\"), cex=0.7, pch=20, lwd = 2)"
   ]
  },
  {
   "cell_type": "markdown",
   "metadata": {},
   "source": [
    "Критерий против разных альтернатив сопоставим по мощности. Причем, при увеличении объемов выборки мощность стремится к $1$."
   ]
  },
  {
   "cell_type": "markdown",
   "metadata": {},
   "source": [
    "### Применение критерия к реальным данным"
   ]
  },
  {
   "cell_type": "code",
   "execution_count": 8,
   "metadata": {},
   "outputs": [],
   "source": [
    "X <- mtcars$hp\n",
    "omp <- fitdistr(X, \"gamma\")"
   ]
  },
  {
   "cell_type": "code",
   "execution_count": 9,
   "metadata": {},
   "outputs": [
    {
     "data": {
      "image/png": "[encoded data removed]",
      "text/plain": [
       "Plot with title \"Gross horsepower\""
      ]
     },
     "metadata": {},
     "output_type": "display_data"
    }
   ],
   "source": [
    "hist(X, freq = FALSE, col = \"lightblue\",\n",
    "     xlab = \"Значение элемента выборки\", ylab = \"Плотность\", main = \"Gross horsepower\")\n",
    "x <- seq(50, 350, length.out = 200)\n",
    "y <- dgamma(x, shape = omp$estimate['shape'], rate = omp$estimate['rate'])\n",
    "lines(x, y, lwd = 2, col = \"red\")"
   ]
  },
  {
   "cell_type": "markdown",
   "metadata": {},
   "source": [
    "Поставим нулевую гипотезу $H_0: \\xi \\sim \\Gamma()$. Вычислим $p.value$:"
   ]
  },
  {
   "cell_type": "code",
   "execution_count": 10,
   "metadata": {},
   "outputs": [
    {
     "data": {
      "text/html": [
       "0.531703459183493"
      ],
      "text/latex": [
       "0.531703459183493"
      ],
      "text/markdown": [
       "0.531703459183493"
      ],
      "text/plain": [
       "[1] 0.5317035"
      ]
     },
     "metadata": {},
     "output_type": "display_data"
    }
   ],
   "source": [
    "Pearson(X = X, estim = TRUE, H0 = \"gamma\")"
   ]
  },
  {
   "cell_type": "markdown",
   "metadata": {},
   "source": [
    "Нулевая гипотеза не отвергается."
   ]
  }
 ],
 "metadata": {
  "kernelspec": {
   "display_name": "R",
   "language": "R",
   "name": "ir"
  },
  "language_info": {
   "codemirror_mode": "r",
   "file_extension": ".r",
   "mimetype": "text/x-r-source",
   "name": "R",
   "pygments_lexer": "r",
   "version": "4.0.4"
  }
 },
 "nbformat": 4,
 "nbformat_minor": 4
}
